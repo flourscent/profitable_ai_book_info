{
 "cells": [
  {
   "cell_type": "markdown",
   "metadata": {
    "colab_type": "text",
    "id": "c3T_vo6GYvFD"
   },
   "source": [
    "## 5.3 계절 등 주기성 필드로 매출 예측하기 (시계열 분석)"
   ]
  },
  {
   "cell_type": "markdown",
   "metadata": {
    "colab_type": "text",
    "id": "ZO7cPPEWaA2u"
   },
   "source": [
    "### 공통 전처리"
   ]
  },
  {
   "cell_type": "code",
   "execution_count": null,
   "metadata": {
    "colab": {},
    "colab_type": "code",
    "id": "7qgmy1x_gez9"
   },
   "outputs": [],
   "source": [
    "# 공통 처리\n",
    "\n",
    "# 불필요한 경고 메시지 무시\n",
    "import warnings\n",
    "warnings.filterwarnings('ignore')\n",
    "\n",
    "# 라이브러리 임포트\n",
    "import pandas as pd\n",
    "import numpy as np\n",
    "import matplotlib.pyplot as plt\n",
    "\n",
    "# 한글 글꼴 설정\n",
    "import platform\n",
    "\n",
    "if platform.system() == 'Windows':\n",
    "    plt.rc('font', family='Malgun Gothic')\n",
    "elif platform.system() == 'Darwin':\n",
    "    plt.rc('font', family='Apple Gothic')\n",
    "\n",
    "# 데이터프레임 출력용 함수\n",
    "from IPython.display import display\n",
    "\n",
    "# 숫자 출력 조정\n",
    "# 넘파이 부동소수점 출력 자리수 설정\n",
    "np.set_printoptions(suppress=True, precision=4)\n",
    "\n",
    "# 판다스 부동소수점 출력 자리수 설정\n",
    "pd.options.display.float_format = '{:.4f}'.format\n",
    "\n",
    "# 데이터프레임 모든 필드 출력\n",
    "pd.set_option(\"display.max_columns\",None)\n",
    "\n",
    "# 그래프 글꼴 크기 설정\n",
    "plt.rcParams[\"font.size\"] = 14\n",
    "\n",
    "# 난수 시드\n",
    "random_seed = 123"
   ]
  },
  {
   "cell_type": "markdown",
   "metadata": {
    "colab_type": "text",
    "id": "rFsr2f59bY9t"
   },
   "source": [
    "데이터 집합 배포 페이지 URL\n",
    "https://archive.ics.uci.edu/ml/datasets/bike+sharing+dataset"
   ]
  },
  {
   "cell_type": "markdown",
   "metadata": {
    "colab_type": "text",
    "id": "BxV4nTzNbY9t"
   },
   "source": [
    "#### 데이터 필드 정보\n",
    "\n",
    "instant 인덱스 \n",
    "dteday 날짜(yy-mm-dd)  \n",
    "season 계절 (1: 겨울 2: 봄 3: 여름 4: 가을)  \n",
    "yr 연도 (0: 2011, 1:2012)  \n",
    "mnth 월  (1 - 12)  \n",
    "hr 시간  (0 - 23)  \n",
    "holiday 휴일  \n",
    "weekday 요일 (0 - 6)  \n",
    "workingday  근무일 (1: 근무일 0: 휴일)  \n",
    "weathersit 날씨 (1: 맑은뒤흐림 2: 안개 3: 약한비 4: 강한비)  \n",
    "temp 기온 (정규화됨)  \n",
    "atemp 체감기온 (정규화됨)  \n",
    "hum 습도 (정규화됨)  \n",
    "windspeed 풍속 (정규화됨)  \n",
    "casual 비가입유저 이용수  \n",
    "registered 가입유저 이용수  \n",
    "cnt 전체유저 이용수  "
   ]
  },
  {
   "cell_type": "markdown",
   "metadata": {
    "colab_type": "text",
    "id": "HMptNeWrbY9t"
   },
   "source": [
    "### 5.3.4 데이터 읽어 들이기부터 데이터 확인까지"
   ]
  },
  {
   "cell_type": "markdown",
   "metadata": {
    "colab_type": "text",
    "id": "8_OCPaWVge0B"
   },
   "source": [
    "#### 데이터 읽어 들이기"
   ]
  },
  {
   "cell_type": "code",
   "execution_count": null,
   "metadata": {
    "colab": {},
    "colab_type": "code",
    "id": "yIg1xgb-bY9u"
   },
   "outputs": [],
   "source": [
    "## 역자 주: wget, tail 명령에서 오류가 발생할 경우\n",
    "# 데이터 집합 URL에서 파일을 직접 내려받아\n",
    "# notebooks 디렉토리에 압축을 해제하고 진행하면 됩니다.\n",
    "\n",
    "# 데이터 집합 배포 페이지 URL\n",
    "url = 'https://archive.ics.uci.edu/ml/\\\n",
    "machine-learning-databases/00275/\\\n",
    "Bike-Sharing-Dataset.zip'\n",
    "\n",
    "# 데이터를 내려받아 압축해제\n",
    "!wget $url -O Bike-Sharing-Dataset.zip | tail -n 1\n",
    "!unzip -o Bike-Sharing-Dataset.zip | tail -n 1"
   ]
  },
  {
   "cell_type": "code",
   "execution_count": null,
   "metadata": {
    "colab": {},
    "colab_type": "code",
    "id": "Ln2UK2cxge0C"
   },
   "outputs": [],
   "source": [
    "# day.csv 파일을 데이터프레임으로 읽어들임\n",
    "# 이때 날짜 필드를 parse_dates로 지정한다\n",
    "df = pd.read_csv('day.csv', parse_dates=[1])"
   ]
  },
  {
   "cell_type": "code",
   "execution_count": null,
   "metadata": {
    "colab": {},
    "colab_type": "code",
    "id": "t5vqXbzmge0F"
   },
   "outputs": [],
   "source": [
    "# instant 필드는 일련번호이므로 제거한다\n",
    "df = df.drop('instant', axis=1)\n",
    "\n",
    "# 우리말 필드명 정의\n",
    "\n",
    "columns = [\n",
    "    '날짜', '계절', '연도', '월', '휴일', '요일', '근무일', '날씨', \n",
    "    '온도', '체감온도', '습도', '풍속', \n",
    "    '비가입유저_이용수', '가입유저_이용수', '전체유저_이용수'\n",
    "]\n",
    "\n",
    "# 필드명을 우리말 필드명으로 변경\n",
    "df.columns = columns"
   ]
  },
  {
   "cell_type": "markdown",
   "metadata": {
    "colab_type": "text",
    "id": "mtZrRFuAbY91"
   },
   "source": [
    "#### 데이터 확인"
   ]
  },
  {
   "cell_type": "code",
   "execution_count": null,
   "metadata": {
    "colab": {},
    "colab_type": "code",
    "id": "ZmEd-65Rge0I",
    "scrolled": false
   },
   "outputs": [],
   "source": [
    "# 처음 다섯 줄을 화면에 출력\n",
    "display(df.head())\n",
    "\n",
    "# 마지막 다섯 줄을 화면에 출력\n",
    "display(df.tail())"
   ]
  },
  {
   "cell_type": "markdown",
   "metadata": {
    "colab_type": "text",
    "id": "DGzl1rb4bY94"
   },
   "source": [
    "### 5.3.5 데이터 전처리와 데이터 분할"
   ]
  },
  {
   "cell_type": "markdown",
   "metadata": {
    "colab_type": "text",
    "id": "TjD_sEDtbY94"
   },
   "source": [
    "#### 데이터 전처리\n",
    "프로펫에서 사용할 수 있도록 필드명 변경"
   ]
  },
  {
   "cell_type": "code",
   "execution_count": null,
   "metadata": {
    "colab": {},
    "colab_type": "code",
    "id": "Jlm4J8gSbY95"
   },
   "outputs": [],
   "source": [
    "# '날짜'와 '가입사용자_이용수' 필드만 추출해\n",
    "# 필드명을 '날짜'는 ds, '가입사용자_이용수'는 y로 \n",
    "# 바꾼 새 데이터프레임 df를 생성한다\n",
    "\n",
    "# 데이터프레임 사본을 생성\n",
    "df2 = df.copy()\n",
    "\n",
    "# '날짜'와 '가입사용자_이용수' 필드를 추출\n",
    "df2 = df2[['날짜', '가입유저_이용수']]\n",
    "\n",
    "# 필드명을 교체\n",
    "df2.columns = ['ds', 'y']\n",
    "\n",
    "# 결과 확인\n",
    "display(df2.head())\n"
   ]
  },
  {
   "cell_type": "markdown",
   "metadata": {
    "colab_type": "text",
    "id": "WmzWhLS8bY97"
   },
   "source": [
    "#### 데이터 분할\n",
    "2012년 11월 1일 이전 분은 학습 데이터(x_train), 이후 분은 검증 데이터(x_test)로 삼는다"
   ]
  },
  {
   "cell_type": "code",
   "execution_count": null,
   "metadata": {
    "colab": {},
    "colab_type": "code",
    "id": "vohq0EA-bY97"
   },
   "outputs": [],
   "source": [
    "# 분할 기준 날짜 mday\n",
    "mday = pd.to_datetime('2012-11-1')\n",
    "\n",
    "# 학습용 데이터의 index와 검증용 데이터의 index를 생성\n",
    "train_index = df2['ds'] < mday\n",
    "test_index = df2['ds'] >= mday\n",
    "\n",
    "# 입력 데이터 분할\n",
    "x_train = df2[train_index]\n",
    "x_test = df2[test_index]\n",
    "\n",
    "# 날짜 데이터 분할(그래프 출력용)\n",
    "dates_test = df2['ds'][test_index]"
   ]
  },
  {
   "cell_type": "markdown",
   "metadata": {
    "colab_type": "text",
    "id": "y67jXLzBbY99"
   },
   "source": [
    "### 5.3.6 알고리즘 선택하기"
   ]
  },
  {
   "cell_type": "markdown",
   "metadata": {
    "colab_type": "text",
    "id": "cY7lGUrbbY99"
   },
   "source": [
    "#### 알고리즘 선택"
   ]
  },
  {
   "cell_type": "code",
   "execution_count": null,
   "metadata": {
    "colab": {},
    "colab_type": "code",
    "id": "Qz0PCJYSge0b"
   },
   "outputs": [],
   "source": [
    "# 라이브러리 임포트\n",
    "from fbprophet import Prophet\n",
    "\n",
    "# 모델 결정\n",
    "# seasonality 파라미터를 3으로 설정하는 것이 중요\n",
    "# 이번 데이터는 일 단위 데이터이므로 daily_seasonality는 불필요함\n",
    "# weekly_seasonality와 daily_seasonality는 \n",
    "# True/False 외의 값으로도 지정할 수 있음 (삼각함수의 개수)\n",
    "# seasonality_mode: additive(기본값) multiplicative\n",
    "\n",
    "m1 = Prophet(yearly_seasonality=True, weekly_seasonality=True,\n",
    "    daily_seasonality=False,\n",
    "    seasonality_mode='multiplicative')"
   ]
  },
  {
   "cell_type": "markdown",
   "metadata": {
    "colab_type": "text",
    "id": "JUmNdUqfbY-A"
   },
   "source": [
    "### 5.3.7 학습 및 예측"
   ]
  },
  {
   "cell_type": "markdown",
   "metadata": {
    "colab_type": "text",
    "id": "I7gcIX7AbY-A"
   },
   "source": [
    "#### 학습"
   ]
  },
  {
   "cell_type": "code",
   "execution_count": null,
   "metadata": {
    "colab": {},
    "colab_type": "code",
    "id": "mPY8BfZCbY-A"
   },
   "outputs": [],
   "source": [
    "# 학습\n",
    "m1.fit(x_train)"
   ]
  },
  {
   "cell_type": "markdown",
   "metadata": {
    "colab_type": "text",
    "id": "bugmCk5RbY-C"
   },
   "source": [
    "#### 예측"
   ]
  },
  {
   "cell_type": "code",
   "execution_count": null,
   "metadata": {
    "colab": {},
    "colab_type": "code",
    "id": "WvzpREQsiCu4"
   },
   "outputs": [],
   "source": [
    "# 예측용 데이터 생성\n",
    "# (날짜 필드 ds만 들어 있는 데이터프레임)\n",
    "# 61은 예측을 원하는 기간의 일수(2012-11-1부터 2012-12-31까지)\n",
    "future1 = m1.make_future_dataframe(periods=61, freq='D')\n",
    "\n",
    "# 결과 확인\n",
    "display(future1.head())\n",
    "display(future1.tail())"
   ]
  },
  {
   "cell_type": "code",
   "execution_count": null,
   "metadata": {
    "colab": {},
    "colab_type": "code",
    "id": "pjYTY12DiC32"
   },
   "outputs": [],
   "source": [
    "# 예측\n",
    "# 결과로 데이터프레임이 반환된다\n",
    "fcst1 = m1.predict(future1)"
   ]
  },
  {
   "cell_type": "markdown",
   "metadata": {
    "colab_type": "text",
    "id": "GgtjJNFXbY-I"
   },
   "source": [
    "### 5.3.8 평가"
   ]
  },
  {
   "cell_type": "code",
   "execution_count": null,
   "metadata": {
    "colab": {},
    "colab_type": "code",
    "id": "o5ec92r9iC_A"
   },
   "outputs": [],
   "source": [
    "# 요소별 그래프 그리기\n",
    "# 여기서는 트렌드, 주 단위 주기, 연 단위 주기\n",
    "fig = m1.plot_components(fcst1)\n",
    "plt.show()"
   ]
  },
  {
   "cell_type": "markdown",
   "metadata": {
    "colab_type": "text",
    "id": "-s8zjolXbY-K"
   },
   "source": [
    "#### 학습 데이터, 검증 데이터 전체의 그래프"
   ]
  },
  {
   "cell_type": "code",
   "execution_count": null,
   "metadata": {
    "colab": {},
    "colab_type": "code",
    "id": "ZSsNzEOVO1iO"
   },
   "outputs": [],
   "source": [
    "# 학습 데이터, 검증 데이터 전체를 그래프로 출력\n",
    "fig, ax = plt.subplots(figsize=(10,6))\n",
    "\n",
    "# 예측 결과를 그래프로 출력(프로펫 제공 함수)\n",
    "m1.plot(fcst1, ax=ax)\n",
    "\n",
    "# 제목 및 캡션 설정\n",
    "ax.set_title('가입 유저 이용 수 예측')\n",
    "ax.set_xlabel('날짜')\n",
    "ax.set_ylabel('이용 수')\n",
    "\n",
    "# 그래프 출력\n",
    "plt.show()"
   ]
  },
  {
   "cell_type": "markdown",
   "metadata": {
    "colab_type": "text",
    "id": "590Hf3pfbY-N"
   },
   "source": [
    "#### R2값 계산하기"
   ]
  },
  {
   "cell_type": "code",
   "execution_count": null,
   "metadata": {
    "colab": {},
    "colab_type": "code",
    "id": "NAZiYWU0ge0i",
    "scrolled": true
   },
   "outputs": [],
   "source": [
    "# ypred1: fcst1에서 예측 부분만 추출\n",
    "ypred1 = fcst1[-61:][['yhat']].values\n",
    "\n",
    "# ytest1: 예측 기간 중의 정답 데이터\n",
    "ytest1 = x_test['y'].values\n",
    "\n",
    "# R2값을 계산\n",
    "from sklearn.metrics import r2_score\n",
    "score = r2_score(ytest1, ypred1)\n",
    "\n",
    "# 결과 확인\n",
    "print(f'R2 score:{score:.4f}')"
   ]
  },
  {
   "cell_type": "markdown",
   "metadata": {
    "colab_type": "text",
    "id": "AjDBnhJKbY-Q"
   },
   "source": [
    "#### 예측 기간의 시계열 그래프(정답 데이터와 예측 결과)"
   ]
  },
  {
   "cell_type": "code",
   "execution_count": null,
   "metadata": {
    "colab": {},
    "colab_type": "code",
    "id": "Wp3jowIdj4ea"
   },
   "outputs": [],
   "source": [
    "# 시계열 그래프 그리기\n",
    "import matplotlib.dates as mdates\n",
    "fig, ax = plt.subplots(figsize=(8, 4))\n",
    "\n",
    "# 그래프 그리기\n",
    "ax.plot(dates_test, ytest1, label='정답 데이터', c='k')\n",
    "ax.plot(dates_test, ypred1, label='예측 결과', c='b')\n",
    "\n",
    "# 날짜 눈금 표시\n",
    "# 목요일마다 날짜를 출력한다\n",
    "weeks = mdates.WeekdayLocator(byweekday=mdates.TH)\n",
    "ax.xaxis.set_major_locator(weeks)\n",
    "\n",
    "# 날짜 표기를 90도 기울임\n",
    "ax.tick_params(axis='x', rotation=90)\n",
    "\n",
    "# 그리드 그리기\n",
    "ax.grid()\n",
    "ax.legend()\n",
    "ax.set_title('가입 사용자 이용 수 예측 결과')\n",
    "\n",
    "# 그래프 출력\n",
    "plt.show()"
   ]
  },
  {
   "cell_type": "markdown",
   "metadata": {
    "colab_type": "text",
    "id": "xX602gIkmE6H"
   },
   "source": [
    "### 튜닝 방법\n",
    "\n",
    "* 1단계 : '휴일'의 영향을 반영\n",
    "* 2단계 : 회귀 모델에 '날씨', '온도', '풍속', '습도'를 추가\n"
   ]
  },
  {
   "cell_type": "markdown",
   "metadata": {
    "colab_type": "text",
    "id": "i2rAP825bY-T"
   },
   "source": [
    "### 5.3.9 튜닝 (1단계)"
   ]
  },
  {
   "cell_type": "markdown",
   "metadata": {
    "colab_type": "text",
    "id": "Ey34aEoVbY-T"
   },
   "source": [
    "#### 1단계\n",
    "'휴일'의 영향을 반영"
   ]
  },
  {
   "cell_type": "code",
   "execution_count": null,
   "metadata": {
    "colab": {},
    "colab_type": "code",
    "id": "n7VBQeYrI5gf"
   },
   "outputs": [],
   "source": [
    "# 휴일에 해당하는 날짜 추출\n",
    "df_holiday = df[df['휴일']==1]\n",
    "holidays = df_holiday['날짜'].values\n",
    "\n",
    "# 데이터프레임으로 변환 \n",
    "df_add = pd.DataFrame({'holiday': 'holi',\n",
    "    'ds': holidays,\n",
    "    'lower_window': 0,\n",
    "    'upper_window': 0\n",
    "})\n",
    "\n",
    "# 결과 확인\n",
    "display(df_add.head())\n",
    "display(df_add.tail())              "
   ]
  },
  {
   "cell_type": "code",
   "execution_count": null,
   "metadata": {
    "colab": {},
    "colab_type": "code",
    "id": "vGBQjiaFI5gz"
   },
   "outputs": [],
   "source": [
    "# 휴일(df_add)을 모델에 반영하기\n",
    "\n",
    "# 알고리즘 선택\n",
    "# holidays 파라미터를 추가해 새로운 모델 m2를 생성한다\n",
    "m2 = Prophet(yearly_seasonality=True,\n",
    "    weekly_seasonality=True, daily_seasonality=False,\n",
    "    holidays = df_add, seasonality_mode='multiplicative')\n",
    "\n",
    "# 학습\n",
    "m2 = m2.fit(x_train)\n",
    "\n",
    "# 예측\n",
    "fcst2 = m2.predict(future1)"
   ]
  },
  {
   "cell_type": "markdown",
   "metadata": {
    "colab_type": "text",
    "id": "CBn5MfdEfpou"
   },
   "source": [
    "#### 튜닝 1단계의 평가"
   ]
  },
  {
   "cell_type": "code",
   "execution_count": null,
   "metadata": {
    "colab": {},
    "colab_type": "code",
    "id": "q0aXY5oSI5g7"
   },
   "outputs": [],
   "source": [
    "# 요소별 그래프 그리기\n",
    "fig = m2.plot_components(fcst2)\n",
    "plt.show()"
   ]
  },
  {
   "cell_type": "code",
   "execution_count": null,
   "metadata": {
    "colab": {},
    "colab_type": "code",
    "id": "IYcMzQoMI5hB"
   },
   "outputs": [],
   "source": [
    "# R2값 계산하기\n",
    "\n",
    "# fcst2에서 예측 부분만을 추출\n",
    "ypred2 = fcst2[-61:][['yhat']].values\n",
    "\n",
    "# R2값 계산\n",
    "score2 = r2_score(ytest1, ypred2)\n",
    "\n",
    "# 결과 확인\n",
    "r2_text2 = f'R2 score:{score2:.4f}'\n",
    "print(r2_text2)"
   ]
  },
  {
   "cell_type": "code",
   "execution_count": null,
   "metadata": {
    "colab": {},
    "colab_type": "code",
    "id": "5UoWVfULbY-d"
   },
   "outputs": [],
   "source": [
    "# 시계열 그래프 그리기\n",
    "import matplotlib.dates as mdates\n",
    "fig, ax = plt.subplots(figsize=(8, 4))\n",
    "\n",
    "# 그래프 그리기\n",
    "ax.plot(dates_test, ytest1, label='정답 데이터', c='k')\n",
    "ax.plot(dates_test, ypred1, label='예측 결과 v1', c='c')\n",
    "ax.plot(dates_test, ypred2, label='예측 결과 v2', c='b')\n",
    "\n",
    "# 날짜 눈금 표시\n",
    "# 목요일마다 날짜를 출력한다\n",
    "weeks = mdates.WeekdayLocator(byweekday=mdates.TH)\n",
    "ax.xaxis.set_major_locator(weeks)\n",
    "\n",
    "# 날짜 표기를 90도 기울임\n",
    "ax.tick_params(axis='x', rotation=90)\n",
    "\n",
    "# 시작일과 종료일\n",
    "sday = pd.to_datetime('2012-11-1')\n",
    "eday = pd.to_datetime('2013-1-1')\n",
    "ax.set_xlim(sday, eday) \n",
    "\n",
    "# 그리드 표시\n",
    "ax.grid()\n",
    "ax.legend()\n",
    "ax.set_title('가입 유저 이용수 예측 결과  ' + r2_text2)\n",
    "\n",
    "# 화면에 출력\n",
    "plt.show()"
   ]
  },
  {
   "cell_type": "markdown",
   "metadata": {
    "colab_type": "text",
    "id": "-eo9Poylf_DA"
   },
   "source": [
    "### 5.3.10 튜닝 (2단계)\n",
    "'날씨', '온도', '풍속', '습도'를 예측 모델에 반영"
   ]
  },
  {
   "cell_type": "code",
   "execution_count": null,
   "metadata": {
    "colab": {},
    "colab_type": "code",
    "id": "aR3VF8YnbY-g"
   },
   "outputs": [],
   "source": [
    "# 학습 데이터에 '날씨', '온도', '풍속', '습도'를 추가하기\n",
    "df3 = pd.concat([df2, df[['날씨', '온도', '풍속', '습도']]], axis=1)\n",
    "\n",
    "# 입력 데이터 분할\n",
    "x2_train = df3[train_index]\n",
    "x2_test = df3[test_index]\n",
    "\n",
    "# 결과 확인\n",
    "display(x2_train.tail())"
   ]
  },
  {
   "cell_type": "code",
   "execution_count": null,
   "metadata": {
    "colab": {},
    "colab_type": "code",
    "id": "wVxwXo88OT30"
   },
   "outputs": [],
   "source": [
    "# 알고리즘 선택\n",
    "\n",
    "m3 = Prophet(yearly_seasonality=True, \n",
    "    weekly_seasonality=True, daily_seasonality=False,\n",
    "    seasonality_mode='multiplicative', holidays = df_add)\n",
    "\n",
    "# add_regressor 함수를 이용해  '날씨', '온도', '풍속', '습도'를 모델에 추가\n",
    "m3.add_regressor('날씨')\n",
    "m3.add_regressor('온도')\n",
    "m3.add_regressor('풍속')\n",
    "m3.add_regressor('습도')\n",
    "\n",
    "# 학습\n",
    "m3.fit(x2_train)"
   ]
  },
  {
   "cell_type": "code",
   "execution_count": null,
   "metadata": {
    "colab": {},
    "colab_type": "code",
    "id": "0IZYQimTbY-k"
   },
   "outputs": [],
   "source": [
    "# 예측용 입력 데이터 생성\n",
    "future3 = df3[['ds', '날씨', '온도', '풍속', '습도']]\n",
    "\n",
    "# 예측\n",
    "fcst3 = m3.predict(future3)"
   ]
  },
  {
   "cell_type": "code",
   "execution_count": null,
   "metadata": {
    "colab": {},
    "colab_type": "code",
    "id": "Wf6UcyL9O1VM"
   },
   "outputs": [],
   "source": [
    "### 튜닝 2단계의 평가"
   ]
  },
  {
   "cell_type": "code",
   "execution_count": null,
   "metadata": {
    "colab": {},
    "colab_type": "code",
    "id": "UWDQJ6ILQHZJ",
    "scrolled": false
   },
   "outputs": [],
   "source": [
    "# 요소별 그래프 그리기\n",
    "fig = m3.plot_components(fcst3)\n",
    "plt.show()"
   ]
  },
  {
   "cell_type": "code",
   "execution_count": null,
   "metadata": {
    "colab": {},
    "colab_type": "code",
    "id": "Td_bvYYKnILS"
   },
   "outputs": [],
   "source": [
    "# R2값 계산하기\n",
    "\n",
    "# fcst에서 예측 부분만을 추출\n",
    "ypred3 = fcst3[-61:][['yhat']].values\n",
    "score3 = r2_score(ytest1, ypred3)\n",
    "\n",
    "# 결과 확인\n",
    "r2_text3 = f'R2 score:{score3:.4f}'\n",
    "print(r2_text3)"
   ]
  },
  {
   "cell_type": "code",
   "execution_count": null,
   "metadata": {
    "colab": {},
    "colab_type": "code",
    "id": "nc5sT4zhbY-r"
   },
   "outputs": [],
   "source": [
    "# 시계열 그래프 그리기\n",
    "import matplotlib.dates as mdates\n",
    "fig, ax = plt.subplots(figsize=(8, 4))\n",
    "\n",
    "# 그래프 그리기\n",
    "ax.plot(dates_test, ytest1, label='정답 데이터', c='k')\n",
    "ax.plot(dates_test, ypred2, label='예측 결과 v2', c='c')\n",
    "ax.plot(dates_test, ypred3, label='예측 결과 v3', c='b')\n",
    "\n",
    "# 날짜 눈금 표시\n",
    "# 목요일마다 날짜를 출력한다\n",
    "weeks = mdates.WeekdayLocator(byweekday=mdates.TH)\n",
    "ax.xaxis.set_major_locator(weeks)\n",
    "\n",
    "# 날짜 표기를 90도 기울임\n",
    "ax.tick_params(axis='x', rotation=90)\n",
    "\n",
    "# 그리드 표시\n",
    "ax.grid()\n",
    "ax.legend()\n",
    "ax.set_title('가입 유저 이용수 예측 결과 ' + r2_text3)\n",
    "\n",
    "# 화면에 출력\n",
    "plt.show()"
   ]
  },
  {
   "cell_type": "markdown",
   "metadata": {
    "colab_type": "text",
    "id": "DuCmbsVagL_j"
   },
   "source": [
    "### 칼럼 - 아이스크림 구매 예측 (시계열 분석)"
   ]
  },
  {
   "cell_type": "markdown",
   "metadata": {
    "colab_type": "text",
    "id": "hUc6jWyHbY-w"
   },
   "source": [
    "#### 데이터 집합 배포 웹 페이지\n",
    "\n",
    "아이스크림 조사 보고서 \n",
    "https://www.icecream.or.jp/biz/data/expenditures.html\n",
    "\n",
    "아래의 엑셀 파일은 이 보고서의 내용을 기초로 만든 것이다."
   ]
  },
  {
   "cell_type": "code",
   "execution_count": null,
   "metadata": {
    "colab": {},
    "colab_type": "code",
    "id": "myXoKWMJbY-x"
   },
   "outputs": [],
   "source": [
    "# 역자 주: 엑셀 파일 호환성 문제로 xlrd는 1.2.0 이하를 사용해야 합니다.\n",
    "\n",
    "# 데이터 읽어들이기\n",
    "#url2 = 'https://github.com/makaishi2/\\\n",
    "#sample-data/blob/master/data/ice-sales.xlsx?raw=true'\n",
    "url2 = './ice-sales.xlsx'\n",
    "\n",
    "df = pd.read_excel(url2, sheet_name=0)"
   ]
  },
  {
   "cell_type": "code",
   "execution_count": null,
   "metadata": {
    "colab": {},
    "colab_type": "code",
    "id": "JjsvEPizbY-z"
   },
   "outputs": [],
   "source": [
    "# 데이터 확인\n",
    "display(df.head())\n",
    "display(df.tail())"
   ]
  },
  {
   "cell_type": "code",
   "execution_count": null,
   "metadata": {
    "colab": {},
    "colab_type": "code",
    "id": "e5VpukxKbY-1"
   },
   "outputs": [],
   "source": [
    "# 시계열 그래프 그리기(아이스크림 지출 금액)\n",
    "fig, ax = plt.subplots(figsize=(12, 4))\n",
    "\n",
    "# 그래프 그리기\n",
    "ax.plot(df['연월'], df['지출'],c='b')\n",
    "\n",
    "# 3개월 단위로 눈금 표시\n",
    "month3 = mdates.MonthLocator(interval=3)\n",
    "ax.xaxis.set_major_locator(month3)\n",
    "\n",
    "# 날짜 표기를 90도 회전\n",
    "ax.tick_params(axis='x', rotation=90)\n",
    "\n",
    "# 시작일과 종료일\n",
    "sday = pd.to_datetime('2015-1-1')\n",
    "eday = pd.to_datetime('2019-12-31')\n",
    "ax.set_xlim(sday, eday) \n",
    "\n",
    "# 그리드 표시\n",
    "ax.grid()\n",
    "ax.set_title('아이스크림 지출 금액')\n",
    "\n",
    "# 화면에 출력\n",
    "plt.show()"
   ]
  },
  {
   "cell_type": "code",
   "execution_count": null,
   "metadata": {
    "colab": {},
    "colab_type": "code",
    "id": "lmj32S9EbY-2"
   },
   "outputs": [],
   "source": [
    "# 데이터 전처리\n",
    "# 데이터 형식을 프로멧에 맞춰 변경\n",
    "x = df.copy()\n",
    "x.columns = ['ds', 'y']\n",
    "display(x.head())"
   ]
  },
  {
   "cell_type": "code",
   "execution_count": null,
   "metadata": {
    "colab": {},
    "colab_type": "code",
    "id": "yOP8KJzwbY-4"
   },
   "outputs": [],
   "source": [
    "# 데이터 분할\n",
    "# 2019년 1월을 기준으로 학습 데이터와 검증 데이터를 분할\n",
    "# 기준일 mday를 정의\n",
    "mday = pd.to_datetime('2019-1-1')\n",
    "\n",
    "# 학습 데이터 index와 검증 데이터 index를 생성\n",
    "train_index = x['ds'] < mday\n",
    "test_index = x['ds'] >= mday\n",
    "\n",
    "# 입력 데이터 분할\n",
    "x_train = x[train_index]\n",
    "x_test = x[test_index]\n",
    "\n",
    "# 날짜 필드도 그래프 작도를 위해 분할\n",
    "dates_train = x['ds'][train_index]\n",
    "dates_test = x['ds'][test_index]"
   ]
  },
  {
   "cell_type": "code",
   "execution_count": null,
   "metadata": {
    "colab": {},
    "colab_type": "code",
    "id": "SL3sbCwhbY-5"
   },
   "outputs": [],
   "source": [
    "# 알고리즘 선택\n",
    "# 라이브러리 임포트\n",
    "from fbprophet import Prophet\n",
    "m = Prophet(yearly_seasonality=5, weekly_seasonality=False, daily_seasonality=False)"
   ]
  },
  {
   "cell_type": "code",
   "execution_count": null,
   "metadata": {
    "colab": {},
    "colab_type": "code",
    "id": "DJH7cG0TbY-8"
   },
   "outputs": [],
   "source": [
    "# 학습\n",
    "m = m.fit(x_train)"
   ]
  },
  {
   "cell_type": "code",
   "execution_count": null,
   "metadata": {
    "colab": {},
    "colab_type": "code",
    "id": "MxBaYjMdbY--"
   },
   "outputs": [],
   "source": [
    "# 예측\n",
    "future = x[['ds']]\n",
    "fcst = m.predict(future)"
   ]
  },
  {
   "cell_type": "code",
   "execution_count": null,
   "metadata": {
    "colab": {},
    "colab_type": "code",
    "id": "bBJsQR6dbY_A"
   },
   "outputs": [],
   "source": [
    "# 평가\n",
    "\n",
    "# fcst에서 예측 부분만을 추출\n",
    "ypred = fcst[-12:]['yhat'].values\n",
    "\n",
    "# 정답 데이터의 리스트\n",
    "ytest = x_test['y'].values\n",
    "\n",
    "# R2값 계산\n",
    "from sklearn.metrics import r2_score\n",
    "score = r2_score(ytest, ypred)\n",
    "score_text = f'R2 score:{score:.4f}'\n",
    "print(score_text)"
   ]
  },
  {
   "cell_type": "code",
   "execution_count": null,
   "metadata": {
    "colab": {},
    "colab_type": "code",
    "id": "9lYDmGBRbY_C"
   },
   "outputs": [],
   "source": [
    "# 시계열 그래프 그리기 (아이스크림 지출 금액)\n",
    "fig, ax = plt.subplots(figsize=(8, 4))\n",
    "\n",
    "# 그래프 그리기\n",
    "ax.plot(dates_test, ytest, label='정답 데이터', c='k')\n",
    "ax.plot(dates_test, ypred, label='예측 결과', c='b')\n",
    "\n",
    "# 1개월 단위 눈금 표시\n",
    "month = mdates.MonthLocator()\n",
    "ax.xaxis.set_major_locator(month)\n",
    "\n",
    "# 날짜 표기를 90도 회전\n",
    "ax.tick_params(axis='x', rotation=90)\n",
    "\n",
    "# 시작일과 종료일\n",
    "sday = pd.to_datetime('2019-1-1')\n",
    "eday = pd.to_datetime('2019-12-1')\n",
    "ax.set_xlim(sday, eday) \n",
    "\n",
    "# 그리드 표시\n",
    "ax.grid()\n",
    "ax.legend()\n",
    "ax.set_title('아이스크림 지출 금액 예측　' + score_text)\n",
    "\n",
    "# 화면에 출력\n",
    "plt.show()"
   ]
  },
  {
   "cell_type": "code",
   "execution_count": null,
   "metadata": {
    "colab": {},
    "colab_type": "code",
    "id": "RSCimcyVbY_F"
   },
   "outputs": [],
   "source": []
  }
 ],
 "metadata": {
  "colab": {
   "collapsed_sections": [],
   "name": "ch05_03_bike_sharing.ipynb",
   "provenance": []
  },
  "kernelspec": {
   "display_name": "Python 3",
   "language": "python",
   "name": "python3"
  },
  "language_info": {
   "codemirror_mode": {
    "name": "ipython",
    "version": 3
   },
   "file_extension": ".py",
   "mimetype": "text/x-python",
   "name": "python",
   "nbconvert_exporter": "python",
   "pygments_lexer": "ipython3",
   "version": "3.7.10"
  }
 },
 "nbformat": 4,
 "nbformat_minor": 1
}
