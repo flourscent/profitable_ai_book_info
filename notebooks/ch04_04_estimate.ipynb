{
 "cells": [
  {
   "cell_type": "markdown",
   "metadata": {
    "colab_type": "text",
    "id": "xv2OcVTkY7vv"
   },
   "source": [
    "## 4.4 평가\n"
   ]
  },
  {
   "cell_type": "code",
   "execution_count": null,
   "metadata": {
    "colab": {},
    "colab_type": "code",
    "id": "Ra8fM7lxY7v0"
   },
   "outputs": [],
   "source": [
    "# 공통 처리\n",
    "\n",
    "# 불필요한 경고 메시지 무시\n",
    "import warnings\n",
    "warnings.filterwarnings('ignore')\n",
    "\n",
    "# 라이브러리 임포트\n",
    "import pandas as pd\n",
    "import numpy as np\n",
    "import matplotlib.pyplot as plt\n",
    "\n",
    "# 한글 글꼴 설정\n",
    "import platform\n",
    "\n",
    "if platform.system() == 'Windows':\n",
    "    plt.rc('font', family='Malgun Gothic')\n",
    "elif platform.system() == 'Darwin':\n",
    "    plt.rc('font', family='Apple Gothic')\n",
    "\n",
    "# 데이터프레임 출력용 함수\n",
    "from IPython.display import display\n",
    "\n",
    "# 숫자 출력 조정\n",
    "# 넘파이 부동소수점 출력 자리수 설정\n",
    "np.set_printoptions(suppress=True, precision=4)\n",
    "\n",
    "# 판다스 부동소수점 출력 자리수 설정\n",
    "pd.options.display.float_format = '{:.4f}'.format\n",
    "\n",
    "# 데이터프레임 모든 필드 출력\n",
    "pd.set_option(\"display.max_columns\",None)\n",
    "\n",
    "# 그래프 글꼴 크기 설정\n",
    "plt.rcParams[\"font.size\"] = 14\n",
    "\n",
    "# 난수 시드\n",
    "random_seed = 123"
   ]
  },
  {
   "cell_type": "markdown",
   "metadata": {
    "colab_type": "text",
    "id": "BpHwA-JaY7v3"
   },
   "source": [
    "### 4.4.1 혼동행렬"
   ]
  },
  {
   "cell_type": "markdown",
   "metadata": {
    "colab_type": "text",
    "id": "EWGhMtRxY7v3"
   },
   "source": [
    "#### 혼동행렬"
   ]
  },
  {
   "cell_type": "code",
   "execution_count": null,
   "metadata": {
    "colab": {},
    "colab_type": "code",
    "id": "Ggsurtn8Y7v3"
   },
   "outputs": [],
   "source": [
    "# 데이터 읽어 들이기 및 데이터 분할\n",
    "\n",
    "# 라이브러리를 임포트\n",
    "from sklearn.datasets import load_breast_cancer\n",
    "\n",
    "# 데이터 내려받기\n",
    "cancer = load_breast_cancer()\n",
    "\n",
    "# 입력 데이터 x\n",
    "x = cancer.data\n",
    "\n",
    "# 정답 데이터 y\n",
    "# 양성: 0 악성: 1이 되도록 값을 변경\n",
    "y = 1 - cancer.target\n",
    "\n",
    "# 입력 데이터를 2차원으로 추려냄\n",
    "x2 = x[:,:2]\n",
    "\n",
    "# (4) 데이터 분할\n",
    "from sklearn.model_selection import train_test_split\n",
    "x_train, x_test, y_train, y_test = train_test_split(x2, y,\n",
    "    train_size=0.7, test_size=0.3, random_state=random_seed)"
   ]
  },
  {
   "cell_type": "code",
   "execution_count": null,
   "metadata": {
    "colab": {},
    "colab_type": "code",
    "id": "dQ9XUGlqY7v6"
   },
   "outputs": [],
   "source": [
    "# 알고리즘 선택 및 평가\n",
    "\n",
    "# 알고리즘 선택(로지스틱 회귀)\n",
    "from sklearn.linear_model import LogisticRegression\n",
    "algorithm = LogisticRegression(random_state=random_seed)\n",
    "\n",
    "# 학습\n",
    "algorithm.fit(x_train, y_train)\n",
    "\n",
    "# 예측\n",
    "y_pred = algorithm.predict(x_test)\n",
    "\n",
    "# 평가\n",
    "score = algorithm.score(x_test, y_test)\n",
    "\n",
    "# 결과 확인\n",
    "print(f'score: {score:.4f}')"
   ]
  },
  {
   "cell_type": "code",
   "execution_count": null,
   "metadata": {
    "colab": {},
    "colab_type": "code",
    "id": "iODYJJZRY7v8"
   },
   "outputs": [],
   "source": [
    "# 혼동행렬 계산하기\n",
    "\n",
    "# 필요한 라이브러리를 추가 임포트\n",
    "from sklearn.metrics import confusion_matrix\n",
    "\n",
    "# 혼동행렬 작성하기\n",
    "#   y_test: 검증 데이터의 정답 데이터\n",
    "#   y_pred: 검증 데이터에 대한 예측 결과\n",
    "matrix = confusion_matrix(y_test, y_pred)\n",
    "\n",
    "# 결과 확인\n",
    "print(matrix)"
   ]
  },
  {
   "cell_type": "code",
   "execution_count": null,
   "metadata": {
    "colab": {},
    "colab_type": "code",
    "id": "CCo_8nbJY7v_"
   },
   "outputs": [],
   "source": [
    "# 혼동행렬을 깔끔하게 출력하는 유틸리티 함수\n",
    "\n",
    "def make_cm(matrix, columns):\n",
    "    # matrix 넘파이 배열\n",
    "\n",
    "    # columns 필드명 목록\n",
    "    n = len(columns)\n",
    "\n",
    "    # '정답 데이터'가 n번 반복되는 리스트를 생성\n",
    "    act = ['정답 데이터'] * n\n",
    "    pred = ['예측 결과'] * n\n",
    "\n",
    "    # 데이터프레임을 생성\n",
    "    cm = pd.DataFrame(matrix,\n",
    "        columns=[pred, columns], index=[act, columns])\n",
    "    return cm"
   ]
  },
  {
   "cell_type": "code",
   "execution_count": null,
   "metadata": {
    "colab": {},
    "colab_type": "code",
    "id": "QRCossNUY7wB"
   },
   "outputs": [],
   "source": [
    "# make_cm 함수를 사용해 혼동행렬 출력하기\n",
    "cm = make_cm(matrix, ['양성', '악성'])\n",
    "display(cm)"
   ]
  },
  {
   "cell_type": "markdown",
   "metadata": {
    "colab_type": "text",
    "id": "Hsfiqt9kY7wH"
   },
   "source": [
    "### 4.4.2 정확도, 정밀도, 재현율, F-점수"
   ]
  },
  {
   "cell_type": "code",
   "execution_count": null,
   "metadata": {
    "colab": {},
    "colab_type": "code",
    "id": "bW78c493Y7wH"
   },
   "outputs": [],
   "source": [
    "# 정밀도, 재현율, F-점수 계산하기\n",
    "\n",
    "# 라이브러리 임포트\n",
    "from sklearn.metrics import precision_recall_fscore_support\n",
    "\n",
    "# 정밀도, 재현율, F-점수 계산\n",
    "precision, recall, fscore, _ = precision_recall_fscore_support(\n",
    "    y_test, y_pred, average='binary')\n",
    "\n",
    "# 계산 결과 확인\n",
    "print(f'정밀도: {precision:.4f}')\n",
    "print(f'재현율: {recall:.4f}')\n",
    "print(f'F-점수: {fscore:.4f}')"
   ]
  },
  {
   "cell_type": "markdown",
   "metadata": {
    "colab_type": "text",
    "id": "5ccT1r0PY7wJ"
   },
   "source": [
    "### 4.4.3 확률값과 역치"
   ]
  },
  {
   "cell_type": "code",
   "execution_count": null,
   "metadata": {
    "colab": {},
    "colab_type": "code",
    "id": "pLHofKFhY7wK"
   },
   "outputs": [],
   "source": [
    "# 모델 내부의 확률값 구하기\n",
    "y_proba = algorithm.predict_proba(x_test)\n",
    "print(y_proba[10:20,:])"
   ]
  },
  {
   "cell_type": "code",
   "execution_count": null,
   "metadata": {
    "colab": {},
    "colab_type": "code",
    "id": "gvH_nov_Y7wM"
   },
   "outputs": [],
   "source": [
    "# 양성(y=1)일 확률값을 꺼냄\n",
    "y_proba1 = y_proba[:,1]\n",
    "\n",
    "# 결과 확인\n",
    "print(y_pred[10:20])\n",
    "print(y_proba1[10:20])"
   ]
  },
  {
   "cell_type": "code",
   "execution_count": null,
   "metadata": {
    "colab": {},
    "colab_type": "code",
    "id": "1at-bPhnY7wP"
   },
   "outputs": [],
   "source": [
    "# 역치를 변경한다\n",
    "thres = 0.5\n",
    "print((y_proba1[10:20] > thres).astype(int))\n",
    "\n",
    "thres = 0.7\n",
    "print((y_proba1[10:20] > thres).astype(int))"
   ]
  },
  {
   "cell_type": "code",
   "execution_count": null,
   "metadata": {
    "colab": {},
    "colab_type": "code",
    "id": "AO5clSBBY7wR"
   },
   "outputs": [],
   "source": [
    "# 변경된 역치를 적용하는 예측 함수를 정의함\n",
    "def pred(algorithm, x, thres):\n",
    "\n",
    "    # 확률값 꺼내기(행렬)\n",
    "    y_proba = algorithm.predict_proba(x)\n",
    "\n",
    "    # 예측 결과 1에 대한 확률값\n",
    "    y_proba1 =  y_proba[:,1]\n",
    "\n",
    "    # 예측 결과 1에 대한 확률값 > 역치\n",
    "    y_pred = (y_proba1 > thres).astype(int)\n",
    "    return y_pred"
   ]
  },
  {
   "cell_type": "code",
   "execution_count": null,
   "metadata": {
    "colab": {},
    "colab_type": "code",
    "id": "Z9X-vomEY7wU"
   },
   "outputs": [],
   "source": [
    "# 역치 0.5를 적용한 예측 결과\n",
    "pred_05 = pred(algorithm, x_test, 0.5)\n",
    "\n",
    "# 역치 0.7을 적용한 예측 결과\n",
    "pred_07 = pred(algorithm, x_test, 0.7)\n",
    "\n",
    "# 결과 확인\n",
    "print(pred_05[10:20])\n",
    "print(pred_07[10:20])"
   ]
  },
  {
   "cell_type": "markdown",
   "metadata": {
    "colab_type": "text",
    "id": "kqoDRgYoY7wW"
   },
   "source": [
    "### 4.4.4 PR 곡선과 ROC 곡선"
   ]
  },
  {
   "cell_type": "markdown",
   "metadata": {
    "colab_type": "text",
    "id": "ybbNCaXOY7wW"
   },
   "source": [
    "#### PR 곡선"
   ]
  },
  {
   "cell_type": "code",
   "execution_count": null,
   "metadata": {
    "colab": {},
    "colab_type": "code",
    "id": "mQdAXZBbY7wX"
   },
   "outputs": [],
   "source": [
    "# PR 곡선을 그리기 위한 배열을 생성\n",
    "\n",
    "# 라이브러리 임포트 \n",
    "from sklearn.metrics import precision_recall_curve\n",
    "# 정밀도, 재현율, 역치를 계산\n",
    "precision, recall, thresholds = precision_recall_curve(\n",
    "    y_test, y_proba1)\n",
    "# 계산 결과를 데이터프레임으로 변환\n",
    "df_pr = pd.DataFrame([thresholds, precision, recall]).T\n",
    "df_pr.columns = ['역치', '정밀도', '재현율']\n",
    "# 역치 0.5 주변의 값을 출력\n",
    "display(df_pr[52:122:10])"
   ]
  },
  {
   "cell_type": "code",
   "execution_count": null,
   "metadata": {
    "colab": {},
    "colab_type": "code",
    "id": "yjxdxEwUY7wZ"
   },
   "outputs": [],
   "source": [
    "# PR 곡선 그리기\n",
    "\n",
    "# 그래프 크기를 설정\n",
    "plt.figure(figsize=(6,6))\n",
    "# 그래프 영역을 색으로 채우기\n",
    "plt.fill_between(recall, precision, 0)\n",
    "# x, t의 범위 지정\n",
    "plt.xlim([0.0, 1.0])\n",
    "plt.ylim([0.0, 1.0])\n",
    "# 레이블, 제목 추가\n",
    "plt.xlabel('재현율')\n",
    "plt.ylabel('정밀도')\n",
    "plt.title('PR 곡선')\n",
    "plt.show()\n"
   ]
  },
  {
   "cell_type": "code",
   "execution_count": null,
   "metadata": {
    "colab": {},
    "colab_type": "code",
    "id": "O4JAQ3HIY7wb"
   },
   "outputs": [],
   "source": [
    "# PR 곡선 아래 영역의 면적 계산\n",
    "from sklearn.metrics import auc\n",
    "pr_auc = auc(recall, precision)\n",
    "print(f'PR 곡선 아래 영역의 면적: {pr_auc:.4f}')"
   ]
  },
  {
   "cell_type": "markdown",
   "metadata": {
    "colab_type": "text",
    "id": "nKtHryvTY7wd"
   },
   "source": [
    "#### ROC 곡선"
   ]
  },
  {
   "cell_type": "code",
   "execution_count": null,
   "metadata": {
    "colab": {},
    "colab_type": "code",
    "id": "jw-GtJwtY7we"
   },
   "outputs": [],
   "source": [
    "# ROC 곡선을 그리기 위한 배열을 생성\n",
    "\n",
    "# 라이브러리 임포트 \n",
    "from sklearn.metrics import roc_curve\n",
    "\n",
    "# 위양성률, 민감도, 역치를 계산\n",
    "fpr, tpr, thresholds = roc_curve(\n",
    "    y_test, y_proba1,drop_intermediate=False)\n",
    "\n",
    "# 계산 결과를 데이터프레임으로 변환\n",
    "df_roc = pd.DataFrame([thresholds, fpr, tpr]).T\n",
    "df_roc.columns = ['역치', '위양성률', '민감도']\n",
    "\n",
    "# 역치 0.5 주변의 값을 출력\n",
    "display(df_roc[21:91:10])"
   ]
  },
  {
   "cell_type": "code",
   "execution_count": null,
   "metadata": {
    "colab": {},
    "colab_type": "code",
    "id": "DAoQrQB0Y7wg"
   },
   "outputs": [],
   "source": [
    "# ROC 곡선 그리기\n",
    "\n",
    "# 그래프 크기를 설정\n",
    "plt.figure(figsize=(6,6))\n",
    "\n",
    "# 점선 그리기\n",
    "plt.plot([0, 1], [0, 1], 'k--')\n",
    "\n",
    "# 그래프 영역을 색으로 채우기\n",
    "plt.fill_between(fpr, tpr, 0)\n",
    "\n",
    "# x, y의 범위 지정\n",
    "plt.xlim([0.0, 1.0])\n",
    "plt.ylim([0.0, 1.0])\n",
    "\n",
    "# 레이블, 제목 추가\n",
    "plt.xlabel('위양성률')\n",
    "plt.ylabel('민감도')\n",
    "plt.title('ROC 곡선')\n",
    "plt.show()"
   ]
  },
  {
   "cell_type": "code",
   "execution_count": null,
   "metadata": {
    "colab": {},
    "colab_type": "code",
    "id": "SLeeC-m8Y7wi"
   },
   "outputs": [],
   "source": [
    "# ROC 곡선 아래의 면적을 계산\n",
    "roc_auc = auc(fpr, tpr)\n",
    "print(f'ROC 곡선 아래의 면적:{roc_auc:.4f}')"
   ]
  },
  {
   "cell_type": "markdown",
   "metadata": {
    "colab_type": "text",
    "id": "BLgzbVcaY7wk"
   },
   "source": [
    "#### 성능이 뛰어난 모델의 ROC 곡선 그리기"
   ]
  },
  {
   "cell_type": "code",
   "execution_count": null,
   "metadata": {
    "colab": {},
    "colab_type": "code",
    "id": "IwwzzLZ_Y7wk"
   },
   "outputs": [],
   "source": [
    "from sklearn.model_selection import train_test_split\n",
    "x_train, x_test, y_train, y_test = train_test_split(\n",
    "  x, y, train_size=0.7, test_size=0.3, random_state=random_seed)\n",
    "algorithm = LogisticRegression()\n",
    "algorithm.fit(x_train, y_train)\n",
    "y_pred = algorithm.predict(x_test)\n",
    "y_proba1 = algorithm.predict_proba(x_test)[:,1]\n",
    "fpr, tpr, thresholds = roc_curve(y_test, y_proba1)"
   ]
  },
  {
   "cell_type": "code",
   "execution_count": null,
   "metadata": {
    "colab": {},
    "colab_type": "code",
    "id": "-_iXjXz6Y7wm"
   },
   "outputs": [],
   "source": [
    "# ROC 곡선 그리기\n",
    "\n",
    "plt.figure(figsize=(6,6))\n",
    "plt.plot([0, 1], [0, 1], 'k--')\n",
    "plt.fill_between(fpr, tpr, 0)\n",
    "plt.xlim([0.0, 1.0])\n",
    "plt.ylim([0.0, 1.0])\n",
    "plt.xlabel('위양성률')\n",
    "plt.ylabel('민감도')\n",
    "plt.title('ROC곡선')\n",
    "plt.show()"
   ]
  },
  {
   "cell_type": "code",
   "execution_count": null,
   "metadata": {
    "colab": {},
    "colab_type": "code",
    "id": "od5pt69nY7wo"
   },
   "outputs": [],
   "source": [
    "# ROC 곡선 아래의 면적을 계산\n",
    "roc_auc = auc(fpr, tpr)\n",
    "print(f'ROC 곡선 아래의 면적:{roc_auc:.4f}')"
   ]
  },
  {
   "cell_type": "markdown",
   "metadata": {
    "colab_type": "text",
    "id": "52iRNE1RY7wq"
   },
   "source": [
    "### 4.4.5 입력 필드의 중요도"
   ]
  },
  {
   "cell_type": "markdown",
   "metadata": {
    "colab_type": "text",
    "id": "2j_ov-Y-Y7wq"
   },
   "source": [
    "#### 랜덤 포레스트 모델 생성 단계까지"
   ]
  },
  {
   "cell_type": "code",
   "execution_count": null,
   "metadata": {
    "colab": {},
    "colab_type": "code",
    "id": "pIRGJkZWY7wr"
   },
   "outputs": [],
   "source": [
    "# 랜덤 포레스트 모델 생성까지\n",
    "\n",
    "# 예제 데이터 읽어 들이기\n",
    "import seaborn as sns\n",
    "df_iris = sns.load_dataset(\"iris\")\n",
    "columns_i = ['꽃받침_길이', '꽃받침_폭', '꽃잎_길이', '꽃잎_폭', '종']\n",
    "df_iris.columns = columns_i\n",
    "\n",
    "# 입력 데이터 x\n",
    "x = df_iris[['꽃받침_길이', '꽃받침_폭', '꽃잎_길이', '꽃잎_폭']]\n",
    "\n",
    "# 정답 데이터 y\n",
    "y = df_iris['종']\n",
    "\n",
    "# 알고리즘 선택 (랜덤 포레스트)\n",
    "from sklearn.ensemble import RandomForestClassifier\n",
    "algorithm = RandomForestClassifier(random_state=random_seed)\n",
    "\n",
    "# 학습\n",
    "algorithm.fit(x, y)"
   ]
  },
  {
   "cell_type": "markdown",
   "metadata": {
    "colab_type": "text",
    "id": "fFd91870Y7wt"
   },
   "source": [
    "#### 중요도 벡터"
   ]
  },
  {
   "cell_type": "code",
   "execution_count": null,
   "metadata": {
    "colab": {},
    "colab_type": "code",
    "id": "zLFIj4cnY7wu"
   },
   "outputs": [],
   "source": [
    "# 중요도 벡터 계산하기\n",
    "importances = algorithm.feature_importances_\n",
    "\n",
    "# 필드명이 키인 Series 객체를 생성\n",
    "w = pd.Series(importances, index=x.columns)\n",
    "\n",
    "# 내림차순으로 정렬\n",
    "u = w.sort_values(ascending=False)\n",
    "\n",
    "# 결과 확인\n",
    "print(u)"
   ]
  },
  {
   "cell_type": "code",
   "execution_count": null,
   "metadata": {
    "colab": {},
    "colab_type": "code",
    "id": "ThIVs9YgY7ww"
   },
   "outputs": [],
   "source": [
    "# 막대그래프로 중요도 나타내기\n",
    "\n",
    "# 막대그래프 그리기\n",
    "plt.bar(range(len(u)), u, color='b', align='center')\n",
    "\n",
    "# 필드명 출력(90도 회전) \n",
    "plt.xticks(range(len(u)), u.index, rotation=90)\n",
    "\n",
    "# 제목 출력\n",
    "plt.title('입력변수의 중요도')\n",
    "\n",
    "plt.show()"
   ]
  },
  {
   "cell_type": "code",
   "execution_count": null,
   "metadata": {
    "colab": {},
    "colab_type": "code",
    "id": "pJQwt5keY7wy"
   },
   "outputs": [],
   "source": [
    "# 결정 트리 모델\n",
    "\n",
    "from sklearn.tree import DecisionTreeClassifier\n",
    "algorithm = DecisionTreeClassifier(random_state=random_seed)\n",
    "algorithm.fit(x, y)\n",
    "importances = algorithm.feature_importances_\n",
    "w = pd.Series(importances, index=x.columns)\n",
    "u = w.sort_values(ascending=False)\n",
    "plt.title('입력변수의 중요도(결정 트리)')\n",
    "plt.bar(range(len(u)), u, color='b', align='center')\n",
    "plt.xticks(range(len(u)), u.index, rotation=90)\n",
    "plt.show()"
   ]
  },
  {
   "cell_type": "code",
   "execution_count": null,
   "metadata": {
    "colab": {},
    "colab_type": "code",
    "id": "vB5_dDA0Y7w1"
   },
   "outputs": [],
   "source": [
    "# XGBoost\n",
    "\n",
    "import xgboost\n",
    "algorithm = xgboost.XGBClassifier(random_state=random_seed)\n",
    "algorithm.fit(x, y)\n",
    "importances = algorithm.feature_importances_\n",
    "w = pd.Series(importances, index=x.columns)\n",
    "u = w.sort_values(ascending=False)\n",
    "plt.title('입력변수의 중요도(XGBoost)')\n",
    "plt.bar(range(len(u)), u, color='b', align='center')\n",
    "plt.xticks(range(len(u)), u.index, rotation=90)\n",
    "plt.show()"
   ]
  },
  {
   "cell_type": "markdown",
   "metadata": {
    "colab_type": "text",
    "id": "4I-oP4ImY7w3"
   },
   "source": [
    "### 4.4.6 회귀 모델을 평가하는 방법"
   ]
  },
  {
   "cell_type": "code",
   "execution_count": null,
   "metadata": {
    "colab": {},
    "colab_type": "code",
    "id": "NQ49ttZPY7w3"
   },
   "outputs": [],
   "source": [
    "# 데이터 읽어 들이기부터 데이터 분할 단계까지\n",
    "\n",
    "# 데이터 읽어 들이기 (보스턴 데이터 집합)\n",
    "from sklearn.datasets import load_boston\n",
    "boston = load_boston()\n",
    "\n",
    "# df: 입력 데이터\n",
    "df = pd.DataFrame(boston.data, columns=boston.feature_names)\n",
    "\n",
    "# y: 정답 데이터\n",
    "y = boston.target\n",
    "\n",
    "# 입력 필드가 1개 뿐인 입력 데이터 df1\n",
    "df1 = df[['RM']]\n",
    "\n",
    "# 결과 확인\n",
    "display(df.head())\n",
    "display(df1.head())\n",
    "print(y[:5])"
   ]
  },
  {
   "cell_type": "code",
   "execution_count": null,
   "metadata": {
    "colab": {},
    "colab_type": "code",
    "id": "vWU4DNDAY7w6"
   },
   "outputs": [],
   "source": [
    "# 알고리즘 선택부터 예측까지\n",
    "\n",
    "# 알고리즘: XGBRegressor\n",
    "from xgboost import XGBRegressor\n",
    "algorithm1 = XGBRegressor(objective ='reg:squarederror',\n",
    "    random_state=random_seed)\n",
    "\n",
    "# 학습 (df1을 입력)\n",
    "algorithm1.fit(df1, y)\n",
    "\n",
    "# 예측\n",
    "y_pred1 = algorithm1.predict(df1)\n",
    "\n",
    "\n",
    "# 알고리즘: XGBRegressor\n",
    "from xgboost import XGBRegressor\n",
    "algorithm2 = XGBRegressor(objective ='reg:squarederror',\n",
    "    random_state=random_seed)\n",
    "\n",
    "# 학습 (df를 입력)\n",
    "algorithm2.fit(df, y)\n",
    "\n",
    "# 예측\n",
    "y_pred2 = algorithm2.predict(df)"
   ]
  },
  {
   "cell_type": "code",
   "execution_count": null,
   "metadata": {
    "colab": {},
    "colab_type": "code",
    "id": "zUADzPPcY7w8"
   },
   "outputs": [],
   "source": [
    "# 결과 확인\n",
    "print(f'y[:5] {y[:5]}')\n",
    "print(f'y_pred1[:5] {y_pred1[:5]}')\n",
    "print(f'y_pred2[:5] {y_pred2[:5]}')"
   ]
  },
  {
   "cell_type": "code",
   "execution_count": null,
   "metadata": {
    "colab": {},
    "colab_type": "code",
    "id": "8tGDzOi9Y7w-"
   },
   "outputs": [],
   "source": [
    "# y의 최댓값과 최솟값을 계산\n",
    "y_range = np.array([y.min(), y.max()])\n",
    "\n",
    "# 결과 확인\n",
    "print(y_range)"
   ]
  },
  {
   "cell_type": "markdown",
   "metadata": {
    "colab_type": "text",
    "id": "v85oxddhY7xA"
   },
   "source": [
    "#### 산점도 그리기"
   ]
  },
  {
   "cell_type": "markdown",
   "metadata": {
    "colab_type": "text",
    "id": "_m1wt7U0Y7xA"
   },
   "source": [
    "#### 입력변수가 1개인 경우"
   ]
  },
  {
   "cell_type": "code",
   "execution_count": null,
   "metadata": {
    "colab": {},
    "colab_type": "code",
    "id": "Ha1tUVzWY7xB"
   },
   "outputs": [],
   "source": [
    "# 산점도를 이용한 결과 확인(입력변수 1개)\n",
    "\n",
    "# 그래프 사이즈 설정\n",
    "plt.figure(figsize=(6,6))\n",
    "\n",
    "# 산점도 그리기\n",
    "plt.scatter(y, y_pred1)\n",
    "\n",
    "# 정답 데이터=예측결과 보조선 그리기\n",
    "plt.plot(y_range, y_range, 'k--')\n",
    "\n",
    "# 레이블, 제목 표시\n",
    "plt.xlabel('정답 데이터')\n",
    "plt.ylabel('예측 결과')\n",
    "plt.title('정답 데이터와 예측 결과의 산점도(입력변수 1개)')\n",
    "\n",
    "plt.show()"
   ]
  },
  {
   "cell_type": "markdown",
   "metadata": {
    "colab_type": "text",
    "id": "leOkv4joY7xD"
   },
   "source": [
    "#### 입력변수가 13개인 경우"
   ]
  },
  {
   "cell_type": "code",
   "execution_count": null,
   "metadata": {
    "colab": {},
    "colab_type": "code",
    "id": "KXv595XNY7xD"
   },
   "outputs": [],
   "source": [
    "# 산점도를 이용한 결과 확인(입력변수 13개)\n",
    "\n",
    "# 그래프 사이즈 설정\n",
    "plt.figure(figsize=(6,6))\n",
    "\n",
    "# 산점도 그리기\n",
    "plt.scatter(y, y_pred2)\n",
    "\n",
    "# 정답 데이터=예측결과 보조선 그리기\n",
    "plt.plot(y_range, y_range, 'k--')\n",
    "\n",
    "# 레이블, 제목 표시\n",
    "plt.xlabel('정답 데이터')\n",
    "plt.ylabel('예측 결과')\n",
    "plt.title('정답 데이터와 예측 결과의 산점도(입력변수 13개)')\n",
    "\n",
    "plt.show()"
   ]
  },
  {
   "cell_type": "markdown",
   "metadata": {
    "colab_type": "text",
    "id": "BfpnuG-aY7xG"
   },
   "source": [
    "#### R2 score"
   ]
  },
  {
   "cell_type": "code",
   "execution_count": null,
   "metadata": {
    "colab": {},
    "colab_type": "code",
    "id": "fYUF3lGZY7xH"
   },
   "outputs": [],
   "source": [
    "# r2 값 계산 (입력변수 1개)\n",
    "from sklearn.metrics import r2_score\n",
    "r2_score1 = r2_score(y, y_pred1)\n",
    "print(f'R2 값(입력변수 1개): {r2_score1:.4f}')"
   ]
  },
  {
   "cell_type": "code",
   "execution_count": null,
   "metadata": {
    "colab": {},
    "colab_type": "code",
    "id": "EAb3OG71Y7xJ"
   },
   "outputs": [],
   "source": [
    "# r2 값 계산 (입력변수 13게)\n",
    "r2_score2 = r2_score(y, y_pred2)\n",
    "print(f'R2 값(입력변수 13개): {r2_score2:.4f}')"
   ]
  },
  {
   "cell_type": "code",
   "execution_count": null,
   "metadata": {
    "colab": {},
    "colab_type": "code",
    "id": "OeD_zz0EY7xL"
   },
   "outputs": [],
   "source": []
  }
 ],
 "metadata": {
  "colab": {
   "name": "ch04_04_estimate.ipynb",
   "provenance": []
  },
  "kernelspec": {
   "display_name": "Python 3",
   "language": "python",
   "name": "python3"
  },
  "language_info": {
   "codemirror_mode": {
    "name": "ipython",
    "version": 3
   },
   "file_extension": ".py",
   "mimetype": "text/x-python",
   "name": "python",
   "nbconvert_exporter": "python",
   "pygments_lexer": "ipython3",
   "version": "3.7.10"
  }
 },
 "nbformat": 4,
 "nbformat_minor": 1
}
