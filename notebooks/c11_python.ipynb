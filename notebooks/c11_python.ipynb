{
 "cells": [
  {
   "cell_type": "markdown",
   "metadata": {
    "colab_type": "text",
    "id": "8PrD4L_92-EM"
   },
   "source": [
    "## 부록 2.1 파이썬  입문"
   ]
  },
  {
   "cell_type": "markdown",
   "metadata": {
    "colab_type": "text",
    "id": "PyYQrUX82-EP"
   },
   "source": [
    "#### 기본 타입"
   ]
  },
  {
   "cell_type": "code",
   "execution_count": null,
   "metadata": {
    "colab": {},
    "colab_type": "code",
    "id": "ck6vpPgO2-EQ"
   },
   "outputs": [],
   "source": [
    "# 정수 타입\n",
    "# 숫자값 표현식이 정수이면 대입되는 변수 역시 자동적으로 정수 타입이 된다\n",
    "a = 1\n",
    "\n",
    "# 부동소수 타입\n",
    "# 숫자값 표현식에 소숫점이 포함되면 대입되는 변수도 부동소수 타입이 된다\n",
    "b = 2.0\n",
    "\n",
    "# 문자열 타입\n",
    "# 문자열은 작은따옴표로 감싼다\n",
    "# 또는 큰따옴표를 사용해도 된다\n",
    "c = 'abc'\n",
    "\n",
    "# 부울 타입\n",
    "# True / False를 값으로 갖는 타입이다\n",
    "d = True"
   ]
  },
  {
   "cell_type": "markdown",
   "metadata": {
    "colab_type": "text",
    "id": "47rgVwXz2-EY"
   },
   "source": [
    "#### print 변수와 type 변수"
   ]
  },
  {
   "cell_type": "code",
   "execution_count": null,
   "metadata": {
    "colab": {},
    "colab_type": "code",
    "id": "wPuoMzM42-EY"
   },
   "outputs": [],
   "source": [
    "# 정수 타입 변수 a의 값과 타입\n",
    "print(a)\n",
    "print(type(a))"
   ]
  },
  {
   "cell_type": "code",
   "execution_count": null,
   "metadata": {
    "colab": {},
    "colab_type": "code",
    "id": "cIu3RkVY2-Ef"
   },
   "outputs": [],
   "source": [
    "# 부동소수 타입 변수 b의 값과 타입\n",
    "print(b)\n",
    "print(type(b))"
   ]
  },
  {
   "cell_type": "code",
   "execution_count": null,
   "metadata": {
    "colab": {},
    "colab_type": "code",
    "id": "cDyOLlVE2-Ep"
   },
   "outputs": [],
   "source": [
    "# 문자열 타입 변수 c의 값과 타입\n",
    "print(c)\n",
    "print(type(c))"
   ]
  },
  {
   "cell_type": "code",
   "execution_count": null,
   "metadata": {
    "colab": {},
    "colab_type": "code",
    "id": "-eCkBPUd2-Ez"
   },
   "outputs": [],
   "source": [
    "# 부울 타입 변수 d의 값과 타입\n",
    "print(d)\n",
    "print(type(d))"
   ]
  },
  {
   "cell_type": "markdown",
   "metadata": {
    "colab_type": "text",
    "id": "HMcMwYOc2-E7"
   },
   "source": [
    "#### 리스트"
   ]
  },
  {
   "cell_type": "code",
   "execution_count": null,
   "metadata": {
    "colab": {},
    "colab_type": "code",
    "id": "yrRfmqkD2-E8"
   },
   "outputs": [],
   "source": [
    "# 리스트 정의하기\n",
    "l = [1, 2, 3, 5, 8, 13]\n",
    "\n",
    "# 리스트의 값과 타입\n",
    "print(l)\n",
    "print(type(l))"
   ]
  },
  {
   "cell_type": "markdown",
   "metadata": {
    "colab_type": "text",
    "id": "Hn9AiARl2-FH"
   },
   "source": [
    "#### 리스트의 요소 수"
   ]
  },
  {
   "cell_type": "code",
   "execution_count": null,
   "metadata": {
    "colab": {},
    "colab_type": "code",
    "id": "BRJXtFFQ2-FI"
   },
   "outputs": [],
   "source": [
    "# 리스트의 요소 수\n",
    "print(len(l))"
   ]
  },
  {
   "cell_type": "markdown",
   "metadata": {
    "colab_type": "text",
    "id": "HwysVIUG2-FV"
   },
   "source": [
    "#### 리스트의 요소를 참조하기"
   ]
  },
  {
   "cell_type": "code",
   "execution_count": null,
   "metadata": {
    "colab": {},
    "colab_type": "code",
    "id": "DK2_14rD2-FV"
   },
   "outputs": [],
   "source": [
    "# 리스트의 요소 참조하기\n",
    "\n",
    "# 첫 번째 요소\n",
    "print(l[0])\n",
    "\n",
    "# 세 번째 요소\n",
    "print(l[2])\n",
    "\n",
    "# 마지막 요소(이런 문법도 있음)\n",
    "print(l[-1])"
   ]
  },
  {
   "cell_type": "code",
   "execution_count": null,
   "metadata": {
    "colab": {},
    "colab_type": "code",
    "id": "Cqed2dAw2-FZ"
   },
   "outputs": [],
   "source": [
    "# 리스트의 일부를 참조하기 1\n",
    "\n",
    "# 부분 리스트 (인덱스가 2 이상, 5 미만)\n",
    "print(l[2:5])\n",
    "\n",
    "# 부분 리스트 (인덱스가 0 이상, 3 미만)\n",
    "print(l[0:3])\n",
    "\n",
    "# 시작 인덱스가 0이면 생략 가능함\n",
    "print(l[:3])"
   ]
  },
  {
   "cell_type": "code",
   "execution_count": null,
   "metadata": {
    "colab": {},
    "colab_type": "code",
    "id": "Af26k6nk2-Fc"
   },
   "outputs": [],
   "source": [
    "# 리스트의 일부를 참조하기 2\n",
    "\n",
    "# 부분 리스트 (인덱스가 4 이상, 마지막까지)\n",
    "# 리스트의 길이를 확인\n",
    "n = len(l) \n",
    "print(l[4:n])\n",
    "\n",
    "# 끝 인덱스가 마지막 인덱스이면 생략 가능함\n",
    "print(l[4:])\n",
    "\n",
    "# 뒤에서부터 두 개\n",
    "print(l[-2:])\n",
    "\n",
    "# 시작 인덱스와 끝 인덱스를 모두 생략하면 리스트 전체가 됨\n",
    "print(l[:])"
   ]
  },
  {
   "cell_type": "markdown",
   "metadata": {
    "colab_type": "text",
    "id": "0BcEDGw52-Fg"
   },
   "source": [
    "#### 튜플"
   ]
  },
  {
   "cell_type": "code",
   "execution_count": null,
   "metadata": {
    "colab": {},
    "colab_type": "code",
    "id": "clsh-h9U2-Fj"
   },
   "outputs": [],
   "source": [
    "# 튜플 정의하기\n",
    "t = (1, 2, 3, 5, 8, 13)\n",
    "\n",
    "# 튜플의 값\n",
    "print(t)\n",
    "\n",
    "# 튜플의 타입 \n",
    "print(type(t))\n",
    "\n",
    "# 튜플의 요소 수\n",
    "print(len(t))\n",
    "\n",
    "# 튜플의 요소 참조하기\n",
    "print(t[1])"
   ]
  },
  {
   "cell_type": "code",
   "execution_count": null,
   "metadata": {
    "colab": {},
    "colab_type": "code",
    "id": "Ab5jH3-B2-Fn"
   },
   "outputs": [],
   "source": [
    "t[1] = 1"
   ]
  },
  {
   "cell_type": "code",
   "execution_count": null,
   "metadata": {
    "colab": {},
    "colab_type": "code",
    "id": "0H7QX-AS2-Fq"
   },
   "outputs": [],
   "source": [
    "x = 1\n",
    "y = 2\n",
    "z = (x, y)\n",
    "print(type(z))"
   ]
  },
  {
   "cell_type": "code",
   "execution_count": null,
   "metadata": {
    "colab": {},
    "colab_type": "code",
    "id": "U3hYst__2-Ft"
   },
   "outputs": [],
   "source": [
    "a, b = z\n",
    "print(a)\n",
    "print(b)"
   ]
  },
  {
   "cell_type": "markdown",
   "metadata": {
    "colab_type": "text",
    "id": "vWpZdRag2-GJ"
   },
   "source": [
    "### 딕셔너리"
   ]
  },
  {
   "cell_type": "markdown",
   "metadata": {
    "colab_type": "text",
    "id": "qKh9XKnF2-GK"
   },
   "source": [
    "#### 딕셔너리 정의하기"
   ]
  },
  {
   "cell_type": "code",
   "execution_count": null,
   "metadata": {
    "colab": {},
    "colab_type": "code",
    "id": "2jPrrpfP2-GK"
   },
   "outputs": [],
   "source": [
    "# 딕셔너리 정의\n",
    "my_dict = {'yes': 1, 'no': 0}\n",
    "\n",
    "# print 함수로 출력하기\n",
    "print(my_dict)\n",
    "\n",
    "# type 함수의 결과\n",
    "print(type(my_dict))"
   ]
  },
  {
   "cell_type": "markdown",
   "metadata": {
    "colab_type": "text",
    "id": "toUV79K72-GR"
   },
   "source": [
    "#### 딕셔너리 참조하기"
   ]
  },
  {
   "cell_type": "code",
   "execution_count": null,
   "metadata": {
    "colab": {},
    "colab_type": "code",
    "id": "20DLuIRv2-GS"
   },
   "outputs": [],
   "source": [
    "# 키로 값을 참조하기\n",
    "\n",
    "# key= 'yes'인 값을 찾기\n",
    "value1 = my_dict['yes']\n",
    "print(value1)\n",
    "\n",
    "# key='no'인 값을 찾기\n",
    "value2 = my_dict['no']\n",
    "print(value2)"
   ]
  },
  {
   "cell_type": "markdown",
   "metadata": {
    "colab_type": "text",
    "id": "ePA6aK2I2-GV"
   },
   "source": [
    "#### 엔트리 추가하기"
   ]
  },
  {
   "cell_type": "code",
   "execution_count": null,
   "metadata": {
    "colab": {},
    "colab_type": "code",
    "id": "nCsydOXH2-GW"
   },
   "outputs": [],
   "source": [
    "# 엔트리 추가\n",
    "my_dict['neutral'] = 2\n",
    "\n",
    "# 결과 확인\n",
    "print(my_dict)"
   ]
  },
  {
   "cell_type": "markdown",
   "metadata": {
    "colab_type": "text",
    "id": "7A6JEafr2-Ga"
   },
   "source": [
    "### 제어 구조"
   ]
  },
  {
   "cell_type": "markdown",
   "metadata": {
    "colab_type": "text",
    "id": "83WIdtTd2-Ga"
   },
   "source": [
    "#### 반복 처리"
   ]
  },
  {
   "cell_type": "code",
   "execution_count": null,
   "metadata": {
    "colab": {},
    "colab_type": "code",
    "id": "5SqhNLCZ2-Gb"
   },
   "outputs": [],
   "source": [
    "# 반복 처리\n",
    "\n",
    "# 리스트 정의\n",
    "list4 = ['One', 'Two', 'Three', 'Four']\n",
    "\n",
    "# 반복 처리\n",
    "for item in list4:\n",
    "    print(item)"
   ]
  },
  {
   "cell_type": "code",
   "execution_count": null,
   "metadata": {
    "colab": {},
    "colab_type": "code",
    "id": "t-lTQuz22-Gh"
   },
   "outputs": [],
   "source": [
    "# range 함수와 함께 사용하기\n",
    "for item in range(4):\n",
    "    print(item)"
   ]
  },
  {
   "cell_type": "code",
   "execution_count": null,
   "metadata": {
    "colab": {},
    "colab_type": "code",
    "id": "QkzvKe852-Gl"
   },
   "outputs": [],
   "source": [
    "# range 함수의 인자가 두 개인 경우\n",
    "for item in range(1, 5):\n",
    "    print(item)"
   ]
  },
  {
   "cell_type": "code",
   "execution_count": null,
   "metadata": {
    "colab": {},
    "colab_type": "code",
    "id": "OLqB-ql82-Gq"
   },
   "outputs": [],
   "source": [
    "# range 함수의 인자가 세 개인 경우\n",
    "for item in range(1, 9, 2):\n",
    "    print(item)    "
   ]
  },
  {
   "cell_type": "markdown",
   "metadata": {
    "colab_type": "text",
    "id": "Lh4fff352-Gt"
   },
   "source": [
    "#### if문"
   ]
  },
  {
   "cell_type": "code",
   "execution_count": null,
   "metadata": {
    "colab": {},
    "colab_type": "code",
    "id": "Zol5399N2-Gt"
   },
   "outputs": [],
   "source": [
    "# if문 예제\n",
    "for i in range(1, 5):\n",
    "    if i % 2 == 0:\n",
    "        print(i, '은 짝수입니다')\n",
    "    else:\n",
    "        print(i, '은 홀수입니다')"
   ]
  },
  {
   "cell_type": "markdown",
   "metadata": {
    "colab_type": "text",
    "id": "fIXxsX3Y2-G5"
   },
   "source": [
    "####  함수"
   ]
  },
  {
   "cell_type": "code",
   "execution_count": null,
   "metadata": {
    "colab": {},
    "colab_type": "code",
    "id": "WKW7xi332-G5"
   },
   "outputs": [],
   "source": [
    "# 함수 정의의 예\n",
    "def square(x):\n",
    "    p2 = x * x\n",
    "    return p2\n",
    "\n",
    "# 함수 호출의 예\n",
    "x1 = 13\n",
    "r1 = square(x1)\n",
    "print(x1, r1)"
   ]
  },
  {
   "cell_type": "code",
   "execution_count": null,
   "metadata": {
    "colab": {},
    "colab_type": "code",
    "id": "EnWVLp8o2-G_"
   },
   "outputs": [],
   "source": [
    "#  함수 정의의 예 2\n",
    "def squares(x):\n",
    "    p2 = x * x\n",
    "    p3= x * x * x\n",
    "    return (p2, p3)\n",
    "\n",
    "# 함수 호출의 예\n",
    "x1 = 13\n",
    "p2, p3 = squares(x1)\n",
    "print(x1, p2, p3)"
   ]
  },
  {
   "cell_type": "markdown",
   "metadata": {
    "colab_type": "text",
    "id": "-lBmLd-D2-HC"
   },
   "source": [
    "#### 라이브러리 사용하기"
   ]
  },
  {
   "cell_type": "markdown",
   "metadata": {
    "colab_type": "text",
    "id": "pIlNIJ5b2-HF"
   },
   "source": [
    "#### import 문"
   ]
  },
  {
   "cell_type": "code",
   "execution_count": null,
   "metadata": {
    "colab": {},
    "colab_type": "code",
    "id": "4256qlzn2-HG"
   },
   "outputs": [],
   "source": [
    "# 라이브러리 임포트\n",
    "import pandas as pd\n",
    "import numpy as np\n",
    "import matplotlib.pyplot as plt\n",
    "\n",
    "# 데이터프레임 객체 출력 함수\n",
    "from IPython.display import display"
   ]
  },
  {
   "cell_type": "code",
   "execution_count": null,
   "metadata": {
    "colab": {},
    "colab_type": "code",
    "id": "coRwycFH2-HD"
   },
   "outputs": [],
   "source": [
    "# 한글 글꼴 설정\n",
    "import platform\n",
    "\n",
    "if platform.system() == 'Windows':\n",
    "    plt.rc('font', family='Malgun Gothic')\n",
    "elif platform.system() == 'Darwin':\n",
    "    plt.rc('font', family='Apple Gothic')"
   ]
  },
  {
   "cell_type": "markdown",
   "metadata": {
    "colab_type": "text",
    "id": "HwEohvnZ2-HT"
   },
   "source": [
    "#### 경고 메시지 무시하기"
   ]
  },
  {
   "cell_type": "code",
   "execution_count": null,
   "metadata": {
    "colab": {},
    "colab_type": "code",
    "id": "dBVuCfby2-HT"
   },
   "outputs": [],
   "source": [
    "# 불필요한 경고 메시지 무시하기\n",
    "import warnings\n",
    "warnings.filterwarnings('ignore')"
   ]
  },
  {
   "cell_type": "markdown",
   "metadata": {
    "colab_type": "text",
    "id": "sBjLfxG02-HY"
   },
   "source": [
    "#### 숫자 출력 조정"
   ]
  },
  {
   "cell_type": "code",
   "execution_count": null,
   "metadata": {
    "colab": {},
    "colab_type": "code",
    "id": "kRbJQtIu2-HZ"
   },
   "outputs": [],
   "source": [
    "# 문자열 포매팅\n",
    "a1 = 1.0/7.0\n",
    "a2 = 123\n",
    "\n",
    "str1 = f'a1 = {a1}   a2 = {a2}'\n",
    "print(str1)"
   ]
  },
  {
   "cell_type": "code",
   "execution_count": null,
   "metadata": {
    "colab": {},
    "colab_type": "code",
    "id": "U-J22Vwg2-Hc"
   },
   "outputs": [],
   "source": [
    "# 문자열 포매팅 상세 옵션\n",
    "\n",
    "# .4f : 소숫점 아래 4자리까지 고정 출력\n",
    "# 정수를 앞에 0을 붙여 4자리로 출력\n",
    "str2 = f'a1 = {a1:.4f}  a2 = {a2:04}'\n",
    "print(str2)\n",
    "\n",
    "# 04e : 소숫점 아래 4자리까지 부동소수 표시\n",
    "# #x 정수를 16진수로 출력\n",
    "str3 = f'a1 = {a1:.04e}  a2 = {a2:#x}'\n",
    "print(str3)"
   ]
  }
 ],
 "metadata": {
  "colab": {
   "collapsed_sections": [],
   "name": "c11_python.ipynb",
   "provenance": []
  },
  "kernelspec": {
   "display_name": "Python 3",
   "language": "python",
   "name": "python3"
  },
  "language_info": {
   "codemirror_mode": {
    "name": "ipython",
    "version": 3
   },
   "file_extension": ".py",
   "mimetype": "text/x-python",
   "name": "python",
   "nbconvert_exporter": "python",
   "pygments_lexer": "ipython3",
   "version": "3.7.10"
  }
 },
 "nbformat": 4,
 "nbformat_minor": 1
}
