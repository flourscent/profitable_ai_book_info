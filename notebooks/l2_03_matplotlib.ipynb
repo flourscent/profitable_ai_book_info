{
 "cells": [
  {
   "cell_type": "markdown",
   "metadata": {
    "colab_type": "text",
    "id": "5IMxZQV61P12"
   },
   "source": [
    "## 부록 2.3 matplotlinb 입문"
   ]
  },
  {
   "cell_type": "code",
   "execution_count": null,
   "metadata": {
    "colab": {},
    "colab_type": "code",
    "id": "EeFtwc6P1P18"
   },
   "outputs": [],
   "source": [
    "# 공통 처리\n",
    "\n",
    "# 불필요한 경고 메시지 무시\n",
    "import warnings\n",
    "warnings.filterwarnings('ignore')\n",
    "\n",
    "# 라이브러리 임포트\n",
    "import pandas as pd\n",
    "import numpy as np\n",
    "import matplotlib.pyplot as plt\n",
    "\n",
    "# 한글 글꼴 설정\n",
    "import platform\n",
    "\n",
    "if platform.system() == 'Windows':\n",
    "    plt.rc('font', family='Malgun Gothic')\n",
    "elif platform.system() == 'Darwin':\n",
    "    plt.rc('font', family='Apple Gothic')\n",
    "\n",
    "# 데이터프레임 출력용 함수\n",
    "from IPython.display import display\n",
    "\n",
    "# 그래프 글꼴 크기 설정\n",
    "plt.rcParams[\"font.size\"] = 14"
   ]
  },
  {
   "cell_type": "markdown",
   "metadata": {
    "colab_type": "text",
    "id": "u-fIeytl1P1_"
   },
   "source": [
    "### 1. 단순 방식 (plt.xxx 함수 사용)"
   ]
  },
  {
   "cell_type": "markdown",
   "metadata": {
    "colab_type": "text",
    "id": "udaKCL-L1P1_"
   },
   "source": [
    "#### 산점도"
   ]
  },
  {
   "cell_type": "code",
   "execution_count": null,
   "metadata": {
    "colab": {
     "base_uri": "https://localhost:8080/",
     "height": 195
    },
    "colab_type": "code",
    "id": "Es-WNkfv1P1_",
    "outputId": "d7149a8c-77a0-4aea-ed00-5d6f02f68733"
   },
   "outputs": [],
   "source": [
    "# 데이터 준비\n",
    "import seaborn as sns\n",
    "df_iris = sns.load_dataset(\"iris\") \n",
    "\n",
    "# 결과 확인\n",
    "display(df_iris.head())\n",
    "\n",
    "# 산점도 x좌표를 위한 시리즈\n",
    "xs = df_iris['sepal_length']\n",
    "\n",
    "# 산점도 y좌표를 위한 시리즈\n",
    "ys = df_iris['sepal_width']"
   ]
  },
  {
   "cell_type": "code",
   "execution_count": null,
   "metadata": {
    "colab": {
     "base_uri": "https://localhost:8080/",
     "height": 380
    },
    "colab_type": "code",
    "id": "UGxEsn0X1P2C",
    "outputId": "5aa7b5ce-8191-4235-95ff-3d7ee9776d94"
   },
   "outputs": [],
   "source": [
    "# 그래프 크기 설정\n",
    "plt.rcParams['figure.figsize'] = (6, 6)\n",
    "\n",
    "# 산점도 그리기\n",
    "plt.scatter(xs, ys)\n",
    "\n",
    "# 화면에 출력\n",
    "plt.show()"
   ]
  },
  {
   "cell_type": "markdown",
   "metadata": {
    "colab_type": "text",
    "id": "y7Ahnm431P2F"
   },
   "source": [
    "#### 함수의 그래프"
   ]
  },
  {
   "cell_type": "code",
   "execution_count": null,
   "metadata": {
    "colab": {},
    "colab_type": "code",
    "id": "1xx8yyay1P2F"
   },
   "outputs": [],
   "source": [
    "# 데이터 준비\n",
    "\n",
    "# 시그모이드 함수 정의\n",
    "def sigmoid(x, a):\n",
    "    return 1/(1 + np.exp(-a*x))\n",
    "\n",
    "# 그래프 x좌표를 위한 리스트\n",
    "xp = np.linspace(-3, 3, 61)"
   ]
  },
  {
   "cell_type": "markdown",
   "metadata": {
    "colab_type": "text",
    "id": "nARycg6a1P2K"
   },
   "source": [
    "#### 간단한 예"
   ]
  },
  {
   "cell_type": "code",
   "execution_count": null,
   "metadata": {
    "colab": {
     "base_uri": "https://localhost:8080/",
     "height": 377
    },
    "colab_type": "code",
    "id": "ProeQEHq1P2K",
    "outputId": "3b1cba67-33b7-44a8-8820-6fee960da9d9"
   },
   "outputs": [],
   "source": [
    "# 그래프 크기 설정\n",
    "plt.rcParams['figure.figsize'] = (6, 6)\n",
    "\n",
    "# 그래프 그리기\n",
    "plt.plot(xp, sigmoid(xp, 1.0))\n",
    "\n",
    "# 화면에 출력\n",
    "plt.show()"
   ]
  },
  {
   "cell_type": "markdown",
   "metadata": {
    "colab_type": "text",
    "id": "Ksn0T5h71P2O"
   },
   "source": [
    "#### 복잡한 예"
   ]
  },
  {
   "cell_type": "code",
   "execution_count": null,
   "metadata": {
    "colab": {
     "base_uri": "https://localhost:8080/",
     "height": 394
    },
    "colab_type": "code",
    "id": "we62RKgU1P2O",
    "outputId": "b3768133-e36e-454d-b6ef-ba3ed42662ba"
   },
   "outputs": [],
   "source": [
    "# 그래프 크기 설정\n",
    "plt.rcParams['figure.figsize'] = (6, 6)\n",
    "\n",
    "# 레이블이 달린 그래프 그리기 #1\n",
    "plt.plot(xp, sigmoid(xp, 1.0), \n",
    "         label='시그모이드함수1', lw=3, c='k')\n",
    "\n",
    "# 레이블이 달린 그래프 그리기 #2\n",
    "plt.plot(xp, sigmoid(xp, 2.0), \n",
    "         label='시그모이드함수2', lw=2, c='b')\n",
    "\n",
    "# 눈금 그리기\n",
    "plt.grid()\n",
    "\n",
    "# 범례 그리기\n",
    "plt.legend()\n",
    "\n",
    "# 축 표시\n",
    "plt.xlabel('x축')\n",
    "plt.ylabel('y축')\n",
    "\n",
    "# 화면 출력\n",
    "plt.show()"
   ]
  },
  {
   "cell_type": "markdown",
   "metadata": {
    "colab_type": "text",
    "id": "uADXcDSU1P2Q"
   },
   "source": [
    "### 2. fig, ax 변수를 사용하는 방식"
   ]
  },
  {
   "cell_type": "markdown",
   "metadata": {
    "colab_type": "text",
    "id": "XuZXa78I1P2R"
   },
   "source": [
    "#### 시계열 그래프 그리기"
   ]
  },
  {
   "cell_type": "code",
   "execution_count": null,
   "metadata": {
    "colab": {
     "base_uri": "https://localhost:8080/",
     "height": 195
    },
    "colab_type": "code",
    "id": "Foa8ikej1P2R",
    "outputId": "f96eca9d-d525-4d36-8eef-b01bad48790c"
   },
   "outputs": [],
   "source": [
    "# 데이터 준비\n",
    "\n",
    "# 아이스크림 지출액\n",
    "df_ice = pd.read_excel('https://github.com/flourscent\\\n",
    "/sample-data/blob/master/data/ice-sales.xlsx?raw=true', \n",
    "    sheet_name=0)\n",
    "\n",
    "# 결과 확인\n",
    "display(df_ice.head())"
   ]
  },
  {
   "cell_type": "code",
   "execution_count": null,
   "metadata": {
    "colab": {
     "base_uri": "https://localhost:8080/",
     "height": 313
    },
    "colab_type": "code",
    "id": "VegbZxD71P2U",
    "outputId": "91e19a66-282e-4907-b6fc-acddf8eb44c7"
   },
   "outputs": [],
   "source": [
    "# ax 변수를 구하기\n",
    "# 그래프 크기 설정도 겸한다\n",
    "fig, ax = plt.subplots(figsize=(12, 4))\n",
    "\n",
    "# 그래프 그리기\n",
    "ax.plot(df_ice['연월'], df_ice['지출'], c='b')\n",
    "\n",
    "# 날짜 설정용 라이브러리\n",
    "import matplotlib.dates as mdates\n",
    "\n",
    "# 눈금 간격을 3개월로 설정\n",
    "days = mdates.MonthLocator(bymonth=range(1,13,3))\n",
    "ax.xaxis.set_major_locator(days)\n",
    "\n",
    "# x축의 레이블을 90도 회전\n",
    "ax.tick_params(axis='x', rotation=90)\n",
    "\n",
    "# 눈금 표시\n",
    "ax.grid()\n",
    "\n",
    "# 화면 출력\n",
    "plt.show()"
   ]
  },
  {
   "cell_type": "markdown",
   "metadata": {
    "colab_type": "text",
    "id": "pXY-prC71P2W"
   },
   "source": [
    "### 3. ax 변수를 사용하는 방식 2 (그래프 영역을 여러 개 만드는 경우)"
   ]
  },
  {
   "cell_type": "markdown",
   "metadata": {
    "colab_type": "text",
    "id": "6r1lXoP71P2W"
   },
   "source": [
    "#### 여러 개의 그래프 영역에 그래프 그리기"
   ]
  },
  {
   "cell_type": "code",
   "execution_count": null,
   "metadata": {
    "colab": {},
    "colab_type": "code",
    "id": "jEPCWTgQ1P2X"
   },
   "outputs": [],
   "source": [
    "# 데이터 준비\n",
    "\n",
    "# 손글씨 데이터\n",
    "# 시간이 오래 걸릴 수 있으니 주의\n",
    "from sklearn.datasets import fetch_openml\n",
    "mnist = fetch_openml('mnist_784', version=1,)\n",
    "\n",
    "# 이미지 데이터\n",
    "image = mnist.data.values\n",
    "# 정답 데이터\n",
    "label = mnist.target"
   ]
  },
  {
   "cell_type": "code",
   "execution_count": null,
   "metadata": {
    "colab": {
     "base_uri": "https://localhost:8080/",
     "height": 201
    },
    "colab_type": "code",
    "id": "n8IJVncG1P2Z",
    "outputId": "80e489ec-dae5-437d-8e6f-614f4ca47c59"
   },
   "outputs": [],
   "source": [
    "# 그래프 크기 설정\n",
    "plt.figure(figsize=(10, 3))\n",
    "\n",
    "# 이미지 20장을 출력\n",
    "for i in range(20): \n",
    "    \n",
    "    # i번째 ax 변수를 얻음\n",
    "    ax = plt.subplot(2, 10, i+1)\n",
    "    \n",
    "    # i번째 이미지 데이터를 28x28 크기로 변환\n",
    "    img = image[i].reshape(28,28)\n",
    "    \n",
    "    # img를 이미지로 그림\n",
    "    ax.imshow(img, cmap='gray_r')\n",
    "    \n",
    "    # 정답 데이터를 타이틀로 표시\n",
    "    ax.set_title(label[i])\n",
    "    \n",
    "    # x, y 눈금 표시하지 않음\n",
    "    ax.set_xticks([])\n",
    "    ax.set_yticks([])\n",
    "    \n",
    "# 인접 오브젝트와 부딪히지 않게 함\n",
    "plt.tight_layout()\n",
    "\n",
    "# 화면 출력\n",
    "plt.show() "
   ]
  },
  {
   "cell_type": "markdown",
   "metadata": {
    "colab_type": "text",
    "id": "FgbdWcye1P2d"
   },
   "source": [
    "### 4. 데이터프레임을 이용하는 방식"
   ]
  },
  {
   "cell_type": "markdown",
   "metadata": {
    "colab_type": "text",
    "id": "tbhlYkiR1P2d"
   },
   "source": [
    "#### 데이터프레임으로 히스토그램 그리기"
   ]
  },
  {
   "cell_type": "code",
   "execution_count": null,
   "metadata": {
    "colab": {
     "base_uri": "https://localhost:8080/",
     "height": 505
    },
    "colab_type": "code",
    "id": "llxQ_15C1P2d",
    "outputId": "616411ab-dcdd-40fd-c639-e2c4e9b6339b"
   },
   "outputs": [],
   "source": [
    "# 히스토그램 그리기\n",
    "\n",
    "# 그래프 크기 설정\n",
    "plt.rcParams['figure.figsize'] = (8, 8)\n",
    "\n",
    "# 히스토그램 그리기\n",
    "df_iris.hist()\n",
    "\n",
    "# 화면 출력\n",
    "plt.show()"
   ]
  },
  {
   "cell_type": "markdown",
   "metadata": {
    "colab_type": "text",
    "id": "lhnKj6rw1P2g"
   },
   "source": [
    "#### 시리즈를 사용한 막대그래프 그리기"
   ]
  },
  {
   "cell_type": "code",
   "execution_count": null,
   "metadata": {
    "colab": {
     "base_uri": "https://localhost:8080/",
     "height": 122
    },
    "colab_type": "code",
    "id": "FDWruZXR1P2g",
    "outputId": "8fe0e3d6-7c47-4ee9-f435-290aba5f2df1"
   },
   "outputs": [],
   "source": [
    "# 데이터 준비\n",
    "\n",
    "# df_iris['sepal_width']의 값마다 건수를 집계하고 상위 5가지를 뽑음\n",
    "counts_ser = df_iris['sepal_width'].value_counts().iloc[:5]\n",
    "\n",
    "# 결과 확인\n",
    "print(counts_ser)"
   ]
  },
  {
   "cell_type": "code",
   "execution_count": null,
   "metadata": {
    "colab": {
     "base_uri": "https://localhost:8080/",
     "height": 277
    },
    "colab_type": "code",
    "id": "hDs643RN1P2i",
    "outputId": "e6b15da8-cdf6-4e35-adbc-116a21b1cd5b"
   },
   "outputs": [],
   "source": [
    "# value_counts 함수의 실행 결과로 막대그래프 그리기\n",
    "\n",
    "# 그래프 크기 설정\n",
    "plt.rcParams['figure.figsize'] = (4, 4)\n",
    "\n",
    "# 시리즈 데이터를 사용해 막대그래프 그리기\n",
    "counts_ser.plot(kind='bar')\n",
    "\n",
    "# 화면 출력\n",
    "plt.show()"
   ]
  }
 ],
 "metadata": {
  "colab": {
   "name": "l2_03_matplotlib.ipynb",
   "provenance": []
  },
  "kernelspec": {
   "display_name": "Python 3",
   "language": "python",
   "name": "python3"
  },
  "language_info": {
   "codemirror_mode": {
    "name": "ipython",
    "version": 3
   },
   "file_extension": ".py",
   "mimetype": "text/x-python",
   "name": "python",
   "nbconvert_exporter": "python",
   "pygments_lexer": "ipython3",
   "version": "3.7.10"
  }
 },
 "nbformat": 4,
 "nbformat_minor": 1
}
