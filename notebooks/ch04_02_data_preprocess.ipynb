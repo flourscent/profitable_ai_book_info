{
 "cells": [
  {
   "cell_type": "markdown",
   "metadata": {
    "colab_type": "text",
    "id": "HBHAy8u2Amxd"
   },
   "source": [
    "# 4.2 데이터 전처리"
   ]
  },
  {
   "cell_type": "code",
   "execution_count": null,
   "metadata": {
    "colab": {},
    "colab_type": "code",
    "id": "Nrru7Yj6Amxk"
   },
   "outputs": [],
   "source": [
    "# 공통 처리\n",
    "\n",
    "# 불필요한 경고 메시지 무시\n",
    "import warnings\n",
    "warnings.filterwarnings('ignore')\n",
    "\n",
    "# 라이브러리 임포트\n",
    "import pandas as pd\n",
    "import numpy as np\n",
    "import matplotlib.pyplot as plt\n",
    "\n",
    "# 한글 글꼴 설정\n",
    "import platform\n",
    "\n",
    "if platform.system() == 'Windows':\n",
    "    plt.rc('font', family='Malgun Gothic')\n",
    "elif platform.system() == 'Darwin':\n",
    "    plt.rc('font', family='Apple Gothic')\n",
    "\n",
    "# 데이터프레임 출력용 함수\n",
    "from IPython.display import display\n",
    "\n",
    "# 숫자 출력 조정\n",
    "# 넘파이 부동소수점 출력 자리수 설정\n",
    "np.set_printoptions(suppress=True, precision=4)\n",
    "\n",
    "# 판다스 부동소수점 출력 자리수 설정\n",
    "pd.options.display.float_format = '{:.4f}'.format\n",
    "\n",
    "# 데이터프레임 모든 필드 출력\n",
    "pd.set_option(\"display.max_columns\",None)\n",
    "\n",
    "# 그래프 글꼴 크기 설정\n",
    "plt.rcParams[\"font.size\"] = 14\n",
    "\n",
    "# 난수 시드\n",
    "random_seed = 123"
   ]
  },
  {
   "cell_type": "code",
   "execution_count": null,
   "metadata": {
    "colab": {},
    "colab_type": "code",
    "id": "VkHAUPpAAmxo"
   },
   "outputs": [],
   "source": [
    "# 추가 라이브러리 임포트\n",
    "import seaborn as sns\n",
    "\n",
    "# 데이터 읽어 들이기\n",
    "df_titanic = sns.load_dataset(\"titanic\")\n",
    "\n",
    "# 우리말 필드명 정의\n",
    "columns_t = [ '생존', '선실등급', '성별', '연령', '형제_및_배우자_수',\n",
    "              '부모_및_자녀_수', '요금', '승선항_코드', '선실등급명',\n",
    "              '남녀어린이_구분', '성인_남성_여부', '데크번호', '승선항', '생존_여부', '독신_여부']\n",
    "df_titanic.columns = columns_t"
   ]
  },
  {
   "cell_type": "markdown",
   "metadata": {
    "colab_type": "text",
    "id": "FlbSZALKAmxr"
   },
   "source": [
    "#### 데이터 확인"
   ]
  },
  {
   "cell_type": "code",
   "execution_count": null,
   "metadata": {
    "colab": {},
    "colab_type": "code",
    "id": "Owl-iBvxAmxr"
   },
   "outputs": [],
   "source": [
    "display(df_titanic.head())"
   ]
  },
  {
   "cell_type": "code",
   "execution_count": null,
   "metadata": {
    "colab": {},
    "colab_type": "code",
    "id": "0VPbGwNOAmxv"
   },
   "outputs": [],
   "source": [
    "print(df_titanic.shape)"
   ]
  },
  {
   "cell_type": "markdown",
   "metadata": {
    "colab_type": "text",
    "id": "1uUlYmVEAmxy"
   },
   "source": [
    "### 4.2.1 불필요한 필드 삭제하기"
   ]
  },
  {
   "cell_type": "code",
   "execution_count": null,
   "metadata": {
    "colab": {},
    "colab_type": "code",
    "id": "28i3M1LaAmxz"
   },
   "outputs": [],
   "source": [
    "# 중복되는 필드를 제거한다\n",
    "\n",
    "# \"선실등급명\" (\"선실등급\"과 중복)\n",
    "df1 = df_titanic.drop('선실등급명', axis=1)\n",
    "\n",
    "# \"승선항\" (\"승선항 코드\"와 중복)\n",
    "df2 = df1.drop('승선항', axis=1)\n",
    "\n",
    "# \"생존 여부\" (\"생존\"과 중복)\n",
    "df3 = df2.drop('생존_여부', axis=1)\n",
    "\n",
    "# 결과 확인\n",
    "display(df3.head())"
   ]
  },
  {
   "cell_type": "markdown",
   "metadata": {
    "colab_type": "text",
    "id": "HN0VV6zzAmx2"
   },
   "source": [
    "### 4.2.2 누락 값 처리하기"
   ]
  },
  {
   "cell_type": "code",
   "execution_count": null,
   "metadata": {
    "colab": {},
    "colab_type": "code",
    "id": "Eb_DaeKyAmx4"
   },
   "outputs": [],
   "source": [
    "# 누락 값 확인하기\n",
    "display(df3.isnull().sum())"
   ]
  },
  {
   "cell_type": "code",
   "execution_count": null,
   "metadata": {
    "colab": {},
    "colab_type": "code",
    "id": "NbToHuCQAmx-"
   },
   "outputs": [],
   "source": [
    "display(df3['데크번호'].value_counts())"
   ]
  },
  {
   "cell_type": "markdown",
   "metadata": {
    "colab_type": "text",
    "id": "1xSQo8kDAmyC"
   },
   "source": [
    "#### 누락 값 처리 방법\n",
    "\n",
    "**승선항 코드**: 누락 값이 2건(적음)\n",
    "-> 행 전체를 삭제 \n",
    "\n",
    "**연령**: 숫자 데이터이며 누락 값이 177건(꽤 많음)\n",
    "-> 필드 값의 평균값으로 누락 값을 대체\n",
    "\n",
    "**데크번호**: 코드값 필드이며 누락 값이 688건(아주 많음)\n",
    "-> 누락 값을 의미하는 더미 코드를 부여함"
   ]
  },
  {
   "cell_type": "code",
   "execution_count": null,
   "metadata": {
    "colab": {},
    "colab_type": "code",
    "id": "Ed_zIsnFAmyD"
   },
   "outputs": [],
   "source": [
    "# 승선항_코드: 누락 값이 2건(적음)\n",
    "# -> 행 전체를 삭제\n",
    "\n",
    "# dropna 함수를 사용\n",
    "df4 = df3.dropna(subset = ['승선항_코드'])\n",
    "\n",
    "# 연령: 숫자 데이터이며 누락 값이 177건(꽤 많음)\n",
    "# -> 필드 값의 평균값으로 누락 값을 대체\n",
    "\n",
    "# 평균값 계산\n",
    "age_average = df4['연령'].mean()\n",
    "\n",
    "# fillna 함수를 사용\n",
    "df5 = df4.fillna({'연령': age_average})\n",
    "\n",
    "# 데크번호: 코드값 필드이며 누락 값이 688건(아주 많음)\n",
    "# -> 누락 값을 의미하는 더미 코드를 부여함\n",
    "\n",
    "# replace 함수를 사용 (더미코드는 N)\n",
    "#df6 = df5.replace({'데크번호': {np.nan: 'N'}})\n",
    "df5['데크번호'] = df5['데크번호'].astype(np.str)\n",
    "df6 = df5.fillna({'데크번호' : 'N'})"
   ]
  },
  {
   "cell_type": "code",
   "execution_count": null,
   "metadata": {
    "colab": {},
    "colab_type": "code",
    "id": "BOuP-suBAmyF"
   },
   "outputs": [],
   "source": [
    "# 결과 확인\n",
    "display(df6.isnull().sum())\n",
    "\n",
    "display(df6.head())"
   ]
  },
  {
   "cell_type": "markdown",
   "metadata": {
    "colab_type": "text",
    "id": "jAqtq-8rAmyI"
   },
   "source": [
    "### 4.2.3 이진 레이블값 필드를 숫자 값 필드로 만들기\n",
    "\n",
    "**성별**: male / female  \n",
    "**성인_남성_여부**: True / False  \n",
    "**독신_여부**: True / False  \n",
    "    \n",
    "위 필드의 값을 각각 1 / 0으로 변환"
   ]
  },
  {
   "cell_type": "markdown",
   "metadata": {
    "colab_type": "text",
    "id": "7Dbx58hkAmyJ"
   },
   "source": [
    "#### '성별' 필드를 숫자 값 필드로 변환"
   ]
  },
  {
   "cell_type": "code",
   "execution_count": null,
   "metadata": {
    "colab": {},
    "colab_type": "code",
    "id": "AMgII8pjAmyK"
   },
   "outputs": [],
   "source": [
    "display(df6['성별'].value_counts())"
   ]
  },
  {
   "cell_type": "code",
   "execution_count": null,
   "metadata": {
    "colab": {},
    "colab_type": "code",
    "id": "Pvx7420kAmyN"
   },
   "outputs": [],
   "source": [
    "# 딕셔너리 mf_map을 정의\n",
    "mf_map = {'male': 1, 'female': 0}\n",
    "\n",
    "# map 함수를 사용해 레이블을 수치로 변환\n",
    "df7 = df6.copy()\n",
    "df7['성별'] = df7['성별'].map(mf_map)\n",
    "\n",
    "# 결과 확인\n",
    "display(df7.head())"
   ]
  },
  {
   "cell_type": "markdown",
   "metadata": {
    "colab_type": "text",
    "id": "HBbHoCE7AmyQ"
   },
   "source": [
    "#### '성인_남성_여부', '독신_여부' 필드를 숫자 값 필드로 변환"
   ]
  },
  {
   "cell_type": "code",
   "execution_count": null,
   "metadata": {
    "colab": {},
    "colab_type": "code",
    "id": "pCh077WkAmyQ"
   },
   "outputs": [],
   "source": [
    "display(df7['성인_남성_여부'].value_counts())"
   ]
  },
  {
   "cell_type": "code",
   "execution_count": null,
   "metadata": {
    "colab": {},
    "colab_type": "code",
    "id": "0AAMijDeAmyT"
   },
   "outputs": [],
   "source": [
    "# 딕셔너리 tf_map을 정의\n",
    "tf_map = {True: 1, False: 0}\n",
    "\n",
    "# map 함수를 사용해 레이블을 수치로 변환\n",
    "df8 = df7.copy()\n",
    "df8['성인_남성_여부'] = df8['성인_남성_여부'].map(tf_map)\n",
    "\n",
    "# map 함수를 사용해 레이블을 수치로 변환\n",
    "df9 = df8.copy()\n",
    "df9['독신_여부'] = df8['독신_여부'].map(tf_map)\n",
    "\n",
    "# 결과 확인\n",
    "display(df9.head())"
   ]
  },
  {
   "cell_type": "markdown",
   "metadata": {
    "colab_type": "text",
    "id": "U02AtIO9AmyX"
   },
   "source": [
    "### 4.2.4 다중 레이블값 필드를 숫자 값 필드로 만들기\n",
    "원-핫 인코딩"
   ]
  },
  {
   "cell_type": "code",
   "execution_count": null,
   "metadata": {
    "colab": {},
    "colab_type": "code",
    "id": "NERR1j5qAmyX"
   },
   "outputs": [],
   "source": [
    "# 변환 전\n",
    "display(df9[['남녀어린이_구분']].head(10))"
   ]
  },
  {
   "cell_type": "code",
   "execution_count": null,
   "metadata": {
    "colab": {},
    "colab_type": "code",
    "id": "droPsQSwAmya"
   },
   "outputs": [],
   "source": [
    "# get_dummies 함수의 사용 예제\n",
    "\n",
    "w = pd.get_dummies(df9['남녀어린이_구분'], prefix='남녀어린이_구분')\n",
    "display(w.head(10))"
   ]
  },
  {
   "cell_type": "code",
   "execution_count": null,
   "metadata": {
    "colab": {},
    "colab_type": "code",
    "id": "q14-sPSyAmyd"
   },
   "outputs": [],
   "source": [
    "# get_dummies 함수를 사용해 정의한\n",
    "# 범주값을 원-핫 벡터로 변환하는 함수\n",
    "# df 대상 데이터프레임\n",
    "# column 대상 필드\n",
    "\n",
    "def enc(df, column):\n",
    "    # 원-핫 벡터 생성\n",
    "    df_dummy = pd.get_dummies(df[column], prefix=column)\n",
    "    # 기존 필드 삭제\n",
    "    df_drop = df.drop([column], axis=1)\n",
    "    # 데이터프레임과 원-핫 인코딩 필드를 결합\n",
    "    df1 = pd.concat([df_drop,df_dummy],axis=1)\n",
    "    return df1"
   ]
  },
  {
   "cell_type": "markdown",
   "metadata": {
    "colab_type": "text",
    "id": "1_TDmrWVAmyf"
   },
   "source": [
    "#### 남녀어린이_구분\n",
    "man / woman / child"
   ]
  },
  {
   "cell_type": "code",
   "execution_count": null,
   "metadata": {
    "colab": {},
    "colab_type": "code",
    "id": "tzheYeFlAmyg"
   },
   "outputs": [],
   "source": [
    "# 레이블값 확인하기\n",
    "display(df9['남녀어린이_구분'].value_counts())"
   ]
  },
  {
   "cell_type": "code",
   "execution_count": null,
   "metadata": {
    "colab": {},
    "colab_type": "code",
    "id": "56fHHLsDAmyj"
   },
   "outputs": [],
   "source": [
    "# 원-핫 인코딩 적용\n",
    "\n",
    "# 남녀어린이_구분 필드\n",
    "df10 = enc(df9, '남녀어린이_구분')\n",
    "\n",
    "# 결과 확인하기\n",
    "display(df10.head())"
   ]
  },
  {
   "cell_type": "markdown",
   "metadata": {
    "colab_type": "text",
    "id": "XdfuLSKHAmym"
   },
   "source": [
    "#### 승선항 코드 및 데크번호"
   ]
  },
  {
   "cell_type": "code",
   "execution_count": null,
   "metadata": {
    "colab": {},
    "colab_type": "code",
    "id": "5DK3CjdxAmym"
   },
   "outputs": [],
   "source": [
    "# 원-핫 인코딩 적용\n",
    "\n",
    "# 승선항_코드 필드\n",
    "df11 = enc(df10, '승선항_코드')\n",
    "\n",
    "# 데크번호 필드\n",
    "df12 = enc(df11, '데크번호')\n",
    "\n",
    "# 결과 확인하기\n",
    "display(df12.head())"
   ]
  },
  {
   "cell_type": "markdown",
   "metadata": {
    "colab_type": "text",
    "id": "jWSOJSWAAmyp"
   },
   "source": [
    "### 4.2.5 데이터 정규화"
   ]
  },
  {
   "cell_type": "code",
   "execution_count": null,
   "metadata": {
    "colab": {},
    "colab_type": "code",
    "id": "M-0K0bEwAmyq",
    "scrolled": false
   },
   "outputs": [],
   "source": [
    "# 정규화\n",
    "\n",
    "df13 = df12.copy()\n",
    "from sklearn.preprocessing import StandardScaler\n",
    "stdsc = StandardScaler()\n",
    "df13[['연령', '요금']] = stdsc.fit_transform(df13[['연령', '요금']])\n",
    "\n",
    "# 결과 확인하기\n",
    "display(df13.head())"
   ]
  }
 ],
 "metadata": {
  "colab": {
   "collapsed_sections": [
    "7Dbx58hkAmyJ",
    "HBbHoCE7AmyQ"
   ],
   "name": "ch04_02_data_preprocess.ipynb",
   "provenance": []
  },
  "kernelspec": {
   "display_name": "Python 3",
   "language": "python",
   "name": "python3"
  },
  "language_info": {
   "codemirror_mode": {
    "name": "ipython",
    "version": 3
   },
   "file_extension": ".py",
   "mimetype": "text/x-python",
   "name": "python",
   "nbconvert_exporter": "python",
   "pygments_lexer": "ipython3",
   "version": "3.7.10"
  }
 },
 "nbformat": 4,
 "nbformat_minor": 1
}
