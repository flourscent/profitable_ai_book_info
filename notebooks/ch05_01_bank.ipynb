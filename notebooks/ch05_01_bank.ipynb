{
 "cells": [
  {
   "cell_type": "markdown",
   "metadata": {
    "colab_type": "text",
    "id": "greK8Y5uDD5k"
   },
   "source": [
    "## 5.1 영업 성공 예측(분류)"
   ]
  },
  {
   "cell_type": "markdown",
   "metadata": {
    "colab_type": "text",
    "id": "7buSd9V8DD5l"
   },
   "source": [
    "### 공통 전처리"
   ]
  },
  {
   "cell_type": "code",
   "execution_count": null,
   "metadata": {
    "colab": {},
    "colab_type": "code",
    "id": "1Mxrs7MVDD5p"
   },
   "outputs": [],
   "source": [
    "# 공통 처리\n",
    "\n",
    "# 불필요한 경고 메시지 무시\n",
    "import warnings\n",
    "warnings.filterwarnings('ignore')\n",
    "\n",
    "# 라이브러리 임포트\n",
    "import pandas as pd\n",
    "import numpy as np\n",
    "import matplotlib.pyplot as plt\n",
    "\n",
    "# 한글 글꼴 설정\n",
    "import platform\n",
    "\n",
    "if platform.system() == 'Windows':\n",
    "    plt.rc('font', family='Malgun Gothic')\n",
    "elif platform.system() == 'Darwin':\n",
    "    plt.rc('font', family='Apple Gothic')\n",
    "\n",
    "# 데이터프레임 출력용 함수\n",
    "from IPython.display import display\n",
    "\n",
    "# 숫자 출력 조정\n",
    "# 넘파이 부동소수점 출력 자리수 설정\n",
    "np.set_printoptions(suppress=True, precision=4)\n",
    "\n",
    "# 판다스 부동소수점 출력 자리수 설정\n",
    "pd.options.display.float_format = '{:.4f}'.format\n",
    "\n",
    "# 데이터프레임 모든 필드 출력\n",
    "pd.set_option(\"display.max_columns\",None)\n",
    "\n",
    "# 그래프 글꼴 크기 설정\n",
    "plt.rcParams[\"font.size\"] = 14\n",
    "\n",
    "# 난수 시드\n",
    "random_seed = 123"
   ]
  },
  {
   "cell_type": "code",
   "execution_count": null,
   "metadata": {
    "colab": {},
    "colab_type": "code",
    "id": "qPY0LwgIDD5s"
   },
   "outputs": [],
   "source": [
    "# 혼동행렬 출력용 함수\n",
    "\n",
    "def make_cm(matrix, columns):\n",
    "    # matrix : 넘파이 배열\n",
    "    # columns : 필드명 리스트\n",
    "    n = len(columns)\n",
    "    \n",
    "    # '정답 데이터'를 n번 반복해 연접한 리스트\n",
    "    act = ['정답데이터'] * n\n",
    "    pred = ['예측결과'] * n\n",
    "    \n",
    "    # 데이터프레임 생성\n",
    "    cm = pd.DataFrame(matrix, \n",
    "        columns=[pred, columns], index=[act, columns])\n",
    "    return cm"
   ]
  },
  {
   "cell_type": "markdown",
   "metadata": {
    "colab_type": "text",
    "id": "pqFtoL69DD5u"
   },
   "source": [
    "### 5.1.4 데이터 읽어 들이기부터 데이터 확인까지"
   ]
  },
  {
   "cell_type": "markdown",
   "metadata": {
    "colab_type": "text",
    "id": "vqPhIS63DD5u"
   },
   "source": [
    "#### 데이터 읽어 들이기"
   ]
  },
  {
   "cell_type": "code",
   "execution_count": null,
   "metadata": {
    "colab": {},
    "colab_type": "code",
    "id": "qvloe3H9DD5v"
   },
   "outputs": [],
   "source": [
    "# 데이터 집합을 내려받아 압축 해제\n",
    "!wget https://archive.ics.uci.edu/ml/machine-learning-databases/00222/bank.zip -O bank.zip | tail -n 1\n",
    "!unzip -o bank.zip | tail -n 1\n",
    "\n",
    "# 역주: 위 명령에서 오류가 날 경우 URL의 파일을 직접 내려받아 notebooks 디렉토리에\n",
    "# 압축을 해제하면 정상 진행할 수 있습니다.\n",
    "\n",
    "# bank-full.csv 파일을 데이터프레임으로 읽어 들이기\n",
    "df_all = pd.read_csv('bank-full.csv', sep=';')\n",
    "\n",
    "# 우리말 필드명을 정의\n",
    "columns = [\n",
    "    '연령', '직업', '혼인_여부', '학력', '채무불이행', '평균잔고', \n",
    "    '주택대출', '신용대출', '연락수단', '마지막통화일', \n",
    "    '마지막통화월', '마지막통화시간', '통화횟수_캠페인중', \n",
    "    '마지막영업후_경과일수', '통화횟수_캠페인전', '지난영업_결과', \n",
    "    '이번영업_결과' \n",
    "]\n",
    "df_all.columns = columns"
   ]
  },
  {
   "cell_type": "markdown",
   "metadata": {
    "colab_type": "text",
    "id": "Y831BSZ6DD5x"
   },
   "source": [
    "#### 데이터 확인"
   ]
  },
  {
   "cell_type": "code",
   "execution_count": null,
   "metadata": {
    "colab": {},
    "colab_type": "code",
    "id": "yW6T-FRwDD5x"
   },
   "outputs": [],
   "source": [
    "# 데이터프레임 내용 확인\n",
    "display(df_all.head())"
   ]
  },
  {
   "cell_type": "code",
   "execution_count": null,
   "metadata": {
    "colab": {},
    "colab_type": "code",
    "id": "mq3sna7PDD50"
   },
   "outputs": [],
   "source": [
    "# 데이터 건수와 필드 수 확인\n",
    "print(df_all.shape)\n",
    "print()\n",
    "\n",
    "# '이번영업_결과' 필드의 값 분포 확인\n",
    "print(df_all['이번영업_결과'].value_counts())\n",
    "print()\n",
    "\n",
    "# 영업 성공률 \n",
    "rate = df_all['이번영업_결과'].value_counts()['yes']/len(df_all)\n",
    "print(f'영업 성공률: {rate:.4f}')"
   ]
  },
  {
   "cell_type": "code",
   "execution_count": null,
   "metadata": {
    "colab": {},
    "colab_type": "code",
    "id": "yaC-1JhfDD52"
   },
   "outputs": [],
   "source": [
    "# 欠損値の確認\n",
    "print(df_all.isnull().sum())"
   ]
  },
  {
   "cell_type": "markdown",
   "metadata": {
    "colab_type": "text",
    "id": "8fcG4AcJDD54"
   },
   "source": [
    "### 5.1.5 데이터 전처리 및 데이터 분할"
   ]
  },
  {
   "cell_type": "markdown",
   "metadata": {
    "colab_type": "text",
    "id": "7WqV5i4mDD55"
   },
   "source": [
    "#### 데이터 전처리"
   ]
  },
  {
   "cell_type": "markdown",
   "metadata": {
    "colab_type": "text",
    "id": "utdgANk6DD55"
   },
   "source": [
    "##### 전처리 1단계"
   ]
  },
  {
   "cell_type": "code",
   "execution_count": null,
   "metadata": {
    "colab": {},
    "colab_type": "code",
    "id": "lfh1_7JVDD56"
   },
   "outputs": [],
   "source": [
    "# get_dummies 함수를 사용해 범주 값에 원-핫 인코딩 적용\n",
    "\n",
    "# 필드에 원-핫 인코딩을 적용하는 함수\n",
    "def enc(df, column):\n",
    "    df_dummy = pd.get_dummies(df[column], prefix=column)\n",
    "    df = pd.concat([df.drop([column],axis=1),df_dummy],axis=1)\n",
    "    return df\n",
    "\n",
    "df_all2 = df_all.copy()\n",
    "df_all2 = enc(df_all2, '직업')\n",
    "df_all2 = enc(df_all2, '혼인_여부')\n",
    "df_all2 = enc(df_all2, '학력')\n",
    "df_all2 = enc(df_all2, '연락수단')\n",
    "df_all2 = enc(df_all2, '지난영업_결과')\n",
    "\n",
    "# 결과 확인\n",
    "display(df_all2.head())"
   ]
  },
  {
   "cell_type": "markdown",
   "metadata": {
    "colab_type": "text",
    "id": "8sxzhdFLDD58"
   },
   "source": [
    "##### 전처리 2단계"
   ]
  },
  {
   "cell_type": "code",
   "execution_count": null,
   "metadata": {
    "colab": {},
    "colab_type": "code",
    "id": "MwTqLY8NDD58"
   },
   "outputs": [],
   "source": [
    "# yes/no를 1과 0으로 변환\n",
    "\n",
    "# 이진 레이블값(yes/no)를 정수(1/0)으로 변환하는 함수\n",
    "def enc_bin(df, column):\n",
    "    df[column] = df[column].map(dict(yes=1, no=0))\n",
    "    return df\n",
    "\n",
    "df_all2 = enc_bin(df_all2, '채무불이행')\n",
    "df_all2 = enc_bin(df_all2, '주택대출')\n",
    "df_all2 = enc_bin(df_all2, '신용대출')\n",
    "df_all2 = enc_bin(df_all2, '이번영업_결과')\n",
    "\n",
    "# 결과 확인\n",
    "display(df_all2.head())"
   ]
  },
  {
   "cell_type": "markdown",
   "metadata": {
    "colab_type": "text",
    "id": "sdzcZczGDD5-"
   },
   "source": [
    "##### 전처리 3단계"
   ]
  },
  {
   "cell_type": "code",
   "execution_count": null,
   "metadata": {
    "colab": {},
    "colab_type": "code",
    "id": "89k7MqrmDD5-"
   },
   "outputs": [],
   "source": [
    "# 달 이름(jan, feb ..)을 숫자(1, 2 ..)로 변환\n",
    "\n",
    "month_dict = dict(jan=1, feb=2, mar=3, apr=4,\n",
    "    may=5, jun=6, jul=7, aug=8, sep=9, oct=10,\n",
    "    nov=11, dec=12)\n",
    "\n",
    "def enc_month(df, column):\n",
    "    df[column] = df[column].map(month_dict)\n",
    "    return df\n",
    "\n",
    "df_all2 = enc_month(df_all2, '마지막통화월')\n",
    "\n",
    "# 결과 확인\n",
    "display(df_all2.head())"
   ]
  },
  {
   "cell_type": "markdown",
   "metadata": {
    "colab_type": "text",
    "id": "ag6NF3YGDD6B"
   },
   "source": [
    "#### 데이터 분할"
   ]
  },
  {
   "cell_type": "code",
   "execution_count": null,
   "metadata": {
    "colab": {},
    "colab_type": "code",
    "id": "RNM-n5xNDD6B"
   },
   "outputs": [],
   "source": [
    "# 입력 데이터와 정답 데이터를 나누기\n",
    "x = df_all2.drop('이번영업_결과', axis=1)\n",
    "y = df_all2['이번영업_결과'].values\n",
    "\n",
    "# 학습 데이터와 검증 데이터를 나누기\n",
    "# 학습 데이터 60%, 검증 데이터 40%의 비율이 되도록 분할\n",
    "test_size = 0.4\n",
    "\n",
    "from sklearn.model_selection import train_test_split\n",
    "x_train, x_test, y_train, y_test = train_test_split(\n",
    "  x, y, test_size=test_size, random_state=random_seed,\n",
    "  stratify=y)"
   ]
  },
  {
   "cell_type": "markdown",
   "metadata": {
    "colab_type": "text",
    "id": "DpTcsQUnDD6D"
   },
   "source": [
    "### 5.1.6 알고리즘 선택하기"
   ]
  },
  {
   "cell_type": "markdown",
   "metadata": {
    "colab_type": "text",
    "id": "pkhoVI43DD6E"
   },
   "source": [
    "#### 알고리즘 선택"
   ]
  },
  {
   "cell_type": "code",
   "execution_count": null,
   "metadata": {
    "colab": {},
    "colab_type": "code",
    "id": "cvDcyK4NDD6F"
   },
   "outputs": [],
   "source": [
    "# 후보 알고리즘 리스트 만들기\n",
    "\n",
    "# 로지스틱 회귀 (4.3.3)\n",
    "from sklearn.linear_model import LogisticRegression\n",
    "algorithm1 = LogisticRegression(random_state=random_seed)\n",
    "\n",
    "# 결정 트리 (4.3.6)\n",
    "from sklearn.tree import DecisionTreeClassifier\n",
    "algorithm2 = DecisionTreeClassifier(random_state=random_seed)\n",
    "\n",
    "# 랜덤 포레스트 (4.3.7)\n",
    "from sklearn.ensemble import RandomForestClassifier\n",
    "algorithm3 = RandomForestClassifier(random_state=random_seed)\n",
    "\n",
    "# XGBoost (4.3.8)\n",
    "from xgboost import XGBClassifier\n",
    "algorithm4 = XGBClassifier(random_state=random_seed)\n",
    "\n",
    "algorithms = [algorithm1, algorithm2, algorithm3, algorithm4]"
   ]
  },
  {
   "cell_type": "code",
   "execution_count": null,
   "metadata": {
    "colab": {},
    "colab_type": "code",
    "id": "WjGF85RzDD6H"
   },
   "outputs": [],
   "source": [
    "# 교차검증법을 적용해 최적의 알고리즘을 선정한다\n",
    "from sklearn.model_selection import StratifiedKFold\n",
    "stratifiedkfold = StratifiedKFold(n_splits=3)\n",
    "\n",
    "from sklearn.model_selection import cross_val_score\n",
    "for algorithm in algorithms:\n",
    "    # 교차검증법 적용\n",
    "    scores = cross_val_score(algorithm , x_train, y_train,\n",
    "        cv=stratifiedkfold, scoring='roc_auc')\n",
    "    score = scores.mean()\n",
    "    name = algorithm.__class__.__name__\n",
    "    print(f'평균 정확도: {score:.4f}  개별 정확도: {scores}  {name}')"
   ]
  },
  {
   "cell_type": "markdown",
   "metadata": {
    "colab_type": "text",
    "id": "OvI5OazYDD6J"
   },
   "source": [
    "#### 결론\n",
    "XGBoost가 네 가지 알고리즘 중 가장 높은 성능을 보였다.  \n",
    "-> 지금부터는 XGBoost를 사용한다."
   ]
  },
  {
   "cell_type": "markdown",
   "metadata": {
    "colab_type": "text",
    "id": "H2WS6jc9DD6J"
   },
   "source": [
    "### 5.1.7 학습, 예측, 평가 단계"
   ]
  },
  {
   "cell_type": "code",
   "execution_count": null,
   "metadata": {
    "colab": {},
    "colab_type": "code",
    "id": "gm9ZnYQqDD6J"
   },
   "outputs": [],
   "source": [
    "# 알고리즘 선택 (XGBoost)\n",
    "algorithm = XGBClassifier(random_state=random_seed)\n",
    "\n",
    "# 학습\n",
    "algorithm.fit(x_train, y_train)\n",
    "\n",
    "# 예측\n",
    "y_pred = algorithm.predict(x_test)"
   ]
  },
  {
   "cell_type": "code",
   "execution_count": null,
   "metadata": {
    "colab": {},
    "colab_type": "code",
    "id": "3o4jUNMrDD6L"
   },
   "outputs": [],
   "source": [
    "# 평가\n",
    "\n",
    "# 혼동행렬 출력\n",
    "from sklearn.metrics import confusion_matrix\n",
    "df_matrix = make_cm(\n",
    "    confusion_matrix(y_test, y_pred), ['실패', '성공'])\n",
    "display(df_matrix)\n",
    "\n",
    "# 정확률, 재현율, F-점수 계산하기\n",
    "from sklearn.metrics import precision_recall_fscore_support\n",
    "precision, recall, fscore, _ = precision_recall_fscore_support(\n",
    "    y_test, y_pred, average='binary')\n",
    "print(f'정밀도: {precision:.4f}  재현율: {recall:.4f}  F-점수: {fscore:.4f}')"
   ]
  },
  {
   "cell_type": "markdown",
   "metadata": {
    "colab_type": "text",
    "id": "nLvsE5E4DD6N"
   },
   "source": [
    "### 5.1.8 튜닝"
   ]
  },
  {
   "cell_type": "markdown",
   "metadata": {
    "colab_type": "text",
    "id": "2M8Cw9-9DD6O"
   },
   "source": [
    "#### 확률값의 도수분포 그래프"
   ]
  },
  {
   "cell_type": "code",
   "execution_count": null,
   "metadata": {
    "colab": {},
    "colab_type": "code",
    "id": "OUEel6NnDD6O"
   },
   "outputs": [],
   "source": [
    "# 확률값의 도수분포 그래프\n",
    "import seaborn as sns\n",
    "\n",
    "# y=0인 데이터의 확률값 구하기\n",
    "y_proba0 = algorithm.predict_proba(x_test)[:,1]\n",
    "\n",
    "# y_test=0과 y_test=1로 데이터를 분할\n",
    "y0 = y_proba0[y_test==0]\n",
    "y1 = y_proba0[y_test==1]\n",
    "\n",
    "# 산포도 그리기\n",
    "plt.figure(figsize=(6,6))\n",
    "plt.title('확률값의 도수분포')\n",
    "sns.distplot(y1, kde=False, norm_hist=True,\n",
    "    bins=50, color='b', label='성공')\n",
    "sns.distplot(y0, kde=False, norm_hist=True,\n",
    "    bins=50, color='k', label='실패')\n",
    "plt.xlabel('확률값')\n",
    "plt.legend()\n",
    "plt.show()"
   ]
  },
  {
   "cell_type": "markdown",
   "metadata": {
    "colab_type": "text",
    "id": "54UJyEfuDD6Q"
   },
   "source": [
    "#### predict_proba 함수를 사용해 0.5 외의 값을 역치로 설정해 예측을 수행\n",
    "(4.4절 참조)  "
   ]
  },
  {
   "cell_type": "code",
   "execution_count": null,
   "metadata": {
    "colab": {},
    "colab_type": "code",
    "id": "AAQy8MAADD6Q"
   },
   "outputs": [],
   "source": [
    "# 설정한 역치 값에 대해 예측을 수행하는 함수\n",
    "def pred(algorithm, x, thres):\n",
    "    # 확률값 꺼내기 (행렬)\n",
    "    y_proba = algorithm.predict_proba(x)\n",
    "\n",
    "    # 예측결과 1의 함숫값\n",
    "    y_proba1 =  y_proba[:,1]\n",
    "\n",
    "    # 예측결과 1의 함숫값이 역치보다 큰가? \n",
    "    y_pred = (y_proba1 > thres).astype(int)\n",
    "    return y_pred"
   ]
  },
  {
   "cell_type": "code",
   "execution_count": null,
   "metadata": {
    "colab": {},
    "colab_type": "code",
    "id": "Xd2q8qUfDD6S",
    "scrolled": true
   },
   "outputs": [],
   "source": [
    "# 역치를 0.05씩 감소시켜가며 정확률, 재현율, F-점수를 계산한다\n",
    "thres_list = np.arange(0.5, 0, -0.05)\n",
    "\n",
    "for thres in thres_list:\n",
    "    y_pred = pred(algorithm, x_test, thres)\n",
    "    pred_sum =  y_pred.sum()\n",
    "    precision, recall, fscore, _ = precision_recall_fscore_support(\n",
    "        y_test, y_pred, average='binary')\n",
    "    print(f'역치: {thres:.2f} 양성 예측 수: {pred_sum}\\\n",
    " 정밀도: {precision:.4f} 재현율: {recall:.4f}  F-점수: {fscore:.4f})')"
   ]
  },
  {
   "cell_type": "code",
   "execution_count": null,
   "metadata": {
    "colab": {},
    "colab_type": "code",
    "id": "X-3RKzXCDD6U"
   },
   "outputs": [],
   "source": [
    "# F-점수가 최대가 되는 역치는 0.30\n",
    "y_final = pred(algorithm, x_test, 0.30)\n",
    "\n",
    "# 혼동행렬을 출력\n",
    "df_matrix2 = make_cm(\n",
    "    confusion_matrix(y_test, y_final), ['실패', '성공'])\n",
    "display(df_matrix2)\n",
    "\n",
    "# 정확률, 재현율, F-점수를 계산\n",
    "precision, recall, fscore, _ = precision_recall_fscore_support(\n",
    "    y_test, y_final, average='binary')\n",
    "print(f'정밀도: {precision:.4f}  재현율: {recall:.4f}\\\n",
    "  F-점수: {fscore:.4f}')"
   ]
  },
  {
   "cell_type": "markdown",
   "metadata": {
    "colab_type": "text",
    "id": "T2Qfm0sJDD6W"
   },
   "source": [
    "### 5.1.9 중요도 분석"
   ]
  },
  {
   "cell_type": "code",
   "execution_count": null,
   "metadata": {
    "colab": {},
    "colab_type": "code",
    "id": "HL4FWFeEDD6W"
   },
   "outputs": [],
   "source": [
    "# 중요도 분석\n",
    "\n",
    "# 중요도 벡터 계산\n",
    "importances = algorithm.feature_importances_\n",
    "\n",
    "# 필드명을 키로 Series 객체를 생성\n",
    "w = pd.Series(importances, index=x.columns)\n",
    "\n",
    "# 내림차순으로 정렬\n",
    "u = w.sort_values(ascending=False)\n",
    "\n",
    "# 상위 1개 항목을 추출\n",
    "v = u[:10]\n",
    "\n",
    "# 중요도의 막대그래프를 출력\n",
    "plt.title('입력 필드의 중요도')\n",
    "plt.bar(range(len(v)), v, color='b', align='center')\n",
    "plt.xticks(range(len(v)), v.index, rotation=90)\n",
    "plt.show()"
   ]
  },
  {
   "cell_type": "code",
   "execution_count": null,
   "metadata": {
    "colab": {},
    "colab_type": "code",
    "id": "7pKrc1ddDD6Y"
   },
   "outputs": [],
   "source": [
    "column = '지난영업_결과_success'\n",
    "\n",
    "sns.distplot(x_test[y_test==1][column], kde=False, norm_hist=True,\n",
    "            bins=5,color='b', label='성공')\n",
    "sns.distplot(x_test[y_test==0][column], kde=False, norm_hist=True,\n",
    "             bins=5,color='k', label='실패')\n",
    "\n",
    "plt.legend()\n",
    "plt.show()"
   ]
  },
  {
   "cell_type": "code",
   "execution_count": null,
   "metadata": {
    "colab": {},
    "colab_type": "code",
    "id": "QVCfG-gsDD6a"
   },
   "outputs": [],
   "source": [
    "column = '마지막통화시간'\n",
    "\n",
    "sns.distplot(x_test[y_test==1][column], kde=False, norm_hist=True,\n",
    "             bins=50, color='b', label='성공')\n",
    "sns.distplot(x_test[y_test==0][column], kde=False, norm_hist=True,\n",
    "             bins=50, color='k', label='실패')\n",
    "\n",
    "plt.legend()\n",
    "plt.show()"
   ]
  },
  {
   "cell_type": "code",
   "execution_count": null,
   "metadata": {
    "colab": {},
    "colab_type": "code",
    "id": "rVejoJVUDD6c"
   },
   "outputs": [],
   "source": [
    "column = '연락수단_unknown'\n",
    "\n",
    "sns.distplot(x_test[y_test==1][column], kde=False, norm_hist=True,\n",
    "            bins=5,color='b', label='성공')\n",
    "sns.distplot(x_test[y_test==0][column], kde=False, norm_hist=True,\n",
    "             bins=5,color='k', label='실패')\n",
    "\n",
    "plt.legend()\n",
    "plt.show()"
   ]
  },
  {
   "cell_type": "code",
   "execution_count": null,
   "metadata": {
    "colab": {},
    "colab_type": "code",
    "id": "oUqD2Uk1DD6e"
   },
   "outputs": [],
   "source": [
    "column = '주택대출'\n",
    "\n",
    "sns.distplot(x_test[y_test==1][column], kde=False, norm_hist=True,\n",
    "            bins=5,color='b', label='성공')\n",
    "sns.distplot(x_test[y_test==0][column], kde=False, norm_hist=True,\n",
    "             bins=5,color='k', label='실패')\n",
    "\n",
    "plt.legend()\n",
    "plt.show()"
   ]
  },
  {
   "cell_type": "code",
   "execution_count": null,
   "metadata": {
    "colab": {},
    "colab_type": "code",
    "id": "zBr8S7z2DD6g"
   },
   "outputs": [],
   "source": [
    "column = '혼인_여부_single'\n",
    "\n",
    "sns.distplot(x_test[y_test==1][column], kde=False, norm_hist=True,\n",
    "            bins=5,color='b', label='성공')\n",
    "sns.distplot(x_test[y_test==0][column], kde=False, norm_hist=True,\n",
    "             bins=5,color='k', label='실패')\n",
    "\n",
    "plt.legend()\n",
    "plt.show()"
   ]
  },
  {
   "cell_type": "code",
   "execution_count": null,
   "metadata": {
    "colab": {},
    "colab_type": "code",
    "id": "mq2hl4maDD6h"
   },
   "outputs": [],
   "source": []
  }
 ],
 "metadata": {
  "colab": {
   "name": "ch05_01_bank.ipynb",
   "provenance": []
  },
  "kernelspec": {
   "display_name": "Python 3",
   "language": "python",
   "name": "python3"
  },
  "language_info": {
   "codemirror_mode": {
    "name": "ipython",
    "version": 3
   },
   "file_extension": ".py",
   "mimetype": "text/x-python",
   "name": "python",
   "nbconvert_exporter": "python",
   "pygments_lexer": "ipython3",
   "version": "3.7.10"
  }
 },
 "nbformat": 4,
 "nbformat_minor": 1
}
