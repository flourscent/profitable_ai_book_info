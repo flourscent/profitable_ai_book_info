{
 "cells": [
  {
   "cell_type": "markdown",
   "metadata": {
    "colab_type": "text",
    "id": "ORsio2qVD3Rl"
   },
   "source": [
    "## 5.5 계층별 고객 판매 전략 (클러스터링, 차원 축소)\n"
   ]
  },
  {
   "cell_type": "markdown",
   "metadata": {
    "colab_type": "text",
    "id": "060CpHNuD3Rm"
   },
   "source": [
    "### 공통 전처리"
   ]
  },
  {
   "cell_type": "code",
   "execution_count": null,
   "metadata": {
    "colab": {},
    "colab_type": "code",
    "id": "Lyt_vTxUD3Rq"
   },
   "outputs": [],
   "source": [
    "# 공통 처리\n",
    "\n",
    "# 불필요한 경고 메시지 무시\n",
    "import warnings\n",
    "warnings.filterwarnings('ignore')\n",
    "\n",
    "# 라이브러리 임포트\n",
    "import pandas as pd\n",
    "import numpy as np\n",
    "import matplotlib.pyplot as plt\n",
    "\n",
    "# 한글 글꼴 설정\n",
    "import platform\n",
    "\n",
    "if platform.system() == 'Windows':\n",
    "    plt.rc('font', family='Malgun Gothic')\n",
    "elif platform.system() == 'Darwin':\n",
    "    plt.rc('font', family='Apple Gothic')\n",
    "\n",
    "# 데이터프레임 출력용 함수\n",
    "from IPython.display import display\n",
    "\n",
    "# 숫자 출력 조정\n",
    "# 넘파이 부동소수점 출력 자리수 설정\n",
    "np.set_printoptions(suppress=True, precision=4)\n",
    "\n",
    "# 판다스 부동소수점 출력 자리수 설정\n",
    "pd.options.display.float_format = '{:.4f}'.format\n",
    "\n",
    "# 데이터프레임 모든 필드 출력\n",
    "pd.set_option(\"display.max_columns\",None)\n",
    "\n",
    "# 그래프 글꼴 크기 설정\n",
    "plt.rcParams[\"font.size\"] = 14\n",
    "\n",
    "# 난수 시드\n",
    "random_seed = 123"
   ]
  },
  {
   "cell_type": "markdown",
   "metadata": {
    "colab_type": "text",
    "id": "HQlDUVzRD3Rs"
   },
   "source": [
    "데이터 집합 배포 웹 페이지  \n",
    "\n",
    "https://archive.ics.uci.edu/ml/datasets/wholesale+customers"
   ]
  },
  {
   "cell_type": "markdown",
   "metadata": {
    "colab_type": "text",
    "id": "iB_ocZwOD3Rt"
   },
   "source": [
    "### 5.5.4 데이터 읽어 들이기부터 데이터 확인까지"
   ]
  },
  {
   "cell_type": "markdown",
   "metadata": {
    "colab_type": "text",
    "id": "zNKorSZmD3Rt"
   },
   "source": [
    "#### 데이터 읽어 들이기"
   ]
  },
  {
   "cell_type": "code",
   "execution_count": null,
   "metadata": {
    "colab": {},
    "colab_type": "code",
    "id": "TsPBG-ECD3Ru"
   },
   "outputs": [],
   "source": [
    "# 데이터 읽어 들이기\n",
    "url = 'https://archive.ics.uci.edu/ml/machine-learning-databases/00292/Wholesale%20customers%20data.csv'\n",
    "\n",
    "df = pd.read_csv(url)\n",
    "\n",
    "# 우리말 필드명 정의\n",
    "columns = [ '판매_채널', '지역', '신선식품', '유제품', '식료품',\n",
    "    '냉동식품', '세제_종이제품', '부식']\n",
    "df.columns = columns"
   ]
  },
  {
   "cell_type": "markdown",
   "metadata": {
    "colab_type": "text",
    "id": "oTLRFKx3D3Rw"
   },
   "source": [
    "#### 데이터 확인하기"
   ]
  },
  {
   "cell_type": "code",
   "execution_count": null,
   "metadata": {
    "colab": {
     "base_uri": "https://localhost:8080/",
     "height": 213
    },
    "colab_type": "code",
    "id": "gKvGiyRXD3Rw",
    "outputId": "fcc57a18-e2f1-44f1-d238-47dc58e2c32a"
   },
   "outputs": [],
   "source": [
    "# 데이터 내용 확인\n",
    "display(df.head())\n",
    "\n",
    "# 건수 확인\n",
    "print(df.shape)"
   ]
  },
  {
   "cell_type": "code",
   "execution_count": null,
   "metadata": {
    "colab": {
     "base_uri": "https://localhost:8080/",
     "height": 175
    },
    "colab_type": "code",
    "id": "Z1WIzw_tD3Rz",
    "outputId": "896dd8bc-e617-42c9-e9b8-85233b1dcc13"
   },
   "outputs": [],
   "source": [
    "# 누락 값 확인\n",
    "print(df.isnull().sum())"
   ]
  },
  {
   "cell_type": "code",
   "execution_count": null,
   "metadata": {
    "colab": {
     "base_uri": "https://localhost:8080/",
     "height": 158
    },
    "colab_type": "code",
    "id": "j-2hfTBnD3R1",
    "outputId": "ac0d6861-0ed7-406d-d5d5-f57bffeb4eaa"
   },
   "outputs": [],
   "source": [
    "# '판매_채널'의 레이블값 확인\n",
    "print(df['판매_채널'].value_counts())\n",
    "print()\n",
    "\n",
    "# '지역'의 레이블값 확인\n",
    "print(df['지역'].value_counts())"
   ]
  },
  {
   "cell_type": "markdown",
   "metadata": {
    "colab_type": "text",
    "id": "zSMqakKJD3R3"
   },
   "source": [
    "#### '판매_채널' 레이블 값의 의미\n",
    "1.  Horeca(호텔, 레스토랑, 카페) 298 \n",
    "2. Retail(소매점) 142 "
   ]
  },
  {
   "cell_type": "markdown",
   "metadata": {
    "colab_type": "text",
    "id": "aLARYhrsD3R4"
   },
   "source": [
    "#### '지역' 레이블 값의 의미\n",
    "1.  Lisbon(리스본) 77 \n",
    "2. Oporto(포르투) 47 \n",
    "3. Other Region(기타) 316 \n",
    "\n"
   ]
  },
  {
   "cell_type": "markdown",
   "metadata": {
    "colab_type": "text",
    "id": "wS0QnunZD3R4"
   },
   "source": [
    "#### 히스토그램 그리기"
   ]
  },
  {
   "cell_type": "code",
   "execution_count": null,
   "metadata": {
    "colab": {
     "base_uri": "https://localhost:8080/",
     "height": 577
    },
    "colab_type": "code",
    "id": "e7El541nD3R5",
    "outputId": "c2a62863-b9c4-4808-d124-bf8d480d3579",
    "scrolled": false
   },
   "outputs": [],
   "source": [
    "# '판매_채널'과 '지역'을 제외\n",
    "df2 = df.drop(['販売チャネル', '地域'], axis=1)\n",
    "\n",
    "# 대상 필드의 히스토그램을 그리기\n",
    "from pylab import rcParams\n",
    "rcParams['figure.figsize'] = (8, 8)\n",
    "df2.hist(bins=20)\n",
    "plt.tight_layout() \n",
    "plt.show()"
   ]
  },
  {
   "cell_type": "markdown",
   "metadata": {
    "colab_type": "text",
    "id": "qI5f31AtD3R7"
   },
   "source": [
    "### 5.5.5 클러스터링"
   ]
  },
  {
   "cell_type": "code",
   "execution_count": null,
   "metadata": {
    "colab": {},
    "colab_type": "code",
    "id": "CfEPfY8cD3R7"
   },
   "outputs": [],
   "source": [
    "# 데이터 전처리 및 데이터 분할은 불필요함\n",
    "\n",
    "# 알고리즘 선택\n",
    "from sklearn.cluster import KMeans\n",
    "\n",
    "# 클러스터 수를 지정\n",
    "clusters=4\n",
    "\n",
    "# 알고리즘 정의\n",
    "algorithm = KMeans(n_clusters=clusters, \n",
    "    random_state=random_seed)"
   ]
  },
  {
   "cell_type": "code",
   "execution_count": null,
   "metadata": {
    "colab": {
     "base_uri": "https://localhost:8080/",
     "height": 34
    },
    "colab_type": "code",
    "id": "xfGbHcwoD3R9",
    "outputId": "eb987da4-502b-40a2-8b9a-e4a5a4d52dd2"
   },
   "outputs": [],
   "source": [
    "# 학습 및 예측\n",
    "y_pred = algorithm.fit_predict(df2)\n",
    "\n",
    "# 결과 중 일부를 확인\n",
    "print(y_pred[:20])"
   ]
  },
  {
   "cell_type": "markdown",
   "metadata": {
    "colab_type": "text",
    "id": "mZxGwWUDD3R_"
   },
   "source": [
    "### 5.5.6 클러스터링 결과 분석"
   ]
  },
  {
   "cell_type": "markdown",
   "metadata": {
    "colab_type": "text",
    "id": "vPbPUf85D3R_"
   },
   "source": [
    "#### 그룹별 평균 계산하기"
   ]
  },
  {
   "cell_type": "code",
   "execution_count": null,
   "metadata": {
    "colab": {
     "base_uri": "https://localhost:8080/",
     "height": 166
    },
    "colab_type": "code",
    "id": "q24sMbpvD3SA",
    "outputId": "1cc190f4-6a8d-4b10-a826-1fcd42ae80ac"
   },
   "outputs": [],
   "source": [
    "# 그룹별 평균 계산하기\n",
    "df_cluster = df2.groupby(y_pred).mean()\n",
    "display(df_cluster)"
   ]
  },
  {
   "cell_type": "markdown",
   "metadata": {
    "colab_type": "text",
    "id": "eKzdYkL8D3SC"
   },
   "source": [
    "#### 그룹별 평균 그래프 그리기"
   ]
  },
  {
   "cell_type": "code",
   "execution_count": null,
   "metadata": {
    "colab": {
     "base_uri": "https://localhost:8080/",
     "height": 373
    },
    "colab_type": "code",
    "id": "wVb9iCt0D3SC",
    "outputId": "8058c1e3-92c7-4ec9-fb85-172ac4d14a41"
   },
   "outputs": [],
   "source": [
    "# 그룹별 평균을 막대그래프로\n",
    "df_cluster.plot(kind='bar',stacked=True,\n",
    "    figsize=(10, 6),colormap='jet')\n",
    "plt.show()"
   ]
  },
  {
   "cell_type": "markdown",
   "metadata": {
    "colab_type": "text",
    "id": "eFg89g0wD3SE"
   },
   "source": [
    "#### 분석 결과\n",
    "\n",
    "* **0**: 신선식품 중심\n",
    "* **1**: 식료품 중심\n",
    "* **2**: 매량구매\n",
    "* **3**: 소량구매"
   ]
  },
  {
   "cell_type": "markdown",
   "metadata": {
    "colab_type": "text",
    "id": "QGmD9ipaD3SF"
   },
   "source": [
    "#### 그룹과 판매 채널, 지역의 관계"
   ]
  },
  {
   "cell_type": "code",
   "execution_count": null,
   "metadata": {
    "colab": {
     "base_uri": "https://localhost:8080/",
     "height": 887
    },
    "colab_type": "code",
    "id": "vzq4FBEHD3SF",
    "outputId": "0495656b-b77e-4285-a952-0adb33d9283e",
    "scrolled": false
   },
   "outputs": [],
   "source": [
    "# 판매_채널, 지역 필드와 클러스터의 관계\n",
    "\n",
    "# 판매_채널, 지역 필드를 df3으로 추출\n",
    "df3 = df[['판매_채널', '지역']]\n",
    "\n",
    "# 그래프 크기를 설정\n",
    "rcParams['figure.figsize'] = (6,3)\n",
    "\n",
    "# 그룹별로 그래프를 그림\n",
    "for i in range(clusters):\n",
    "    fig, ax = plt.subplots()\n",
    "    w = df3[y_pred==i]\n",
    "    print(f'====== 그룹{i} ======')\n",
    "    w.hist(ax=ax)\n",
    "    plt.tight_layout()\n",
    "    plt.show()"
   ]
  },
  {
   "cell_type": "markdown",
   "metadata": {
    "colab_type": "text",
    "id": "z3iYpMSZD3SH"
   },
   "source": [
    "#### 분석 결과\n",
    "그룹0(신선 그룹)과 그룹3(소량구매 그룹)은 판매 채널 1(호텔/레스토랑/카페)과 관련이 깊다.\n",
    "\n",
    "그룹1(식품 그룹)과 그룹2(대량구매 그룹)은 판매 채널 2(소매점)와 관련이 깊다.\n",
    "\n",
    "지역과 그룹은 특별히 관련이 없어 보인다."
   ]
  },
  {
   "cell_type": "markdown",
   "metadata": {
    "colab_type": "text",
    "id": "kPwgiwbtD3SI"
   },
   "source": [
    "### 5.5.7 차원축소"
   ]
  },
  {
   "cell_type": "code",
   "execution_count": null,
   "metadata": {
    "colab": {},
    "colab_type": "code",
    "id": "clpaya39D3SI"
   },
   "outputs": [],
   "source": [
    "# 알고리즘 선택\n",
    "from sklearn.decomposition import PCA\n",
    "\n",
    "# 모델 생성\n",
    "# 산점도를 그리는 것이 목적이므로 2차원으로 축소\n",
    "pca = PCA(n_components=2)"
   ]
  },
  {
   "cell_type": "code",
   "execution_count": null,
   "metadata": {
    "colab": {
     "base_uri": "https://localhost:8080/",
     "height": 105
    },
    "colab_type": "code",
    "id": "obiGfHi0D3SK",
    "outputId": "12142fe3-6ff5-4ae5-9841-4c7391d428f6"
   },
   "outputs": [],
   "source": [
    "# 학습 및 변환\n",
    "d2 = pca.fit_transform(df2)\n",
    "\n",
    "# 결과 중 일부를 출력\n",
    "print(d2[:5,:])"
   ]
  },
  {
   "cell_type": "markdown",
   "metadata": {
    "colab_type": "text",
    "id": "9O5StcBGD3SM"
   },
   "source": [
    "### 5.5.8 차원축소를 활용하는 방법"
   ]
  },
  {
   "cell_type": "markdown",
   "metadata": {
    "colab_type": "text",
    "id": "ceborIy5D3SM"
   },
   "source": [
    "#### 산점도 그리기"
   ]
  },
  {
   "cell_type": "code",
   "execution_count": null,
   "metadata": {
    "colab": {
     "base_uri": "https://localhost:8080/",
     "height": 486
    },
    "colab_type": "code",
    "id": "DFOj2JT-D3SN",
    "outputId": "56d1ed99-e0b2-4d8e-9150-4ed20d0dd64a"
   },
   "outputs": [],
   "source": [
    "# 그룹별로 색을 달리해 산포도 그리기\n",
    "\n",
    "plt.figure(figsize=(8,8))\n",
    "marks = ['.', 'x', '*', '+']\n",
    "labels = ['신선', '식품', '대량', '소량']\n",
    "colors = ['grey', 'lightblue', 'blue', 'black']\n",
    "for i in range(clusters):\n",
    "  plt.scatter(d2[y_pred==i][:,0], d2[y_pred==i][:,1], \n",
    "    marker=marks[i], label=labels[i], s=100, c=colors[i])\n",
    "plt.legend(fontsize=14)\n",
    "plt.show()"
   ]
  },
  {
   "cell_type": "markdown",
   "metadata": {
    "colab_type": "text",
    "id": "xSroAT7PD3SP"
   },
   "source": [
    "#### 이상값 조사하기"
   ]
  },
  {
   "cell_type": "code",
   "execution_count": null,
   "metadata": {
    "colab": {
     "base_uri": "https://localhost:8080/",
     "height": 77
    },
    "colab_type": "code",
    "id": "ygbDqd_lD3SQ",
    "outputId": "e75d96d3-337a-4f63-bf2c-834c604e1706"
   },
   "outputs": [],
   "source": [
    "# 신선 그룹의 이상값 조사하기\n",
    "display(df[d2[:,0] > 100000])"
   ]
  },
  {
   "cell_type": "markdown",
   "metadata": {
    "colab_type": "text",
    "id": "S7SvVzFBD3SR"
   },
   "source": [
    "**고찰**\n",
    "\n",
    "인덱스 181번 고객은 신선식품의 구매량이 특히 많다고 볼 수 있다."
   ]
  },
  {
   "cell_type": "code",
   "execution_count": null,
   "metadata": {
    "colab": {
     "base_uri": "https://localhost:8080/",
     "height": 77
    },
    "colab_type": "code",
    "id": "1aNy2yJVD3SS",
    "outputId": "df28c201-d4bc-4db2-9387-bb7a645a9b26"
   },
   "outputs": [],
   "source": [
    "# 대량구매 그룹의 이상값 조사하기\n",
    "display(df[d2[:,1] > 80000])"
   ]
  },
  {
   "cell_type": "markdown",
   "metadata": {
    "colab_type": "text",
    "id": "J6jV6-4HD3SU"
   },
   "source": [
    "**고찰**\n",
    "인덱스 85번 고객은 특히 식료품, 세제_종이제품의 구매액이 매우 높다."
   ]
  },
  {
   "cell_type": "code",
   "execution_count": null,
   "metadata": {
    "colab": {
     "base_uri": "https://localhost:8080/",
     "height": 284
    },
    "colab_type": "code",
    "id": "zgOgOJfhD3SU",
    "outputId": "e5c7fafd-3915-47d9-ff08-db1aa6c338b5"
   },
   "outputs": [],
   "source": [
    "# 통계정보를 확인\n",
    "display(df2.describe())"
   ]
  },
  {
   "cell_type": "code",
   "execution_count": null,
   "metadata": {
    "colab": {},
    "colab_type": "code",
    "id": "U6zUEK9PD3SW"
   },
   "outputs": [],
   "source": []
  }
 ],
 "metadata": {
  "colab": {
   "name": "ch05_07_clustering.ipynb",
   "provenance": []
  },
  "kernelspec": {
   "display_name": "Python 3",
   "language": "python",
   "name": "python3"
  },
  "language_info": {
   "codemirror_mode": {
    "name": "ipython",
    "version": 3
   },
   "file_extension": ".py",
   "mimetype": "text/x-python",
   "name": "python",
   "nbconvert_exporter": "python",
   "pygments_lexer": "ipython3",
   "version": "3.7.10"
  }
 },
 "nbformat": 4,
 "nbformat_minor": 1
}
