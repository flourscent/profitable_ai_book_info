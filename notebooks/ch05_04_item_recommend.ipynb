{
 "cells": [
  {
   "cell_type": "markdown",
   "metadata": {},
   "source": [
    "## 5.4 추천 상품 제안 (연관 분석)"
   ]
  },
  {
   "cell_type": "markdown",
   "metadata": {},
   "source": [
    "### 공통 전처리"
   ]
  },
  {
   "cell_type": "code",
   "execution_count": null,
   "metadata": {},
   "outputs": [],
   "source": [
    "# 공통 처리\n",
    "\n",
    "# 불필요한 경고 메시지 무시\n",
    "import warnings\n",
    "warnings.filterwarnings('ignore')\n",
    "\n",
    "# 라이브러리 임포트\n",
    "import pandas as pd\n",
    "import numpy as np\n",
    "import matplotlib.pyplot as plt\n",
    "\n",
    "# 한글 글꼴 설정\n",
    "import platform\n",
    "\n",
    "if platform.system() == 'Windows':\n",
    "    plt.rc('font', family='Malgun Gothic')\n",
    "elif platform.system() == 'Darwin':\n",
    "    plt.rc('font', family='Apple Gothic')\n",
    "\n",
    "# 데이터프레임 출력용 함수\n",
    "from IPython.display import display\n",
    "\n",
    "# 숫자 출력 조정\n",
    "# 넘파이 부동소수점 출력 자리수 설정\n",
    "np.set_printoptions(suppress=True, precision=4)\n",
    "\n",
    "# 판다스 부동소수점 출력 자리수 설정\n",
    "pd.options.display.float_format = '{:.4f}'.format\n",
    "\n",
    "# 데이터프레임 모든 필드 출력\n",
    "pd.set_option(\"display.max_columns\",None)\n",
    "\n",
    "# 그래프 글꼴 크기 설정\n",
    "plt.rcParams[\"font.size\"] = 14\n",
    "\n",
    "# 난수 시드\n",
    "random_seed = 123"
   ]
  },
  {
   "cell_type": "markdown",
   "metadata": {},
   "source": [
    "데이터 집합 배포 웹 페이지  \n",
    "http://archive.ics.uci.edu/ml/datasets/Online+Retail/"
   ]
  },
  {
   "cell_type": "markdown",
   "metadata": {},
   "source": [
    "**데이터 필드 정보**\n",
    "\n",
    "InvoiceNo:  주문번호  \n",
    "StockCode: 상품번호  \n",
    "Description: 상품설명  \n",
    "Quantity: 상품개수   \n",
    "InvoiceDate: 명세서_발행일  \n",
    "UnitPrice:  상품단가  \n",
    "CustomerID: 고객번호  \n",
    "Country: 국가명  "
   ]
  },
  {
   "cell_type": "markdown",
   "metadata": {},
   "source": [
    "### 5.4.4 데이터 읽어 들이기부터 데이터 확인까지"
   ]
  },
  {
   "cell_type": "markdown",
   "metadata": {},
   "source": [
    "#### 데이터 읽어 들이기"
   ]
  },
  {
   "cell_type": "code",
   "execution_count": null,
   "metadata": {},
   "outputs": [],
   "source": [
    "# 데이터 읽어 들이기\n",
    "# 데이터가 엑셀 파일로 배포되므로 read_excel 함수를 사용해\n",
    "# 직접 내려받아 읽어 들인다\n",
    "# 시간이 꽤 걸릴 수 있으므로 주의(파일 크기 약23MB)\n",
    "df = pd.read_excel('http://archive.ics.uci.edu/ml/\\\n",
    "machine-learning-databases/00352/Online%20Retail.xlsx')\n",
    "\n",
    "# 우리말 필드명 정의\n",
    "columns = [\n",
    "    '주문번호', '상품번호', '상품설명', '상품개수', '명세서발행일', \n",
    "    '상품단가', '고객번호', '국가명'\n",
    "]\n",
    "df.columns = columns"
   ]
  },
  {
   "cell_type": "markdown",
   "metadata": {},
   "source": [
    "#### 데이터 확인"
   ]
  },
  {
   "cell_type": "code",
   "execution_count": null,
   "metadata": {},
   "outputs": [],
   "source": [
    "# 데이터 건수 확인\n",
    "print(df.shape[0])\n",
    "\n",
    "# 데이터 내용 확인\n",
    "display(df.head())"
   ]
  },
  {
   "cell_type": "code",
   "execution_count": null,
   "metadata": {},
   "outputs": [],
   "source": [
    "# 누락 값 확인\n",
    "print(df.isnull().sum())"
   ]
  },
  {
   "cell_type": "code",
   "execution_count": null,
   "metadata": {},
   "outputs": [],
   "source": [
    "# 국가별 건수 확인\n",
    "print(df['국가명'].value_counts().head(10))"
   ]
  },
  {
   "cell_type": "markdown",
   "metadata": {},
   "source": [
    "### 5.4.5 데이터 전처리\n",
    "방법:   \n",
    "* 주문번호의 첫 자리를 추출해 주문유형 칼럼을 추가\n",
    "* 대상을 신규 주문만으로 한정\n",
    "* 대상 국가를 프랑스로 한정\n",
    "* 상품 간의 관계를 표로 요약"
   ]
  },
  {
   "cell_type": "markdown",
   "metadata": {},
   "source": [
    "#### 대상을 신규 주문만으로 한정"
   ]
  },
  {
   "cell_type": "code",
   "execution_count": null,
   "metadata": {},
   "outputs": [],
   "source": [
    "# '주문유형' 칼럼 추가하기\n",
    "\n",
    "# 전처리를 위해 데이터 사본 생성\n",
    "df2 = df.copy()\n",
    "\n",
    "# 주문번호 첫 자리를 별도의 필드로 추출\n",
    "# (5: 신규 주문, C: 취소 주문)\n",
    "df2['주문유형'] = df2['주문번호'].map(lambda x: str(x)[0])\n",
    "\n",
    "# 결과 확인\n",
    "display(df2.head())\n",
    "\n",
    "# 주문 유형별 건수 확인\n",
    "print(df2['주문유형'].value_counts())"
   ]
  },
  {
   "cell_type": "code",
   "execution_count": null,
   "metadata": {},
   "outputs": [],
   "source": [
    "# 신규 주문만 추출하기\n",
    "df2 = df2[df2['주문유형']=='5']\n",
    "\n",
    "# 건수 확인\n",
    "print(df2.shape[0])"
   ]
  },
  {
   "cell_type": "markdown",
   "metadata": {},
   "source": [
    "#### 대상 국가를 프랑스로 한정"
   ]
  },
  {
   "cell_type": "code",
   "execution_count": null,
   "metadata": {},
   "outputs": [],
   "source": [
    "# 대상 국가를 프랑스로 한정\n",
    "df3 = df2[df2['국가명']=='France']\n",
    "\n",
    "# 건수 확인\n",
    "print(df3.shape[0])"
   ]
  },
  {
   "cell_type": "markdown",
   "metadata": {},
   "source": [
    "#### 주문 데이터를 멀티-핫 인코딩으로 변환"
   ]
  },
  {
   "cell_type": "code",
   "execution_count": null,
   "metadata": {},
   "outputs": [],
   "source": [
    "# 주문번호와 상품번호를 키로 상품 개수를 집계한다\n",
    "w1 = df3.groupby(['주문번호', '상품번호'])['상품개수'].sum()\n",
    "\n",
    "# 결과 확인\n",
    "print(w1.head())"
   ]
  },
  {
   "cell_type": "code",
   "execution_count": null,
   "metadata": {},
   "outputs": [],
   "source": [
    "# 상품번호를 칼럼으로 이동(unstack 함수를 이용)\n",
    "w2 = w1.unstack().reset_index().fillna(0).set_index('주문번호')\n",
    "\n",
    "# 데이터프레임 모양 확인\n",
    "print(w2.shape)\n",
    "\n",
    "# 결과 확인\n",
    "display(w2.head())"
   ]
  },
  {
   "cell_type": "code",
   "execution_count": null,
   "metadata": {},
   "outputs": [],
   "source": [
    "# 집계 결과가 0인지 아닌지에 따라 True/False 값을 설정\n",
    "basket_df = w2.apply(lambda x: x>0)\n",
    "\n",
    "# 결과 확인\n",
    "display(basket_df.head())"
   ]
  },
  {
   "cell_type": "markdown",
   "metadata": {},
   "source": [
    "### 칼럼 - 상품명 딕셔너리 생성하기\n",
    "\n",
    "다음의 코드는 [서포트 사이트](https://github.com/makaishi2/profitable_ai_book_info/blob/master/docs/C2-実習コーディング補足解説.md#C21)에서 설명을 볼 수 있습니다.  \n",
    "아래 셀을 함께 실행해야 그 뒤의 셀도 정상적으로 실행할 수 있으니 주의 바랍니다.\n"
   ]
  },
  {
   "cell_type": "markdown",
   "metadata": {},
   "source": [
    "#### 나중에 있을 분석을 위해 '상품번호'와 '상품설명'의 대응표를 만든다"
   ]
  },
  {
   "cell_type": "code",
   "execution_count": null,
   "metadata": {},
   "outputs": [],
   "source": [
    "# '상품번호'와 '상품설명'을 추출\n",
    "w3 = df2[['상품번호', '상품설명']].drop_duplicates()\n",
    "\n",
    "# 상품번호와 상품명을 모두 문자열로 변환\n",
    "w3['상품번호'] = w3['상품번호'].astype('str')\n",
    "w3['상품설명'] = w3['상품설명'].astype('str')\n",
    "\n",
    "# 상품번호를 인덱스로 삼는다\n",
    "w3 = w3.set_index('상품번호')\n",
    "display(w3.head())"
   ]
  },
  {
   "cell_type": "code",
   "execution_count": null,
   "metadata": {},
   "outputs": [],
   "source": [
    "# 처음 다섯 건의 상품 코드 추출\n",
    "item_list1 = w3.index[:5]\n",
    "\n",
    "# w3에 대한 검색 결과\n",
    "display(w3.loc[item_list1])"
   ]
  },
  {
   "cell_type": "code",
   "execution_count": null,
   "metadata": {},
   "outputs": [],
   "source": [
    "# 대문자만으로 구성된 텍스트 추출\n",
    "\n",
    "# 작업용 사본 생성\n",
    "w4 = w3.copy()\n",
    "\n",
    "# 모든 글자가 대문자인 행만 남김\n",
    "w4 = w4[w4['상품설명'].map(lambda x: x.isupper())]\n",
    "\n",
    "# 앞서 만든 item_list1로 결과를 확인\n",
    "display(w4.loc[item_list1])"
   ]
  },
  {
   "cell_type": "markdown",
   "metadata": {},
   "source": [
    "#### 이름이 여러 개인 상품의 처리\n",
    "이름이 여러 개인 상품은 이름 중 가장 긴 것을 골라 상품명 딕셔너리에 넣는다"
   ]
  },
  {
   "cell_type": "code",
   "execution_count": null,
   "metadata": {},
   "outputs": [],
   "source": [
    "# 가장 긴 이름을 추출\n",
    "\n",
    "# 작업용 사본 생성\n",
    "w5 = w4.copy()\n",
    "\n",
    "# '문자 수' 칼럼 추가\n",
    "w5['문자수'] = w5['상품설명'].map(len)\n",
    "\n",
    "# 정렬\n",
    "w5 = w5.sort_values(['상품번호', '문자수'], ascending=[True, False])\n",
    "\n",
    "# 상품번호 별로 가장 긴 이름을 골라 item_dict에 추가\n",
    "item_dict = w5.groupby('상품번호')['상품설명'].agg(lambda x: x[0])\n",
    "\n",
    "# 앞서 만든 item_list1로 결과 확인\n",
    "display(item_dict.loc[item_list1])"
   ]
  },
  {
   "cell_type": "markdown",
   "metadata": {},
   "source": [
    "### 5.4.6 알고리즘 선택 및 분석\n",
    "mlxtend 라이브러리를 이용해 아프리오리 분석 및 규칙 추출을 실습"
   ]
  },
  {
   "cell_type": "code",
   "execution_count": null,
   "metadata": {},
   "outputs": [],
   "source": [
    "# 라이브러리 임포트\n",
    "from mlxtend.frequent_patterns import apriori\n",
    "from mlxtend.frequent_patterns import association_rules"
   ]
  },
  {
   "cell_type": "code",
   "execution_count": null,
   "metadata": {},
   "outputs": [],
   "source": [
    "# 아프리오리 분석\n",
    "freq_items1 = apriori(basket_df, min_support = 0.06, \n",
    "    use_colnames = True)\n",
    "\n",
    "# 결과 확인\n",
    "display(freq_items1.sort_values('support', \n",
    "    ascending = False).head(10))\n",
    "\n",
    "# itemset의 수를 확인\n",
    "print(freq_items1.shape[0])"
   ]
  },
  {
   "cell_type": "code",
   "execution_count": null,
   "metadata": {},
   "outputs": [],
   "source": [
    "# 연관 분석 - 규칙 추출\n",
    "a_rules1 = association_rules(freq_items1, metric = \"lift\",\n",
    "    min_threshold = 1)\n",
    "\n",
    "# 리프트값을 기준으로 정렬\n",
    "a_rules1 = a_rules1.sort_values('lift',\n",
    "    ascending = False).reset_index(drop=True)\n",
    "\n",
    "# 결과 확인\n",
    "display(a_rules1.head(10))\n",
    "\n",
    "# 추출된 규칙 수 확인\n",
    "print(a_rules1.shape[0])"
   ]
  },
  {
   "cell_type": "code",
   "execution_count": null,
   "metadata": {},
   "outputs": [],
   "source": [
    "# 관계성이 높은 상품의 상품번호 리스트\n",
    "item_list = ['23254', '23256', '22726', '22727', '22728']\n",
    "\n",
    "# 상품명 확인\n",
    "for item in item_list:\n",
    "    print(item, item_dict[item])"
   ]
  },
  {
   "cell_type": "markdown",
   "metadata": {},
   "source": [
    "### 5.4.7 튜닝\n",
    "min_support 값을 0.065로 바꾸고 같은 분석을 반복한다"
   ]
  },
  {
   "cell_type": "code",
   "execution_count": null,
   "metadata": {},
   "outputs": [],
   "source": [
    "# 아프리오리 분석\n",
    "freq_items2 = apriori(basket_df, min_support = 0.065,\n",
    "    use_colnames = True)\n",
    "\n",
    "# 규칙 추출\n",
    "a_rules2 = association_rules(freq_items2, metric = \"lift\",\n",
    "    min_threshold = 1)\n",
    "\n",
    "# 리프트값을 기준으로 내림차순 정렬\n",
    "a_rules2 = a_rules2.sort_values('lift',\n",
    "    ascending = False).reset_index(drop=True)\n",
    "\n",
    "# 결과 확인\n",
    "display(a_rules2.head(10))"
   ]
  },
  {
   "cell_type": "markdown",
   "metadata": {},
   "source": [
    "두 개의 아프리오리 분석 결과 중 '23254', '23256'을 엮는 항목을 추출한다"
   ]
  },
  {
   "cell_type": "code",
   "execution_count": null,
   "metadata": {},
   "outputs": [],
   "source": [
    "# 조사 대상 정의\n",
    "t_set = set([23254, 23256])\n",
    "\n",
    "# 첫 번째 분석 결과에서 대상 항목 추출\n",
    "idx1 = freq_items1['itemsets'].map(\n",
    "    lambda x: not x.isdisjoint(t_set))\n",
    "item1 = freq_items1[idx1]\n",
    "\n",
    "# 두 번째 분석 결과에서 대상 항목 추출\n",
    "idx2 = freq_items2['itemsets'].map(\n",
    "    lambda x: not x.isdisjoint(t_set))\n",
    "item2 = freq_items2[idx2]\n",
    "\n",
    "# 결과 확인\n",
    "display(item1)\n",
    "display(item2)"
   ]
  },
  {
   "cell_type": "markdown",
   "metadata": {},
   "source": [
    "### 5.4.8 관계 그래프 시각화하기\n",
    "상품 간의 관계를 관계 그래프로 시각화한다.\n",
    "설명은 [서포트 사이트](https://github.com/makaishi2/profitable_ai_book_info/blob/master/docs/C2-実習コーディング補足解説.md#C22)를 참조하라."
   ]
  },
  {
   "cell_type": "markdown",
   "metadata": {},
   "source": [
    "#### 노드 추출하기"
   ]
  },
  {
   "cell_type": "code",
   "execution_count": null,
   "metadata": {},
   "outputs": [],
   "source": [
    "# 리프트값 상위 20개를 대상으로 삼는다\n",
    "a = a_rules1.head(20)\n",
    "\n",
    "# 부모 노드 추출\n",
    "ant = a['antecedents'].values\n",
    "ant = [tuple(x) for x in ant]\n",
    "\n",
    "# 자식 노드 추출\n",
    "con = a['consequents'].values\n",
    "con = [tuple(x) for x in con]\n",
    "\n",
    "# 모든 노드를 열거\n",
    "both = ant + con\n",
    "both = list(set(both))\n",
    "\n",
    "# 결과의 일부를 확인\n",
    "print(both[:10])"
   ]
  },
  {
   "cell_type": "markdown",
   "metadata": {},
   "source": [
    "#### 관계 그래프 구성하기"
   ]
  },
  {
   "cell_type": "code",
   "execution_count": null,
   "metadata": {},
   "outputs": [],
   "source": [
    "# networkx 라이브러리 임포트\n",
    "import networkx as nx\n",
    "\n",
    "# 관계 그래프 초기화\n",
    "G = nx.DiGraph()\n",
    "\n",
    "# 노드 추가\n",
    "for n in both:\n",
    "  G.add_node(n)\n",
    "\n",
    "# 엣지 추가\n",
    "for i in range(len(a)):\n",
    "    item = a.loc[i]\n",
    "    ant = tuple(item['antecedents'])\n",
    "    con = tuple(item['consequents'])\n",
    "    G.add_edge(ant, con)"
   ]
  },
  {
   "cell_type": "markdown",
   "metadata": {},
   "source": [
    "#### 그래프 그리기"
   ]
  },
  {
   "cell_type": "code",
   "execution_count": null,
   "metadata": {},
   "outputs": [],
   "source": [
    "# 그래프 그리기\n",
    "pos = nx.spring_layout(G, k=0.6, seed=random_seed)\n",
    "\n",
    "plt.figure(figsize=(8, 8))\n",
    "nx.draw_networkx_nodes(G, pos)\n",
    "nx.draw_networkx_edges(G, pos)\n",
    "nx.draw_networkx_labels(G, pos,\n",
    "    horizontalalignment='left', \n",
    "    verticalalignment='center')\n",
    "plt.axis('off')\n",
    "plt.tight_layout()\n",
    "plt.show()"
   ]
  },
  {
   "cell_type": "code",
   "execution_count": null,
   "metadata": {},
   "outputs": [],
   "source": []
  }
 ],
 "metadata": {
  "kernelspec": {
   "display_name": "Python 3",
   "language": "python",
   "name": "python3"
  },
  "language_info": {
   "codemirror_mode": {
    "name": "ipython",
    "version": 3
   },
   "file_extension": ".py",
   "mimetype": "text/x-python",
   "name": "python",
   "nbconvert_exporter": "python",
   "pygments_lexer": "ipython3",
   "version": "3.7.10"
  }
 },
 "nbformat": 4,
 "nbformat_minor": 4
}
