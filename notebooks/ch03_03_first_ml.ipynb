{
 "cells": [
  {
   "cell_type": "markdown",
   "metadata": {
    "colab_type": "text",
    "id": "M8HCd_fgs4r6"
   },
   "source": [
    "# 3.3 모델 구현하기"
   ]
  },
  {
   "cell_type": "markdown",
   "metadata": {
    "colab_type": "text",
    "id": "aU-H4_An1qzF"
   },
   "source": [
    "### 공통 처리"
   ]
  },
  {
   "cell_type": "code",
   "execution_count": null,
   "metadata": {
    "colab": {},
    "colab_type": "code",
    "id": "YdEDB0EbtAHq"
   },
   "outputs": [],
   "source": [
    "# 공통 처리\n",
    "\n",
    "# 불필요한 경고 메시지 무시\n",
    "import warnings\n",
    "warnings.filterwarnings('ignore')\n",
    "\n",
    "# 라이브러리 임포트\n",
    "import pandas as pd\n",
    "import numpy as np\n",
    "import matplotlib.pyplot as plt\n",
    "\n",
    "# 한글 글꼴 설정\n",
    "import platform\n",
    "\n",
    "if platform.system() == 'Windows':\n",
    "    plt.rc('font', family='Malgun Gothic')\n",
    "elif platform.system() == 'Darwin':\n",
    "    plt.rc('font', family='Apple Gothic')\n",
    "\n",
    "# 데이터프레임 출력용 함수\n",
    "from IPython.display import display\n",
    "\n",
    "# 숫자 출력 조정\n",
    "# 넘파이 부동소수점 출력 자리수 설정\n",
    "np.set_printoptions(suppress=True, precision=4)\n",
    "\n",
    "# 판다스 부동소수점 출력 자리수 설정\n",
    "pd.options.display.float_format = '{:.4f}'.format\n",
    "\n",
    "# 데이터프레임 모든 필드 출력\n",
    "pd.set_option(\"display.max_columns\",None)\n",
    "\n",
    "# 그래프 글꼴 크기 설정\n",
    "plt.rcParams[\"font.size\"] = 14\n",
    "\n",
    "# 난수 시드\n",
    "random_seed = 123"
   ]
  },
  {
   "cell_type": "markdown",
   "metadata": {
    "colab_type": "text",
    "id": "9xyj5tgy1qzN"
   },
   "source": [
    "### 유방암 데이터 집합"
   ]
  },
  {
   "cell_type": "markdown",
   "metadata": {
    "colab_type": "text",
    "id": "89d59gas1qzN"
   },
   "source": [
    "[UCI 데이터 집합 배포 웹사이트](https://archive.ics.uci.edu/ml/datasets/Breast+Cancer+Wisconsin+(Diagnostic))"
   ]
  },
  {
   "cell_type": "markdown",
   "metadata": {
    "colab_type": "text",
    "id": "4hLrMm_71qzO"
   },
   "source": [
    "#### 분석 데이터 이미지\n",
    "<img src=\"https://www.researchgate.net/profile/Nick_Street/publication/2512520/figure/fig2/AS:279373199495169@1443619169198/Snakes-After-Convergence-to-Cell-Nucleus-Boundaries-These-contours-are-the-nal.png\" alt=\"Drawing\" width=\"40%\" align=\"left\">\n"
   ]
  },
  {
   "cell_type": "markdown",
   "metadata": {
    "colab_type": "text",
    "id": "QFRu16rLaVMK"
   },
   "source": [
    "### 3.3.1 (1) 데이터 읽어 들이기"
   ]
  },
  {
   "cell_type": "code",
   "execution_count": null,
   "metadata": {
    "colab": {},
    "colab_type": "code",
    "id": "6nDUWh6dsrrx",
    "scrolled": true
   },
   "outputs": [],
   "source": [
    "# 유방암 데이터 집합 읽어 들이기\n",
    "\n",
    "# 라이브러리 임포트\n",
    "from sklearn.datasets import load_breast_cancer\n",
    "\n",
    "# 데이터 내려받기\n",
    "cancer = load_breast_cancer()\n",
    "\n",
    "# 데이터에 대한 설명 읽기\n",
    "print(cancer.DESCR)"
   ]
  },
  {
   "cell_type": "code",
   "execution_count": null,
   "metadata": {
    "colab": {},
    "colab_type": "code",
    "id": "Sf_A259BtYDq"
   },
   "outputs": [],
   "source": [
    "# 데이터프레임으로 변환하기\n",
    "\n",
    "columns = [\n",
    "    '반지름_평균', '텍스처_평균', '둘레길이_평균', '면적_평균',\n",
    "    '평활도_평균', '콤팩트도_평균', '오목면_평균',\n",
    "    '오목점_평균', '대칭성_평균', '프랙탈도_평균',\n",
    "    '반지름_표준편차', '텍스처_표준편차', '둘레길이_표준편차',\n",
    "    '면적_표준편차', '평활도_표준편차',\n",
    "    '콤팩트도_표준편차', '오목면_표준편차', '오목점_표준편차',\n",
    "    '대칭성_표준편차', '프랙탈도_표준편차',\n",
    "    '반지름_최대', '텍스처_최대', '둘레길이_최대', '면적_최대',\n",
    "    '평활도_최대', '콤팩트도_최대', '오목면_최대', '오목점_최대',\n",
    "    '대칭성_최대', '프랙탈도_최대'\n",
    "]\n",
    "\n",
    "# 읽어 들인 데이터를 데이터프레임으로 변환\n",
    "df = pd.DataFrame(cancer.data, columns=columns)\n",
    "\n",
    "# 정답 데이터를 꺼냄\n",
    "y = pd.Series(cancer.target)"
   ]
  },
  {
   "cell_type": "markdown",
   "metadata": {
    "colab_type": "text",
    "id": "C-ddEokd1qzU"
   },
   "source": [
    "### 3.3.2 (2) 데이터 확인"
   ]
  },
  {
   "cell_type": "code",
   "execution_count": null,
   "metadata": {
    "colab": {},
    "colab_type": "code",
    "id": "LKD5Nj8Xtw_j"
   },
   "outputs": [],
   "source": [
    "# 입력 데이터를 화면에 출력하기\n",
    "\n",
    "# 입력 데이터의 20번째 줄부터 24번째 줄까지 화면에 출력한다\n",
    "display(df[20:25])"
   ]
  },
  {
   "cell_type": "code",
   "execution_count": null,
   "metadata": {
    "colab": {},
    "colab_type": "code",
    "id": "Lfo3Toco5tQY"
   },
   "outputs": [],
   "source": [
    "# 정답 데이터를 화면에 출력하기\n",
    "\n",
    "# 정답 데이터의 20번째 줄부터 24번째 줄까지 화면에 출력한다\n",
    "print(y[20:25])"
   ]
  },
  {
   "cell_type": "code",
   "execution_count": null,
   "metadata": {
    "colab": {},
    "colab_type": "code",
    "id": "DmWwsLdPyXJ7"
   },
   "outputs": [],
   "source": [
    "# 데이터에 대한 통계 정보 확인하기\n",
    "\n",
    "# 입력 데이터의 행과 열의 수를 확인\n",
    "print(df.shape)\n",
    "print()\n",
    "\n",
    "# 정답 데이터의 1과 0의 건수 확인\n",
    "print(y.value_counts())"
   ]
  },
  {
   "cell_type": "code",
   "execution_count": null,
   "metadata": {
    "colab": {},
    "colab_type": "code",
    "id": "BblWBEaj92eC",
    "scrolled": false
   },
   "outputs": [],
   "source": [
    "# 산포도를 그리기 위한 준비\n",
    "# 입력 데이터를 대응하는 정답 데이터의 값에 따라 분할한다\n",
    "\n",
    "# 정답 데이터 = 0(악성)인 데이터 골라내기\n",
    "df0 = df[y==0]\n",
    "\n",
    "# 정답 데이터 = 1(양성)인 데이터 골라내기\n",
    "df1 = df[y==1]\n",
    "\n",
    "display(df0.head())\n",
    "display(df1.head())"
   ]
  },
  {
   "cell_type": "code",
   "execution_count": null,
   "metadata": {
    "colab": {},
    "colab_type": "code",
    "id": "pCm4vGsw-kOG"
   },
   "outputs": [],
   "source": [
    "# 산포도 그리기\n",
    "\n",
    "# 그래프의 크기를 설정\n",
    "plt.figure(figsize=(6,6))\n",
    "\n",
    "# 목적변수 값이 1인 데이터의 산포도 그리기\n",
    "plt.scatter(df0['반지름_평균'], df0['텍스처_평균'], marker='x',\n",
    "    c='b', label='악성')\n",
    "\n",
    "# 목적변수 값이 1인 데이터의 산포도 그리기\n",
    "plt.scatter(df1['반지름_평균'], df1['텍스처_평균'], marker='s',\n",
    "    c='k', label='양성')\n",
    "\n",
    "# 그리드 표시\n",
    "plt.grid()\n",
    "\n",
    "# 레이블 표시\n",
    "plt.xlabel('반지름_평균')\n",
    "plt.ylabel('텍스처_평균')\n",
    "\n",
    "# 범례 그리기\n",
    "plt.legend()\n",
    "\n",
    "# 화면에 전체 그래프를 출력\n",
    "plt.show()"
   ]
  },
  {
   "cell_type": "markdown",
   "metadata": {
    "colab_type": "text",
    "id": "aqIx-ZNmau5R"
   },
   "source": [
    "### 3.3.3 (3) 데이터 전처리"
   ]
  },
  {
   "cell_type": "code",
   "execution_count": null,
   "metadata": {
    "colab": {},
    "colab_type": "code",
    "id": "95nHMEf_xd6g"
   },
   "outputs": [],
   "source": [
    "# 입력 데이터를 두 개의 필드로 줄이기\n",
    "\n",
    "input_columns = ['반지름_평균', '텍스처_평균']\n",
    "x = df[input_columns]\n",
    "display(x.head())"
   ]
  },
  {
   "cell_type": "markdown",
   "metadata": {
    "colab_type": "text",
    "id": "EUlb2hLb1qzl"
   },
   "source": [
    "### 3.3.4 (4) 데이터 분할"
   ]
  },
  {
   "cell_type": "code",
   "execution_count": null,
   "metadata": {
    "colab": {},
    "colab_type": "code",
    "id": "0b9yh-rMNKCL"
   },
   "outputs": [],
   "source": [
    "# 학습 데이터와 검증 데이터 분할하기\n",
    "\n",
    "from sklearn.model_selection import train_test_split\n",
    "x_train, x_test, y_train, y_test = train_test_split(x, y, \n",
    "    train_size=0.7, test_size=0.3, random_state=random_seed)"
   ]
  },
  {
   "cell_type": "code",
   "execution_count": null,
   "metadata": {
    "colab": {},
    "colab_type": "code",
    "id": "BkHtxn--OEwu"
   },
   "outputs": [],
   "source": [
    "# 분할된 데이터를 확인하기(요소 수)\n",
    "\n",
    "print(x_train.shape)\n",
    "print(x_test.shape)\n",
    "print(y_train.shape)\n",
    "print(y_test.shape)"
   ]
  },
  {
   "cell_type": "code",
   "execution_count": null,
   "metadata": {
    "colab": {},
    "colab_type": "code",
    "id": "PtJYmh1-jFFP"
   },
   "outputs": [],
   "source": [
    "# 분할된 데이터를 확인하기(요소 수)\n",
    "\n",
    "display(x_train.head())\n",
    "display(x_test.head())\n",
    "display(y_train.head())\n",
    "display(y_test.head())"
   ]
  },
  {
   "cell_type": "markdown",
   "metadata": {
    "colab_type": "text",
    "id": "8xpwIVSZbKFS"
   },
   "source": [
    "### 3.3.5 (5) 알고리즘 선택하기"
   ]
  },
  {
   "cell_type": "code",
   "execution_count": null,
   "metadata": {
    "colab": {},
    "colab_type": "code",
    "id": "38pyzBSA-sZo"
   },
   "outputs": [],
   "source": [
    "# 알고리즘 선택\n",
    "\n",
    "from sklearn.linear_model import LogisticRegression\n",
    "algorithm = LogisticRegression(random_state=random_seed)"
   ]
  },
  {
   "cell_type": "markdown",
   "metadata": {
    "colab_type": "text",
    "id": "Sw1ksbvj1qzx"
   },
   "source": [
    "### 3.3.6 (6) 학습"
   ]
  },
  {
   "cell_type": "code",
   "execution_count": null,
   "metadata": {
    "colab": {},
    "colab_type": "code",
    "id": "KgGL_5uxbsnG"
   },
   "outputs": [],
   "source": [
    "# 학습\n",
    "\n",
    "algorithm.fit(x_train, y_train)\n",
    "print(algorithm)"
   ]
  },
  {
   "cell_type": "markdown",
   "metadata": {
    "colab_type": "text",
    "id": "YXLsnizH1qzz"
   },
   "source": [
    "### 3.3.7 (7) 예측"
   ]
  },
  {
   "cell_type": "code",
   "execution_count": null,
   "metadata": {
    "colab": {},
    "colab_type": "code",
    "id": "YyBEtP_EEBz9"
   },
   "outputs": [],
   "source": [
    "# 예측\n",
    "\n",
    "# predict 함수를 호출한다\n",
    "y_pred = algorithm.predict(x_test)\n",
    "\n",
    "# 예측 결과를 확인\n",
    "print(y_pred)"
   ]
  },
  {
   "cell_type": "markdown",
   "metadata": {
    "colab_type": "text",
    "id": "B0SoYJcp1qz3"
   },
   "source": [
    "### 3.3.8 (8) 평가"
   ]
  },
  {
   "cell_type": "code",
   "execution_count": null,
   "metadata": {
    "colab": {},
    "colab_type": "code",
    "id": "sE0vi8a6A0VM"
   },
   "outputs": [],
   "source": [
    "# 정답 데이터와 예측 결과 비교하기\n",
    "\n",
    "# 정답 데이터를 앞에서부터 10건 추려냄\n",
    "# y_test는 데이터프레임이므로 value 속성에 담긴 넘파이 배열로 변환한다\n",
    "y_test10 = y_test[:10].values\n",
    "print(y_test10)\n",
    "\n",
    "# 예측 결과를 앞에서부터 10건 추려냄\n",
    "y_pred10 = y_pred[:10]\n",
    "print(y_pred10)"
   ]
  },
  {
   "cell_type": "code",
   "execution_count": null,
   "metadata": {
    "colab": {},
    "colab_type": "code",
    "id": "leq0Iov-Gr-T"
   },
   "outputs": [],
   "source": [
    "# 정답을 맞힌 건수 세기\n",
    "\n",
    "# 정답 데이터 == 예측 결과　\n",
    "w1 = (y_test10 == y_pred10)\n",
    "print(w1)\n",
    "\n",
    "# 정답을 맞힌 건수\n",
    "w2 = w1.sum()\n",
    "print(w2)"
   ]
  },
  {
   "cell_type": "code",
   "execution_count": null,
   "metadata": {
    "colab": {},
    "colab_type": "code",
    "id": "Wvh2jKELHmHg"
   },
   "outputs": [],
   "source": [
    "# 정확도 계산하기\n",
    "\n",
    "# 정답을 맞힌 건수를 계산\n",
    "w = (y_test.values == y_pred)\n",
    "correct = w.sum()\n",
    "\n",
    "# 검증 데이터 전체 건수\n",
    "N = len(w)\n",
    "\n",
    "# 정확도 = (정답 수) / (검증 데이터 전체 건수)\n",
    "score = correct / N\n",
    "\n",
    "# 결과를 출력\n",
    "print(f'정확도: {score:.04f}')"
   ]
  },
  {
   "cell_type": "code",
   "execution_count": null,
   "metadata": {
    "colab": {},
    "colab_type": "code",
    "id": "gUqIk9QtH6pj"
   },
   "outputs": [],
   "source": [
    "# score 함수를 사용\n",
    "\n",
    "# score 함수를 사용해도 정확도를 계산할 수 있다\n",
    "score = algorithm.score(x_test, y_test)\n",
    "print(f'score: {score:.04f}')"
   ]
  },
  {
   "cell_type": "markdown",
   "metadata": {
    "colab_type": "text",
    "id": "C_dGu1VG06Yk"
   },
   "source": [
    "### 3.3.9 (9) 튜닝"
   ]
  },
  {
   "cell_type": "code",
   "execution_count": null,
   "metadata": {
    "colab": {},
    "colab_type": "code",
    "id": "HoFTZxRJ1Aeq"
   },
   "outputs": [],
   "source": [
    "# 모델의 정확도 개선하기\n",
    "\n",
    "# 원래 있던 30개 필드를 모두 포함해 학습 데이터와 검증 데이터를 다시 만든다\n",
    "x2_train, x2_test, y_train, y_test = train_test_split(df, y, \n",
    "    train_size=0.7, test_size=0.3, random_state=random_seed)\n",
    "\n",
    "# 로지스틱 회귀 모델도 다시 만든다\n",
    "algorithm2 = LogisticRegression(random_state=random_seed)\n",
    "\n",
    "# 새로 만든 학습 데이터로 학습을 진행한다\n",
    "algorithm2.fit(x2_train, y_train)\n",
    "\n",
    "# 검증 데이터로 정확도를 확인한다\n",
    "score2 = algorithm2.score(x2_test, y_test)\n",
    "print(f'score: {score2:.04f}')"
   ]
  },
  {
   "cell_type": "markdown",
   "metadata": {
    "colab_type": "text",
    "id": "xnkzq46K1q0B"
   },
   "source": [
    "## (보충설명) 결정경계 그리기\n",
    "이 아래의 셀은 결정경계를 그리기 위한 코드와, 해당 구현에 대한 설명을 담고 있다.\n",
    "\n",
    "상당히 어려운 내용이므로, 파이썬에 익숙하지 않은 독자는 건너뛰어도 좋다.\n",
    "\n",
    "파이썬 구현에 관심있는 독자라면 도움이 될 것이다."
   ]
  },
  {
   "cell_type": "markdown",
   "metadata": {
    "colab_type": "text",
    "id": "a9s00TJn1q0C"
   },
   "source": [
    "### 로지스틱 회귀의 내부 구현\n",
    "\n",
    "로지스틱 회귀 모델은 내부적으로 다음과 같이 동작한다.\n",
    "\n",
    "(1) 입력변수를 1차 함수에 입력해 실수값을 구한다.\n",
    "\n",
    "(2) (1)에서 얻은 1차 함수의 함숫값을 시그모이드 함수에 입력해 확률값을 계산한다.\n",
    "\n",
    "(3) 예측결과는 (2)에서 얻은 확률값이 0.5보다 크면 1, 작으면 0이 된다.\n",
    "\n",
    "(1)에서 사용된 1차 함수의 기울기와 절편을 변수 coef_, intercept_로 구할 수 있다.\n",
    "다음 코드는 이러한 성질을 이용해 내부변수 값을 사용한다.\n",
    "\n",
    "그리고 이 모델은 다중분류를 위해 변수의 내부 변수를 저장할 수 있도록 했다.\n",
    "그러므로 2차원 배열이 사용됐지만, 여기서는 이진분류를 적용하므로\n",
    "첫 번째 요소([0])만이 사용된다."
   ]
  },
  {
   "cell_type": "markdown",
   "metadata": {
    "colab_type": "text",
    "id": "RR798xZ61q0C"
   },
   "source": [
    "### 내부변수의 값에 접근하기"
   ]
  },
  {
   "cell_type": "code",
   "execution_count": null,
   "metadata": {
    "colab": {},
    "colab_type": "code",
    "id": "dDzUoI-j1q0C"
   },
   "outputs": [],
   "source": [
    "# 모델의 내부변수(절편, 계수)값 구하기\n",
    "\n",
    "# x1, x2의 계수\n",
    "w1 = algorithm.coef_[0][0]\n",
    "w2 = algorithm.coef_[0][1]\n",
    "\n",
    "# 절편\n",
    "w0 = algorithm.intercept_[0]\n",
    "\n",
    "# 값 확인하기\n",
    "print(f'w0 = {w0:.4f}  w1 = {w1:.4f}  w2 = {w2:.4f}')"
   ]
  },
  {
   "cell_type": "markdown",
   "metadata": {
    "colab_type": "text",
    "id": "KGo9rmBN1q0F"
   },
   "source": [
    "### boundary 함수의 정의"
   ]
  },
  {
   "cell_type": "markdown",
   "metadata": {
    "colab_type": "text",
    "id": "Cw7089Tt1q0G"
   },
   "source": [
    "위에서 얻은 w0, w1, w2의 값을 사용해 산포도에 결정경계를 그리는 boundary 함수를 정의할 수 있다. 함수의 구현과 이를 유도한 식을 다음 셀에 싣는다."
   ]
  },
  {
   "cell_type": "code",
   "execution_count": null,
   "metadata": {
    "colab": {},
    "colab_type": "code",
    "id": "GUNtZtbQ1q0G"
   },
   "outputs": [],
   "source": [
    "# 결정경계를 계산하는 함수\n",
    "\n",
    "# 결정경계 계산 함수\n",
    "# 0 = w0 + w1 * x + w2 * y를 y에 대해 풀면\n",
    "# y = -(w0 + w1 * x)/ w2가 된다\n",
    "\n",
    "def boundary(algorithm, x):\n",
    "    w1 = algorithm.coef_[0][0]\n",
    "    w2 = algorithm.coef_[0][1]\n",
    "    w0 = algorithm.intercept_[0]\n",
    "    y = -(w0 + w1 * x)/w2\n",
    "    return y"
   ]
  },
  {
   "cell_type": "markdown",
   "metadata": {
    "colab_type": "text",
    "id": "6cWhsERP1q0J"
   },
   "source": [
    "### 결정경계의 경곗값 계산하기"
   ]
  },
  {
   "cell_type": "markdown",
   "metadata": {
    "colab_type": "text",
    "id": "am0xrlpv1q0J"
   },
   "source": [
    "다음 코드는 위에서 정의한 boundary 함수를 사용해 결정경계를 구성하는 경곗값의 좌표를 구하는 코드다.\n",
    "이와 함께, 데이터가 담긴 데이터프레임에서 최솟값과 최댓값을 구해\n",
    "그래프를 더 보기 좋게 그린다."
   ]
  },
  {
   "cell_type": "code",
   "execution_count": null,
   "metadata": {
    "colab": {},
    "colab_type": "code",
    "id": "fqVsJ71D1q0J"
   },
   "outputs": [],
   "source": [
    "# 결정경계의 경곗값 계산하기\n",
    "\n",
    "# 결정경계의 x축 양끝 좌표값\n",
    "x_range = np.array((df['반지름_평균'].min(), df['반지름_평균'].max()))\n",
    "\n",
    "# 결정경계의 y축 양끝 좌표값\n",
    "y_range = boundary(algorithm, x_range)\n",
    "\n",
    "# y의 최솟값과 최댓값은 산포도의 점으로 결정한다\n",
    "y_lim = (df['텍스처_평균'].min(), df['텍스처_평균'].max())\n",
    "\n",
    "# 결과 확인\n",
    "print('x축 양끝 좌표: ', x_range)\n",
    "print('y축 양끝 좌표: ', y_range)\n",
    "print('그래프의 y구간: ', y_lim)"
   ]
  },
  {
   "cell_type": "markdown",
   "metadata": {
    "colab_type": "text",
    "id": "B168GkhX1q0M"
   },
   "source": [
    "### 산포도와 결정경계 그리기"
   ]
  },
  {
   "cell_type": "markdown",
   "metadata": {
    "colab_type": "text",
    "id": "mJLTtmbA1q0M"
   },
   "source": [
    "모든 준비가 끝났다.\n",
    "다음 코드는 코드 3-8에서 그린 산포도에 지금 계산한 결정경계를 겹쳐 그리는 코드다."
   ]
  },
  {
   "cell_type": "code",
   "execution_count": null,
   "metadata": {
    "colab": {},
    "colab_type": "code",
    "id": "RdDhJGH91q0N"
   },
   "outputs": [],
   "source": [
    "# 산포도와 결정경계 그리기\n",
    "\n",
    "# 그래프 크기 정의\n",
    "plt.figure(figsize=(6,6))\n",
    "\n",
    "# 목적변수의 값이 0인 데이터의 산포도\n",
    "plt.scatter(df0['반지름_평균'], df0['텍스처_평균'], marker='x', c='b', label='악성')\n",
    "\n",
    "# 목적변수의 값이 1인 데이터의 산포도\n",
    "plt.scatter(df1['반지름_평균'], df1['텍스처_평균'], marker='s', c='k', label='양성')\n",
    "\n",
    "# 결정경계\n",
    "plt.plot(x_range, y_range, c='b', label='결정경계')\n",
    "\n",
    "# 범위 지정\n",
    "plt.ylim(y_lim)\n",
    "\n",
    "# 레이블 추가\n",
    "plt.xlabel('반지름_평균')\n",
    "plt.ylabel('텍스처_평균')\n",
    "\n",
    "# 범례 표시\n",
    "plt.legend()\n",
    "\n",
    "# 그리드 표시\n",
    "plt.grid()\n",
    "\n",
    "# 그래프 화면 출력\n",
    "plt.show()"
   ]
  },
  {
   "cell_type": "code",
   "execution_count": null,
   "metadata": {
    "colab": {},
    "colab_type": "code",
    "id": "HsVKymrC1q0X"
   },
   "outputs": [],
   "source": []
  }
 ],
 "metadata": {
  "colab": {
   "collapsed_sections": [],
   "name": "ch03_03_first_ml.ipynb",
   "provenance": []
  },
  "kernelspec": {
   "display_name": "Python 3",
   "language": "python",
   "name": "python3"
  },
  "language_info": {
   "codemirror_mode": {
    "name": "ipython",
    "version": 3
   },
   "file_extension": ".py",
   "mimetype": "text/x-python",
   "name": "python",
   "nbconvert_exporter": "python",
   "pygments_lexer": "ipython3",
   "version": "3.7.10"
  }
 },
 "nbformat": 4,
 "nbformat_minor": 1
}
