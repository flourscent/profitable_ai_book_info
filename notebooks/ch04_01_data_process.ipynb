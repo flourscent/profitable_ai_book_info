{
 "cells": [
  {
   "cell_type": "markdown",
   "metadata": {
    "colab_type": "text",
    "id": "d9J0CMDJfNIX"
   },
   "source": [
    "## 4.1 데이터 확인"
   ]
  },
  {
   "cell_type": "code",
   "execution_count": null,
   "metadata": {
    "colab": {},
    "colab_type": "code",
    "id": "NoJJrGEafNId"
   },
   "outputs": [],
   "source": [
    "# 공통 처리\n",
    "\n",
    "# 불필요한 경고 메시지 무시\n",
    "import warnings\n",
    "warnings.filterwarnings('ignore')\n",
    "\n",
    "# 라이브러리 임포트\n",
    "import pandas as pd\n",
    "import numpy as np\n",
    "import matplotlib.pyplot as plt\n",
    "\n",
    "# 한글 글꼴 설정\n",
    "import platform\n",
    "\n",
    "if platform.system() == 'Windows':\n",
    "    plt.rc('font', family='Malgun Gothic')\n",
    "elif platform.system() == 'Darwin':\n",
    "    plt.rc('font', family='Apple Gothic')\n",
    "\n",
    "# 데이터프레임 출력용 함수\n",
    "from IPython.display import display\n",
    "\n",
    "# 숫자 출력 조정\n",
    "# 넘파이 부동소수점 출력 자리수 설정\n",
    "np.set_printoptions(suppress=True, precision=4)\n",
    "\n",
    "# 판다스 부동소수점 출력 자리수 설정\n",
    "pd.options.display.float_format = '{:.4f}'.format\n",
    "\n",
    "# 데이터프레임 모든 필드 출력\n",
    "pd.set_option(\"display.max_columns\",None)\n",
    "\n",
    "# 그래프 글꼴 크기 설정\n",
    "plt.rcParams[\"font.size\"] = 14\n",
    "\n",
    "# 난수 시드\n",
    "random_seed = 123"
   ]
  },
  {
   "cell_type": "markdown",
   "metadata": {
    "colab_type": "text",
    "id": "rNGqmhBGfNIg"
   },
   "source": [
    "### 4.1.1 수치적・통계적으로 분석하는 방법"
   ]
  },
  {
   "cell_type": "markdown",
   "metadata": {
    "colab_type": "text",
    "id": "eKW5A-IxfNIg"
   },
   "source": [
    "#### 타이타닉 데이터 집합"
   ]
  },
  {
   "cell_type": "markdown",
   "metadata": {
    "colab_type": "text",
    "id": "Hfxo9LlhfNIh"
   },
   "source": [
    "#### 타이타닉 데이터 집합의 각 필드와 의미\n",
    "\n",
    "**생존** (survival): (0=사망, 1=생존)  \n",
    "**선실등급** (pclass): (1=1등실, 2=2등실, 3=3등실)  \n",
    "**성별**(sex): (male=남성, female=여성)  \n",
    "**연령**(age)  \n",
    "**형제 및 배우자 수**(sibsp): 동승한 형제 혹은 배우자의 수  \n",
    "**부모 및 자녀 수**(parch): 동승한 부모 혹은 자녀의 수  \n",
    "**요금**(fare)  \n",
    "**승선항 코드**(embarked): (C=Cherbourg, Q=Queenstown, S=Southampton)  \n",
    "**선실등급명**(class): (First=1등실, Second=2등실, Third=3등실)  \n",
    "**남녀어린이 구분**(who): (man=성인 남성, woman=성인 여성, child=어린이)  \n",
    "**성인 남성 여부**(adult_male): True/False  \n",
    "**데크번호**(deck): 선실번호의 머리글자 (A부터 G까지)  \n",
    "**승선항**(embark_town): Southampton/Cherbourg/Queenstown  \n",
    "**생존 여부**(alive): yes / no  \n",
    "**독신 여부**(alone): True/ False  "
   ]
  },
  {
   "cell_type": "code",
   "execution_count": null,
   "metadata": {
    "colab": {},
    "colab_type": "code",
    "id": "XIoeu7Y5fNIi"
   },
   "outputs": [],
   "source": [
    "# 추가 라이브러리 임포트\n",
    "import seaborn as sns\n",
    "\n",
    "# 데이터 읽어 들이기\n",
    "df_titanic = sns.load_dataset(\"titanic\")\n",
    "\n",
    "# 우리말 필드명 정의\n",
    "columns_t = [ '생존', '선실등급', '성별', '연령', '형제_및_배우자_수',\n",
    "              '부모_및_자녀_수', '요금', '승선항_코드', '선실등급명',\n",
    "              '남녀어린이_구분', '성인_남성_여부', '데크번호', '승선항', '생존_여부', '독신_여부']\n",
    "df_titanic.columns = columns_t\n",
    "\n",
    "# 데이터 내용 확인 \n",
    "display(df_titanic.head())"
   ]
  },
  {
   "cell_type": "markdown",
   "metadata": {
    "colab_type": "text",
    "id": "8tUnnve-fNIl"
   },
   "source": [
    "#### 필드 별로 누락 값 조사하기"
   ]
  },
  {
   "cell_type": "code",
   "execution_count": null,
   "metadata": {
    "colab": {},
    "colab_type": "code",
    "id": "LLlxAxfvfNIm",
    "scrolled": true
   },
   "outputs": [],
   "source": [
    "print(df_titanic.isnull().sum())"
   ]
  },
  {
   "cell_type": "markdown",
   "metadata": {
    "colab_type": "text",
    "id": "0-abbqJOfNIp"
   },
   "source": [
    "#### 필드 값의 개수를 집계"
   ]
  },
  {
   "cell_type": "code",
   "execution_count": null,
   "metadata": {
    "colab": {},
    "colab_type": "code",
    "id": "0t3SdTSSfNIq"
   },
   "outputs": [],
   "source": [
    "# '승선항' 필드의 필드 값 개수를 집계\n",
    "print(df_titanic['승선항'].value_counts())\n",
    "print()\n",
    "\n",
    "# '생존_여부' 필드의 필드 값 개수를 집계\n",
    "print(df_titanic['생존_여부'].value_counts())"
   ]
  },
  {
   "cell_type": "markdown",
   "metadata": {
    "colab_type": "text",
    "id": "uZtxqVKAfNIt"
   },
   "source": [
    "#### 통계 정보 조사하기"
   ]
  },
  {
   "cell_type": "code",
   "execution_count": null,
   "metadata": {
    "colab": {},
    "colab_type": "code",
    "id": "UdsRx5lqfNIt"
   },
   "outputs": [],
   "source": [
    "display(df_titanic.describe())"
   ]
  },
  {
   "cell_type": "markdown",
   "metadata": {
    "colab_type": "text",
    "id": "CNtTqEyrfNIx"
   },
   "source": [
    "#### 애그리게이션 함수 사용하기"
   ]
  },
  {
   "cell_type": "code",
   "execution_count": null,
   "metadata": {
    "colab": {},
    "colab_type": "code",
    "id": "9Lbk9bHmfNIy"
   },
   "outputs": [],
   "source": [
    "display(df_titanic.groupby('성별').mean())"
   ]
  },
  {
   "cell_type": "markdown",
   "metadata": {
    "colab_type": "text",
    "id": "W1Gj_1B9fNI1"
   },
   "source": [
    "#### 그래프 그리기 (숫자 필드)"
   ]
  },
  {
   "cell_type": "code",
   "execution_count": null,
   "metadata": {
    "colab": {},
    "colab_type": "code",
    "id": "4wD7R5eafNI1",
    "scrolled": false
   },
   "outputs": [],
   "source": [
    "# 분석 대상 필드의 그래프 출력 (숫자 필드)\n",
    "\n",
    "# 숫자 필드의 필드명 정의\n",
    "columns_n = ['생존', '선실등급', '연령', '형제_및_배우자_수', '부모_및_자녀_수', '요금']\n",
    "\n",
    "\n",
    "# 그래프 작도 영역 조정\n",
    "plt.rcParams['figure.figsize'] = (10, 10)\n",
    "\n",
    "# 데이터프레임의 숫자 필드에 대해 히스토그램을 출력\n",
    "df_titanic[columns_n].hist()\n",
    "plt.show()"
   ]
  },
  {
   "cell_type": "markdown",
   "metadata": {
    "colab_type": "text",
    "id": "EEuTIy_DfNI4"
   },
   "source": [
    "#### 숫자 값이 아닌 필드에 대한 그래프 그리기"
   ]
  },
  {
   "cell_type": "code",
   "execution_count": null,
   "metadata": {
    "colab": {},
    "colab_type": "code",
    "id": "2m-ohxeGfNI5"
   },
   "outputs": [],
   "source": [
    "# 분석 대상 필드의 그래프 출력 (숫자 값이 아닌 필드)\n",
    "\n",
    "# 그래프를 그릴 필드의 필드명 정의\n",
    "columns_c = ['성별', '승선항', '선실등급명', '성인_남성_여부']\n",
    "\n",
    "# 그래프 작도 영역 조정\n",
    "plt.rcParams['figure.figsize'] = (8, 8)\n",
    "\n",
    "# 반복문을 돌며 히스토그램을 그린다\n",
    "for i, name in enumerate(columns_c):\n",
    "    ax = plt.subplot(2, 2, i+1)\n",
    "    df_titanic[name].value_counts().plot(kind='bar', title=name, ax=ax)\n",
    "    \n",
    "# 레이아웃 조정  \n",
    "plt.tight_layout() \n",
    "plt.show()"
   ]
  },
  {
   "cell_type": "markdown",
   "metadata": {
    "colab_type": "text",
    "id": "xCxCbpAPfNI7"
   },
   "source": [
    "### 4.1.2 시각적인 분석 및 데이터 확인 방법"
   ]
  },
  {
   "cell_type": "markdown",
   "metadata": {
    "colab_type": "text",
    "id": "FTBQDeXYfNI8"
   },
   "source": [
    "#### 아이리스 데이터 집합"
   ]
  },
  {
   "cell_type": "markdown",
   "metadata": {
    "colab_type": "text",
    "id": "b2yTbDyPfNI9"
   },
   "source": [
    "#### 아이리스 데이터 집합의 필드 목록\n",
    "\n",
    "**꽃받침 길이** (sepal_length)  \n",
    "**꽃받침 폭** (sepal_width)  \n",
    "**꽃잎 길이** (petal_length)  \n",
    "**꽃잎 폭** (petal_width)  \n",
    "**종** (species): versicolor/setosa/virginica  "
   ]
  },
  {
   "cell_type": "code",
   "execution_count": null,
   "metadata": {
    "colab": {},
    "colab_type": "code",
    "id": "HReb1q-DfNI-"
   },
   "outputs": [],
   "source": [
    "# 추가 라이브러리 임포트\n",
    "import seaborn as sns\n",
    "\n",
    "# 데이터 읽어 들이기\n",
    "df_iris = sns.load_dataset(\"iris\")\n",
    "\n",
    "# 우리말 필드명 정의\n",
    "columns_i = ['꽃받침_길이', '꽃받침_폭', '꽃잎_길이', '꽃잎_폭', '종']\n",
    "df_iris.columns = columns_i\n",
    "\n",
    "# 데이터 내용 확인\n",
    "display(df_iris.head())"
   ]
  },
  {
   "cell_type": "markdown",
   "metadata": {
    "colab_type": "text",
    "id": "jAMzzguAfNJA"
   },
   "source": [
    "#### 산포도 그리기"
   ]
  },
  {
   "cell_type": "code",
   "execution_count": null,
   "metadata": {
    "colab": {},
    "colab_type": "code",
    "id": "R1PhiJB1fNJB"
   },
   "outputs": [],
   "source": [
    "# matplotlib을 이용해 산포도 그리기\n",
    "\n",
    "# 그래프 작도 영역을 조정\n",
    "plt.figure(figsize=(6,6))\n",
    "\n",
    "# 산포도 그리기\n",
    "plt.scatter(df_iris['꽃받침_폭'], df_iris['꽃잎_길이'])\n",
    "\n",
    "# 레이블 표시\n",
    "# sepal 꽃받침 petal 꽃잎\n",
    "plt.xlabel('꽃받침_폭')\n",
    "plt.ylabel('꽃잎_길이')\n",
    "plt.show()"
   ]
  },
  {
   "cell_type": "code",
   "execution_count": null,
   "metadata": {
    "colab": {},
    "colab_type": "code",
    "id": "4SxyDOm6fNJD"
   },
   "outputs": [],
   "source": [
    "# seaborn을 이용한 산포도 그리기 (1)\n",
    "\n",
    "plt.figure(figsize=(6,6))\n",
    "sns.scatterplot(x='꽃받침_폭', y='꽃잎_길이', hue='종', s=70,\n",
    "    data=df_iris)\n",
    "plt.show()"
   ]
  },
  {
   "cell_type": "code",
   "execution_count": null,
   "metadata": {
    "colab": {},
    "colab_type": "code",
    "id": "Wm8ArX5LfNJF",
    "scrolled": false
   },
   "outputs": [],
   "source": [
    "# 모든 필드의 조합으로 산포도 그리기\n",
    "sns.pairplot(df_iris, hue=\"종\")\n",
    "\n",
    "plt.show()"
   ]
  },
  {
   "cell_type": "code",
   "execution_count": null,
   "metadata": {
    "colab": {},
    "colab_type": "code",
    "id": "gxl-odk9fNJN"
   },
   "outputs": [],
   "source": [
    "# seaborn을 이용한 산포도 그리기 (2)\n",
    "\n",
    "sns.jointplot('꽃받침_폭', '꽃잎_길이', data=df_iris)\n",
    "plt.show()"
   ]
  },
  {
   "cell_type": "code",
   "execution_count": null,
   "metadata": {
    "colab": {},
    "colab_type": "code",
    "id": "drOs1YNdfNJP"
   },
   "outputs": [],
   "source": [
    "# matplotlib을 이용한 상자 수염 그림 그리기\n",
    "\n",
    "# 그래프 작도 영역 조정\n",
    "plt.figure(figsize=(6,6))\n",
    "\n",
    "# 상자 수염 그림 그리기\n",
    "df_iris.boxplot(patch_artist=True)\n",
    "plt.show()"
   ]
  },
  {
   "cell_type": "code",
   "execution_count": null,
   "metadata": {
    "colab": {},
    "colab_type": "code",
    "id": "X0qBXGUpfNJR"
   },
   "outputs": [],
   "source": [
    "# melt 함수를 이용한 데이터 전처리\n",
    "w = pd.melt(df_iris, id_vars=['종'])\n",
    "\n",
    "# 전처리 결과 확인\n",
    "display(w.head())"
   ]
  },
  {
   "cell_type": "code",
   "execution_count": null,
   "metadata": {
    "colab": {},
    "colab_type": "code",
    "id": "VMJyQRTTfNJT"
   },
   "outputs": [],
   "source": [
    "# seaborn을 이용한 상자 수염 그림 그리기\n",
    "\n",
    "# 인자 hue를 추가해 곷의 종마다 그림을 따로 그리게 한다\n",
    "plt.figure(figsize=(8,8))\n",
    "sns.boxplot(x=\"variable\", y=\"value\", data=w, hue='종')\n",
    "plt.show()"
   ]
  }
 ],
 "metadata": {
  "colab": {
   "name": "ch04_01_data_process.ipynb",
   "provenance": []
  },
  "kernelspec": {
   "display_name": "Python 3",
   "language": "python",
   "name": "python3"
  },
  "language_info": {
   "codemirror_mode": {
    "name": "ipython",
    "version": 3
   },
   "file_extension": ".py",
   "mimetype": "text/x-python",
   "name": "python",
   "nbconvert_exporter": "python",
   "pygments_lexer": "ipython3",
   "version": "3.7.10"
  }
 },
 "nbformat": 4,
 "nbformat_minor": 1
}
