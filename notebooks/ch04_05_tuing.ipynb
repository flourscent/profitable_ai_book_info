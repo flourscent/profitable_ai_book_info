{
 "cells": [
  {
   "cell_type": "markdown",
   "metadata": {
    "colab_type": "text",
    "id": "vI0fsjVO6AFQ"
   },
   "source": [
    "## 4.5 튜닝"
   ]
  },
  {
   "cell_type": "markdown",
   "metadata": {
    "colab_type": "text",
    "id": "3IGVWl9A6AFR"
   },
   "source": [
    "### 공통 전처리"
   ]
  },
  {
   "cell_type": "code",
   "execution_count": null,
   "metadata": {
    "colab": {},
    "colab_type": "code",
    "id": "fz7RoOHl6AFV"
   },
   "outputs": [],
   "source": [
    "# 공통 처리\n",
    "\n",
    "# 불필요한 경고 메시지 무시\n",
    "import warnings\n",
    "warnings.filterwarnings('ignore')\n",
    "\n",
    "# 라이브러리 임포트\n",
    "import pandas as pd\n",
    "import numpy as np\n",
    "import matplotlib.pyplot as plt\n",
    "\n",
    "# 한글 글꼴 설정\n",
    "import platform\n",
    "\n",
    "if platform.system() == 'Windows':\n",
    "    plt.rc('font', family='Malgun Gothic')\n",
    "elif platform.system() == 'Darwin':\n",
    "    plt.rc('font', family='Apple Gothic')\n",
    "\n",
    "# 데이터프레임 출력용 함수\n",
    "from IPython.display import display\n",
    "\n",
    "# 숫자 출력 조정\n",
    "# 넘파이 부동소수점 출력 자리수 설정\n",
    "np.set_printoptions(suppress=True, precision=4)\n",
    "\n",
    "# 판다스 부동소수점 출력 자리수 설정\n",
    "pd.options.display.float_format = '{:.4f}'.format\n",
    "\n",
    "# 데이터프레임 모든 필드 출력\n",
    "pd.set_option(\"display.max_columns\",None)\n",
    "\n",
    "# 그래프 글꼴 크기 설정\n",
    "plt.rcParams[\"font.size\"] = 14\n",
    "\n",
    "# 난수 시드\n",
    "random_seed = 123"
   ]
  },
  {
   "cell_type": "markdown",
   "metadata": {
    "colab_type": "text",
    "id": "cY824oLy6AFX"
   },
   "source": [
    "#### 예제 데이터 읽어 들이기"
   ]
  },
  {
   "cell_type": "code",
   "execution_count": null,
   "metadata": {
    "colab": {},
    "colab_type": "code",
    "id": "cigL7Rf96AFY",
    "scrolled": true
   },
   "outputs": [],
   "source": [
    "# 예제 데이터 읽어 들이기\n",
    "# (유방암 진단 데이터)\n",
    "\n",
    "# 데이터 읽기\n",
    "from sklearn.datasets import load_breast_cancer\n",
    "cancer = load_breast_cancer()\n",
    "\n",
    "# 입력 데이터: x (30차원)\n",
    "# 정답 데이터: y\n",
    "x = cancer.data\n",
    "y = cancer.target"
   ]
  },
  {
   "cell_type": "code",
   "execution_count": null,
   "metadata": {
    "colab": {},
    "colab_type": "code",
    "id": "xxmA-i9u6AFa"
   },
   "outputs": [],
   "source": [
    "# 예제 데이터 분할하기\n",
    "\n",
    "# 데이터 분할 파라미터\n",
    "test_size = 0.1\n",
    "\n",
    "# 데이터 분할\n",
    "from sklearn.model_selection import train_test_split\n",
    "x_train, x_test, y_train, y_test = train_test_split(x, y,\n",
    "    test_size=test_size, random_state=random_seed,\n",
    "    stratify=y)\n",
    "\n",
    "# 분할 후 데이터 건수 확인\n",
    "print(x.shape)\n",
    "print(x_train.shape)\n",
    "print(x_test.shape)"
   ]
  },
  {
   "cell_type": "markdown",
   "metadata": {
    "colab_type": "text",
    "id": "d_QjsrYy6AFc"
   },
   "source": [
    "### 4.5.1 알고리즘 선택하기"
   ]
  },
  {
   "cell_type": "code",
   "execution_count": null,
   "metadata": {
    "colab": {},
    "colab_type": "code",
    "id": "YyUICaYY6AFe"
   },
   "outputs": [],
   "source": [
    "# 여러 알고리즘 비교하기\n",
    "# 결과가 같게 random_state 값은 동일하게 둔다\n",
    "\n",
    "# 선형 회귀\n",
    "from sklearn.linear_model import LogisticRegression\n",
    "algorithm1 = LogisticRegression(random_state=random_seed)\n",
    "\n",
    "# 서포트 벡터 머신(커널)\n",
    "from sklearn.svm import SVC\n",
    "algorithm2 = SVC(kernel='rbf', random_state=random_seed)\n",
    "\n",
    "# 결정 트리\n",
    "from sklearn.tree import DecisionTreeClassifier\n",
    "algorithm3 = DecisionTreeClassifier(random_state=random_seed)\n",
    "\n",
    "# 랜덤 포레스트\n",
    "from sklearn.ensemble import RandomForestClassifier\n",
    "algorithm4 = RandomForestClassifier(random_state=random_seed)\n",
    "\n",
    "# XGBoost\n",
    "from xgboost import XGBClassifier\n",
    "algorithm5 = XGBClassifier(random_state=random_seed)\n",
    "\n",
    "# 알고리즘을 담은 리스트를 생성\n",
    "algorithms = [algorithm1, algorithm2, algorithm3, algorithm4,\n",
    "    algorithm5]"
   ]
  },
  {
   "cell_type": "code",
   "execution_count": null,
   "metadata": {
    "colab": {},
    "colab_type": "code",
    "id": "pYNYBRO26AFg"
   },
   "outputs": [],
   "source": [
    "# 여러 알고리즘의 정확도 비교\n",
    "for algorithm in algorithms:\n",
    "\n",
    "    # 학습을 수행\n",
    "    algorithm.fit(x_train, y_train)\n",
    "\n",
    "    # 정확도 측정\n",
    "    score = algorithm.score(x_test, y_test)\n",
    "\n",
    "    # 알고리즘 이름\n",
    "    name = algorithm.__class__.__name__\n",
    "\n",
    "    # 정확도, 알고리즘 이름 출력\n",
    "    print(f'score: {score:.4f}  {name}')"
   ]
  },
  {
   "cell_type": "markdown",
   "metadata": {
    "colab_type": "text",
    "id": "6RSvFAdJ6AFi"
   },
   "source": [
    "### 4.5.2 하이퍼파라미터 최적화"
   ]
  },
  {
   "cell_type": "code",
   "execution_count": null,
   "metadata": {
    "colab": {},
    "colab_type": "code",
    "id": "EPRlb_QU6AFj"
   },
   "outputs": [],
   "source": [
    "# 파라미터 기본값 확인하기\n",
    "algorithm = SVC(kernel='rbf', random_state=random_seed)\n",
    "print(algorithm)"
   ]
  },
  {
   "cell_type": "code",
   "execution_count": null,
   "metadata": {
    "colab": {},
    "colab_type": "code",
    "id": "BLjgd4gK6AFl"
   },
   "outputs": [],
   "source": [
    "# gamma의 최적값 구하기\n",
    "algorithm = SVC(kernel='rbf', random_state=random_seed)\n",
    "gammas = [1, 0.1, 0.01, 0.001, 0.0001, 0.00001]\n",
    "\n",
    "for gamma in gammas:\n",
    "    algorithm.gamma = gamma\n",
    "    algorithm.fit(x_train, y_train)\n",
    "    score = algorithm.score(x_test, y_test)\n",
    "    print(f'score: {score:.4f}  gamma: {gamma}')"
   ]
  },
  {
   "cell_type": "code",
   "execution_count": null,
   "metadata": {
    "colab": {},
    "colab_type": "code",
    "id": "uGDQaEq96AFn"
   },
   "outputs": [],
   "source": [
    "# C의 최적값 구하기\n",
    "# gamma는 앞서 구한 최적값 0.001을 적용\n",
    "\n",
    "Cs = [1,  10,  100, 1000, 10000]\n",
    "for C in Cs:\n",
    "    algorithm = SVC(kernel='rbf',\n",
    "        gamma=0.001, C=C,\n",
    "        random_state=random_seed)\n",
    "    algorithm.fit(x_train, y_train)\n",
    "    score = algorithm.score(x_test, y_test)\n",
    "    print(f'score: {score:.4f}  C: {C}')"
   ]
  },
  {
   "cell_type": "markdown",
   "metadata": {
    "colab_type": "text",
    "id": "9cw678uR6AFp"
   },
   "source": [
    "### 4.5.3 교차 검증법"
   ]
  },
  {
   "cell_type": "code",
   "execution_count": null,
   "metadata": {
    "colab": {},
    "colab_type": "code",
    "id": "S4CcnHml6AFq"
   },
   "outputs": [],
   "source": [
    "# 특정 알고리즘에 교차 검증법 적용하기\n",
    "\n",
    "# 알고리즘 정의\n",
    "algorithm = SVC(kernel='rbf',random_state=random_seed,\n",
    "    gamma=0.001, C=1)\n",
    "\n",
    "# 데이터 분할 시 분포가 치우치지 않도록 StratifiedKFold를 사용함\n",
    "from sklearn.model_selection import StratifiedKFold\n",
    "stratifiedkfold = StratifiedKFold(n_splits=3)\n",
    "\n",
    "# 교차 검증법 수행 (분할 수=3)\n",
    "from sklearn.model_selection import cross_val_score\n",
    "scores = cross_val_score(algorithm , x_train, y_train,\n",
    "    cv=stratifiedkfold)\n",
    "\n",
    "# 평균을 계산\n",
    "mean = scores.mean()\n",
    "\n",
    "# 결과 확인\n",
    "print(f'평균 정확도: {mean:.4f}  개별 정확도: {scores}')"
   ]
  },
  {
   "cell_type": "code",
   "execution_count": null,
   "metadata": {
    "colab": {},
    "colab_type": "code",
    "id": "0WEZL0DF6AFs"
   },
   "outputs": [],
   "source": [
    "# 후보 알고리즘 리스트 만들기\n",
    "\n",
    "from sklearn.linear_model import LogisticRegression\n",
    "algorithm1 = LogisticRegression(random_state=random_seed)\n",
    "\n",
    "from sklearn.svm import SVC\n",
    "algorithm2 = SVC(kernel='rbf',random_state=random_seed,\n",
    "    gamma=0.001, C=1)\n",
    "\n",
    "from sklearn.tree import DecisionTreeClassifier\n",
    "algorithm3 = DecisionTreeClassifier(random_state=random_seed)\n",
    "\n",
    "from sklearn.ensemble import RandomForestClassifier\n",
    "algorithm4 = RandomForestClassifier(random_state=random_seed)\n",
    "\n",
    "from xgboost import XGBClassifier\n",
    "algorithm5 = XGBClassifier(random_state=random_seed)\n",
    "\n",
    "algorithms = [algorithm1, algorithm2, algorithm3, algorithm4,\n",
    "    algorithm5]"
   ]
  },
  {
   "cell_type": "code",
   "execution_count": null,
   "metadata": {
    "colab": {},
    "colab_type": "code",
    "id": "8PP4Yrca6AFu"
   },
   "outputs": [],
   "source": [
    "# 여러 알고리즘의 정확도 비교하기\n",
    "\n",
    "# 데이터 분할 시 분포가 치우치지 않도록 StratifiedKFold를 사용함\n",
    "from sklearn.model_selection import StratifiedKFold\n",
    "stratifiedkfold = StratifiedKFold(n_splits=3)\n",
    "\n",
    "from sklearn.model_selection import cross_val_score\n",
    "for algorithm in algorithms:\n",
    "    # 교차 검증법 수행\n",
    "    scores = cross_val_score(algorithm , x_train, y_train,\n",
    "        cv=stratifiedkfold)\n",
    "    score = scores.mean()\n",
    "    name = algorithm.__class__.__name__\n",
    "    print(f'평균 정확도: {score:.4f}  개별 정확도: {scores}  {name}')"
   ]
  },
  {
   "cell_type": "markdown",
   "metadata": {
    "colab_type": "text",
    "id": "9hAdccB46AFw"
   },
   "source": [
    "### 4.5.4 그리드 서치"
   ]
  },
  {
   "cell_type": "code",
   "execution_count": null,
   "metadata": {
    "colab": {},
    "colab_type": "code",
    "id": "mRqBCMWY6AFx"
   },
   "outputs": [],
   "source": [
    "# 그리드 서치와 교차 검증법을 모두 적용한 최적 파라미터 탐색\n",
    "params = {\n",
    "      'C':[1, 10, 100, 1000, 10000],\n",
    "      'gamma':[1, 0.1, 0.01, 0.001, 0.0001, 0.00001]\n",
    "}\n",
    "algorithm = SVC(random_state=random_seed)\n",
    "\n",
    "from sklearn.model_selection import StratifiedKFold\n",
    "stratifiedkfold = StratifiedKFold(n_splits=3)\n",
    "\n",
    "from sklearn.model_selection import GridSearchCV\n",
    "gs = GridSearchCV(algorithm, params, cv=stratifiedkfold)\n",
    "gs.fit(x_train, y_train)\n",
    "\n",
    "# 가장 뛰어난 모델로 검증 데이터를 분류\n",
    "best = gs.best_estimator_\n",
    "best_pred = best.predict(x_test)\n",
    "print(best)"
   ]
  },
  {
   "cell_type": "code",
   "execution_count": null,
   "metadata": {
    "colab": {},
    "colab_type": "code",
    "id": "1JGcbbf16AFz"
   },
   "outputs": [],
   "source": [
    "# 정확도 계산\n",
    "score = best.score(x_test, y_test)\n",
    "print(f'정확도: {score:.4f}')\n",
    "\n",
    "# 혼동행렬 출력하기\n",
    "from sklearn.metrics import confusion_matrix\n",
    "print()\n",
    "print('혼동행렬')\n",
    "print(confusion_matrix(y_test, best_pred))"
   ]
  },
  {
   "cell_type": "code",
   "execution_count": null,
   "metadata": {
    "colab": {},
    "colab_type": "code",
    "id": "XoCkwlvY6AF1"
   },
   "outputs": [],
   "source": []
  }
 ],
 "metadata": {
  "colab": {
   "collapsed_sections": [],
   "name": "ch04_05_tuing.ipynb",
   "provenance": []
  },
  "kernelspec": {
   "display_name": "Python 3",
   "language": "python",
   "name": "python3"
  },
  "language_info": {
   "codemirror_mode": {
    "name": "ipython",
    "version": 3
   },
   "file_extension": ".py",
   "mimetype": "text/x-python",
   "name": "python",
   "nbconvert_exporter": "python",
   "pygments_lexer": "ipython3",
   "version": "3.7.10"
  }
 },
 "nbformat": 4,
 "nbformat_minor": 1
}
