{
 "cells": [
  {
   "cell_type": "markdown",
   "metadata": {
    "colab_type": "text",
    "id": "P-ZLwez7358S"
   },
   "source": [
    "## 추가 사례 2: 이미지 판별하기(다중 분류)"
   ]
  },
  {
   "cell_type": "markdown",
   "metadata": {},
   "source": [
    "### 공통 전처리"
   ]
  },
  {
   "cell_type": "code",
   "execution_count": null,
   "metadata": {
    "colab": {},
    "colab_type": "code",
    "id": "XLyizEG83ykk"
   },
   "outputs": [],
   "source": [
    "# 공통 처리\n",
    "\n",
    "# 불필요한 경고 메시지 무시\n",
    "import warnings\n",
    "warnings.filterwarnings('ignore')\n",
    "\n",
    "# 라이브러리 임포트\n",
    "import pandas as pd\n",
    "import numpy as np\n",
    "import matplotlib.pyplot as plt\n",
    "\n",
    "# 한글 글꼴 설정\n",
    "import platform\n",
    "\n",
    "if platform.system() == 'Windows':\n",
    "    plt.rc('font', family='Malgun Gothic')\n",
    "elif platform.system() == 'Darwin':\n",
    "    plt.rc('font', family='Apple Gothic')\n",
    "\n",
    "# 데이터프레임 출력용 함수\n",
    "from IPython.display import display\n",
    "\n",
    "# 숫자 출력 조정\n",
    "# 넘파이 부동소수점 출력 자리수 설정\n",
    "np.set_printoptions(suppress=True, precision=4)\n",
    "\n",
    "# 판다스 부동소수점 출력 자리수 설정\n",
    "pd.options.display.float_format = '{:.4f}'.format\n",
    "\n",
    "# 데이터프레임 모든 필드 출력\n",
    "pd.set_option(\"display.max_columns\",None)\n",
    "\n",
    "# 그래프 글꼴 크기 설정\n",
    "plt.rcParams[\"font.size\"] = 14\n",
    "\n",
    "# 난수 시드\n",
    "random_seed = 123"
   ]
  },
  {
   "cell_type": "code",
   "execution_count": null,
   "metadata": {
    "colab": {},
    "colab_type": "code",
    "id": "Bud8JoRBMWiI"
   },
   "outputs": [],
   "source": [
    "# 혼동행렬 출력용 함수\n",
    "\n",
    "def make_cm(matrix, columns):\n",
    "    # matrix : 넘파이 배열\n",
    "    # columns : 필드명 리스트\n",
    "    n = len(columns)\n",
    "    \n",
    "    # '정답 데이터'를 n번 반복해 연접한 리스트\n",
    "    act = ['정답데이터'] * n\n",
    "    pred = ['예측결과'] * n\n",
    "    \n",
    "    # 데이터프레임 생성\n",
    "    cm = pd.DataFrame(matrix, \n",
    "        columns=[pred, columns], index=[act, columns])\n",
    "    return cm"
   ]
  },
  {
   "cell_type": "markdown",
   "metadata": {},
   "source": [
    "### A2.4 데이터 읽어 들이기부터 데이터 확인까지"
   ]
  },
  {
   "cell_type": "markdown",
   "metadata": {
    "colab_type": "text",
    "id": "kJFUjT71Dr8r"
   },
   "source": [
    "#### 데이터 읽어 들이기"
   ]
  },
  {
   "cell_type": "code",
   "execution_count": null,
   "metadata": {
    "colab": {},
    "colab_type": "code",
    "id": "mH4Gl5x84Abb"
   },
   "outputs": [],
   "source": [
    "# 데이터 읽어 들이기\n",
    "\n",
    "# 숫자 손글씨 데이터\n",
    "# 시간이 상당히 걸리므로 주의할 것\n",
    "from sklearn.datasets import fetch_openml\n",
    "mnist = fetch_openml('mnist_784', version=1,)"
   ]
  },
  {
   "cell_type": "code",
   "execution_count": null,
   "metadata": {
    "colab": {},
    "colab_type": "code",
    "id": "f4W_1jbmBMaT"
   },
   "outputs": [],
   "source": [
    "# 이미지 데이터\n",
    "image = mnist.data.values\n",
    "\n",
    "# 정답 데이터\n",
    "label = mnist.target\n",
    "\n",
    "# 문자열을 숫자값으로 변환\n",
    "y = label.astype(np.int)"
   ]
  },
  {
   "cell_type": "code",
   "execution_count": null,
   "metadata": {
    "colab": {
     "base_uri": "https://localhost:8080/",
     "height": 253
    },
    "colab_type": "code",
    "id": "qi5-KRrarDb0",
    "outputId": "4bd34ca4-ca48-4190-a08d-ac76fff204ef"
   },
   "outputs": [],
   "source": [
    "# 데이터 상세 정보 확인\n",
    "\n",
    "print(mnist.DESCR)"
   ]
  },
  {
   "cell_type": "markdown",
   "metadata": {
    "colab_type": "text",
    "id": "Y5U8-HznD6X7"
   },
   "source": [
    "#### 데이터 확인"
   ]
  },
  {
   "cell_type": "code",
   "execution_count": null,
   "metadata": {
    "colab": {
     "base_uri": "https://localhost:8080/",
     "height": 50
    },
    "colab_type": "code",
    "id": "PBf_SB-H6Ttf",
    "outputId": "e4cbbcb5-3a96-4ed4-f92e-a9d0148dc17c"
   },
   "outputs": [],
   "source": [
    "# 배열의 크기 확인\n",
    "print(\"이미지 데이터 건수:\", image.shape)\n",
    "print(\"정답 데이터 건수:\", y.shape)"
   ]
  },
  {
   "cell_type": "code",
   "execution_count": null,
   "metadata": {
    "colab": {
     "base_uri": "https://localhost:8080/",
     "height": 50
    },
    "colab_type": "code",
    "id": "SaNn5rMcrDcA",
    "outputId": "5800d145-9a05-4d5f-ca48-0eb2667a4514"
   },
   "outputs": [],
   "source": [
    "# 레이블과 숫자값 레이블 확인\n",
    "print(label[:10])\n",
    "print(y[:10])"
   ]
  },
  {
   "cell_type": "code",
   "execution_count": null,
   "metadata": {
    "colab": {
     "base_uri": "https://localhost:8080/",
     "height": 201
    },
    "colab_type": "code",
    "id": "nPwYn1RP6_d_",
    "outputId": "72aef646-7411-4b25-986b-e0f630bc36b5"
   },
   "outputs": [],
   "source": [
    "# 검증 데이터의 처음 20건 이미지를 출력\n",
    "\n",
    "# 이미지 사이즈 지정\n",
    "plt.figure(figsize=(10, 3))\n",
    "\n",
    "# 이미지 20건을 화면에 출력\n",
    "for i in range(20): \n",
    "    \n",
    "    # i번째 ax객체에 접근\n",
    "    ax = plt.subplot(2, 10, i+1)\n",
    "    \n",
    "    # i번째 이미지 데이터에 접근\n",
    "    img = image[60000 + i].reshape(28,28)\n",
    "    \n",
    "    # img를 이미지로 출력\n",
    "    ax.imshow(img, cmap='gray_r')\n",
    "    \n",
    "    # 정답 데이터를 이미지의 타이틀로 출력\n",
    "    ax.set_title(label[60000+i])\n",
    "    \n",
    "    # x, y눈금 숨김\n",
    "    ax.set_xticks([])\n",
    "    ax.set_yticks([])\n",
    "    \n",
    "# 이미지 간 간격 설정\n",
    "plt.tight_layout()\n",
    "\n",
    "# 화면 출력\n",
    "plt.show() "
   ]
  },
  {
   "cell_type": "markdown",
   "metadata": {},
   "source": [
    "### A2.5 데이터 전처리 및 데이터 분할"
   ]
  },
  {
   "cell_type": "markdown",
   "metadata": {
    "colab_type": "text",
    "id": "RqbRUIe7E84L"
   },
   "source": [
    "#### 데이터 전처리"
   ]
  },
  {
   "cell_type": "code",
   "execution_count": null,
   "metadata": {
    "colab": {
     "base_uri": "https://localhost:8080/",
     "height": 33
    },
    "colab_type": "code",
    "id": "5QUR_-xcrDcI",
    "outputId": "0880ad0c-f3db-4d5e-b58c-6c430a2a67a4"
   },
   "outputs": [],
   "source": [
    "# 전처리 전\n",
    "\n",
    "# (처음 부분이 모두 0이어서 0이 아닌 부분을 골라 출력함)\n",
    "print(image[0][175:185])"
   ]
  },
  {
   "cell_type": "code",
   "execution_count": null,
   "metadata": {
    "colab": {},
    "colab_type": "code",
    "id": "5hji2JZaFiGW"
   },
   "outputs": [],
   "source": [
    "# 정규화(normalization)\n",
    "\n",
    "# 필드값의 [0, 1] 구간의 값이 되도록 함\n",
    "# 넘파이 브로드캐스트 기능을 사용했다\n",
    "x = image / 255.0"
   ]
  },
  {
   "cell_type": "code",
   "execution_count": null,
   "metadata": {
    "colab": {
     "base_uri": "https://localhost:8080/",
     "height": 33
    },
    "colab_type": "code",
    "id": "E0F28CiMFXuJ",
    "outputId": "c028cd34-99c0-4473-9a59-ffac640e4d5c"
   },
   "outputs": [],
   "source": [
    "# 결과 확인\n",
    "\n",
    "#print(x[0,175:185])\n",
    "print(x[0][175:185])"
   ]
  },
  {
   "cell_type": "markdown",
   "metadata": {
    "colab_type": "text",
    "id": "0_HQAH0aCGEd"
   },
   "source": [
    "#### 데이터 분할"
   ]
  },
  {
   "cell_type": "code",
   "execution_count": null,
   "metadata": {
    "colab": {},
    "colab_type": "code",
    "id": "R1TnzuPUCCx5"
   },
   "outputs": [],
   "source": [
    "# 학습 데이터와 검증 데이터를 분할\n",
    "# 미리 무작위로 순서가 섞였으므로, \n",
    "# 처음 60000건을 그대로 학습 데이터로 사용한다.\n",
    "x_train = x[:60000,:]\n",
    "x_test = x[60000:,:]\n",
    "y_train = y[:60000]\n",
    "y_test = y[60000:]"
   ]
  },
  {
   "cell_type": "code",
   "execution_count": null,
   "metadata": {
    "colab": {
     "base_uri": "https://localhost:8080/",
     "height": 83
    },
    "colab_type": "code",
    "id": "gpOfwNuDDM3i",
    "outputId": "68c4e541-6e83-4b04-d559-f4d4daa0aa4f"
   },
   "outputs": [],
   "source": [
    "# 결과 확인\n",
    "print(\"학습 데이터 이미지 건수:\", x_train.shape)\n",
    "print(\"학습 데이터 정답 건수:\", y_train.shape)\n",
    "print(\"검증 데이터 이미지 건수:\", x_test.shape)\n",
    "print(\"검증 데이터 정답 건수:\", y_test.shape)"
   ]
  },
  {
   "cell_type": "markdown",
   "metadata": {},
   "source": [
    "### A2.6 알고리즘 선정하기"
   ]
  },
  {
   "cell_type": "markdown",
   "metadata": {
    "colab_type": "text",
    "id": "YU3FAQhUG363"
   },
   "source": [
    "#### 알고리즘 선정"
   ]
  },
  {
   "cell_type": "code",
   "execution_count": null,
   "metadata": {
    "colab": {},
    "colab_type": "code",
    "id": "tlVO7Ygk78wi"
   },
   "outputs": [],
   "source": [
    "# 알고리즘 선정\n",
    "\n",
    "# 서포트 벡터 머신을 사용함\n",
    "from sklearn.svm import SVC\n",
    "algorithm = SVC(random_state=random_seed)"
   ]
  },
  {
   "cell_type": "markdown",
   "metadata": {},
   "source": [
    "### A2.7 학습 및 예측"
   ]
  },
  {
   "cell_type": "markdown",
   "metadata": {
    "colab_type": "text",
    "id": "fAptbc-FI3zI"
   },
   "source": [
    "#### 학습\n",
    "상당한 시간이 걸리므로 주의(7분 정도)"
   ]
  },
  {
   "cell_type": "code",
   "execution_count": null,
   "metadata": {
    "colab": {
     "base_uri": "https://localhost:8080/",
     "height": 33
    },
    "colab_type": "code",
    "id": "yZpvaCubHCfW",
    "outputId": "556139d5-a60d-402c-cafa-de52b6fe2a12"
   },
   "outputs": [],
   "source": [
    "# 학습\n",
    "import time\n",
    "start = time.time() \n",
    "algorithm.fit(x_train, y_train)\n",
    "end = time.time()\n",
    "elapsed = end - start\n",
    "print(f'학습시간: {elapsed:.4f}초')"
   ]
  },
  {
   "cell_type": "markdown",
   "metadata": {
    "colab_type": "text",
    "id": "f1N1eCQUJEhS"
   },
   "source": [
    " #### 예측"
   ]
  },
  {
   "cell_type": "markdown",
   "metadata": {
    "colab_type": "text",
    "id": "hnGH1qZmy-GM"
   },
   "source": [
    "상당한 시간이 걸리므로 주의(2분 정도)"
   ]
  },
  {
   "cell_type": "code",
   "execution_count": null,
   "metadata": {
    "colab": {
     "base_uri": "https://localhost:8080/",
     "height": 33
    },
    "colab_type": "code",
    "id": "PdFINRNVI0Q_",
    "outputId": "0b307386-ffab-4d17-aefc-befb55748ee9"
   },
   "outputs": [],
   "source": [
    "# 예측\n",
    "import time\n",
    "start = time.time() \n",
    "y_pred = algorithm.predict(x_test)\n",
    "end = time.time()\n",
    "elapsed = end - start\n",
    "print(f'예측시간 {elapsed:.4f}초')"
   ]
  },
  {
   "cell_type": "markdown",
   "metadata": {},
   "source": [
    "### A2.8 평가"
   ]
  },
  {
   "cell_type": "markdown",
   "metadata": {
    "colab_type": "text",
    "id": "XNPhJhZJJKu1"
   },
   "source": [
    "#### 평가"
   ]
  },
  {
   "cell_type": "code",
   "execution_count": null,
   "metadata": {
    "colab": {
     "base_uri": "https://localhost:8080/",
     "height": 347
    },
    "colab_type": "code",
    "id": "4_hAdDmvJMzW",
    "outputId": "a18b0873-8a4b-4dd1-a182-4fe3c1ec639b"
   },
   "outputs": [],
   "source": [
    "# 혼동행렬 출력\n",
    "from sklearn.metrics import confusion_matrix\n",
    "labels = range(10)\n",
    "cm = confusion_matrix(y_test, y_pred, labels)\n",
    "labels_str =  np.array(labels).astype(str)\n",
    "cm_labeled = make_cm(cm, labels_str)\n",
    "display(cm_labeled)"
   ]
  },
  {
   "cell_type": "code",
   "execution_count": null,
   "metadata": {
    "colab": {
     "base_uri": "https://localhost:8080/",
     "height": 300
    },
    "colab_type": "code",
    "id": "0CsDZOXcJuAy",
    "outputId": "b0eb3824-93b6-4edb-f479-5d91dfdd27d4"
   },
   "outputs": [],
   "source": [
    "# 정밀도, 재현율, F-점수 출력\n",
    "from sklearn.metrics import classification_report\n",
    "print(classification_report(y_test, y_pred, digits=4))"
   ]
  },
  {
   "cell_type": "code",
   "execution_count": null,
   "metadata": {
    "colab": {},
    "colab_type": "code",
    "id": "bKZ0JVdAJuWz",
    "outputId": "24e18efc-95d1-48aa-e72d-d2b258a25030"
   },
   "outputs": [],
   "source": [
    "image_test = x_test * 255.0\n",
    "\n",
    "# 이미지 출력\n",
    "plt.figure(figsize=(10, 3))\n",
    "\n",
    "for i in range(20): \n",
    "    # i번째 ax 객체에 접근\n",
    "    ax = plt.subplot(2, 10, i+1)\n",
    "    \n",
    "    # i번째 이미지 데이터에 접근\n",
    "    img = image_test[i].reshape(28,28)\n",
    "    \n",
    "    # 이미지를 출력\n",
    "    ax.imshow(img, cmap='gray_r')\n",
    "    \n",
    "    # (정답데이터):(예측결과)를 타이틀로\n",
    "    title = f'{y_test[i]}:{y_pred[i]}'\n",
    "    ax.set_title(title)\n",
    "    \n",
    "    # x, y눈금 숨김\n",
    "    ax.set_xticks([])\n",
    "    ax.set_yticks([])\n",
    "\n",
    "# 인접 이미지와 간격 설정\n",
    "plt.tight_layout()\n",
    "\n",
    "# 화면 출력\n",
    "plt.show()     "
   ]
  },
  {
   "cell_type": "markdown",
   "metadata": {},
   "source": [
    "### A2.9 튜닝"
   ]
  },
  {
   "cell_type": "markdown",
   "metadata": {
    "colab_type": "text",
    "id": "5RL9EB0aJNin"
   },
   "source": [
    "#### 튜닝\n",
    "케라스를 이용한 딥러닝 모델과 정확도를 비교한다"
   ]
  },
  {
   "cell_type": "code",
   "execution_count": null,
   "metadata": {
    "colab": {
     "base_uri": "https://localhost:8080/",
     "height": 33
    },
    "colab_type": "code",
    "id": "urZV6CM4JQsC",
    "outputId": "b5f794b3-8b30-4096-da42-b6f631f341cc"
   },
   "outputs": [],
   "source": [
    "import tensorflow as tf\n",
    "import keras\n",
    "from tensorflow.keras.models import Sequential\n",
    "from tensorflow.keras.layers import Dense, Dropout, Flatten\n",
    "from tensorflow.keras.layers import Conv2D, MaxPooling2D\n",
    "from keras import backend as K\n",
    "\n",
    "batch_size = 128\n",
    "num_classes = 10\n",
    "epochs = 12\n",
    "pixel_size = 28"
   ]
  },
  {
   "cell_type": "code",
   "execution_count": null,
   "metadata": {
    "colab": {
     "base_uri": "https://localhost:8080/",
     "height": 33
    },
    "colab_type": "code",
    "id": "zc1shh8cilXP",
    "outputId": "54fd7e43-0955-4bfb-ae8a-d200a85a7961"
   },
   "outputs": [],
   "source": [
    "# 딥러닝에 사용할 수 있도록 입력 데이터를 변형\n",
    "\n",
    "# 학습 데이터\n",
    "x_train_tf = x_train.reshape(x_train.shape[0], \n",
    "    pixel_size, pixel_size, 1)\n",
    "\n",
    "# 검증 데이터\n",
    "x_test_tf = x_test.reshape(x_test.shape[0], \n",
    "    pixel_size, pixel_size, 1)\n",
    "\n",
    "# 입력 데이터 형식\n",
    "input_shape = x_train_tf.shape[1:]\n",
    "\n",
    "# 결과 확인\n",
    "print(input_shape)"
   ]
  },
  {
   "cell_type": "code",
   "execution_count": null,
   "metadata": {
    "colab": {},
    "colab_type": "code",
    "id": "WqoB138lhz-J"
   },
   "outputs": [],
   "source": [
    "# 딥러닝 모델 생성\n",
    "model = Sequential()\n",
    "model.add(Conv2D(32, kernel_size=(3, 3),\n",
    "                 activation='relu',\n",
    "                 input_shape=input_shape))\n",
    "model.add(Conv2D(64, (3, 3), activation='relu'))\n",
    "model.add(MaxPooling2D(pool_size=(2, 2)))\n",
    "model.add(Dropout(0.25))\n",
    "model.add(Flatten())\n",
    "model.add(Dense(128, activation='relu'))\n",
    "model.add(Dropout(0.5))\n",
    "model.add(Dense(num_classes, activation='softmax'))"
   ]
  },
  {
   "cell_type": "code",
   "execution_count": null,
   "metadata": {
    "colab": {},
    "colab_type": "code",
    "id": "_8cxrtzMo8Zk"
   },
   "outputs": [],
   "source": [
    "# 손실함수, 정확도, 학습 알고리즘 지정\n",
    "\n",
    "# 손실함수\n",
    "loss = tf.keras.losses.SparseCategoricalCrossentropy()\n",
    "\n",
    "# 정확도\n",
    "acc = tf.keras.metrics.SparseCategoricalAccuracy()\n",
    "\n",
    "# 학습 알고리즘\n",
    "optim = tf.keras.optimizers.Adam()\n",
    "\n",
    "# 모델과 결합\n",
    "model.compile(optimizer=optim, loss=loss, metrics=[acc])"
   ]
  },
  {
   "cell_type": "markdown",
   "metadata": {
    "colab_type": "text",
    "id": "4hyLjAPHtSfP"
   },
   "source": [
    "#### 학습\n",
    "소요시간  \n",
    "약 30분(GPU 미사용)  \n",
    "약 1분(GPU 사용시)\n"
   ]
  },
  {
   "cell_type": "code",
   "execution_count": null,
   "metadata": {
    "colab": {
     "base_uri": "https://localhost:8080/",
     "height": 433
    },
    "colab_type": "code",
    "id": "a4GM9TOcjXvs",
    "outputId": "9b343076-b3db-42da-d54d-163a9d67d788"
   },
   "outputs": [],
   "source": [
    "# 학습\n",
    "model.fit(x_train_tf, y_train,\n",
    "          batch_size=batch_size,\n",
    "          epochs=epochs,\n",
    "          verbose=1,\n",
    "          validation_data=(x_test_tf, y_test))"
   ]
  },
  {
   "cell_type": "markdown",
   "metadata": {
    "colab_type": "text",
    "id": "JeJ5Qm4Y2rZC"
   },
   "source": [
    "#### 예측 및 평가"
   ]
  },
  {
   "cell_type": "code",
   "execution_count": null,
   "metadata": {
    "colab": {
     "base_uri": "https://localhost:8080/",
     "height": 86
    },
    "colab_type": "code",
    "id": "5O-jwv-PmRSC",
    "outputId": "3ef87a35-70b2-48e8-dca7-876586feae69"
   },
   "outputs": [],
   "source": [
    "# 예측 결과 받아오기\n",
    "y_pred_tf = np.argmax(model.predict(x_test_tf), axis=-1)"
   ]
  },
  {
   "cell_type": "code",
   "execution_count": null,
   "metadata": {
    "colab": {
     "base_uri": "https://localhost:8080/",
     "height": 377
    },
    "colab_type": "code",
    "id": "fe3JcWFqrhCT",
    "outputId": "17a00777-9feb-4023-c4ad-f5b92fecf974"
   },
   "outputs": [],
   "source": [
    "# 혼동행렬 출력\n",
    "cm2 = confusion_matrix(y_test, y_pred_tf, labels)\n",
    "cm2_labeled = make_cm(cm2, labels_str)\n",
    "display(cm2_labeled)"
   ]
  },
  {
   "cell_type": "code",
   "execution_count": null,
   "metadata": {
    "colab": {
     "base_uri": "https://localhost:8080/",
     "height": 300
    },
    "colab_type": "code",
    "id": "zktd7iUpr24w",
    "outputId": "d635ba31-f88a-4f3e-9a75-c757c1eb4f95"
   },
   "outputs": [],
   "source": [
    "# 정밀도, 재현율, F-점수 출력\n",
    "from sklearn.metrics import classification_report\n",
    "print(classification_report(y_test, y_pred_tf, digits=4))"
   ]
  },
  {
   "cell_type": "code",
   "execution_count": null,
   "metadata": {
    "colab": {
     "base_uri": "https://localhost:8080/",
     "height": 201
    },
    "colab_type": "code",
    "id": "YaTBmQl11Su4",
    "outputId": "1d2c6e24-85dc-4b19-cae5-82680d2f2536"
   },
   "outputs": [],
   "source": [
    "# 이미지 출력\n",
    "plt.figure(figsize=(10, 3))\n",
    "\n",
    "for i in range(20): \n",
    "    # i번째 ax 객체 접근\n",
    "    ax = plt.subplot(2, 10, i+1)\n",
    "    \n",
    "    # i번째 이미지 데이터 접근\n",
    "    img = image_test[i].reshape(28,28)\n",
    "    \n",
    "    # 이미지 출력\n",
    "    ax.imshow(img, cmap='gray_r')\n",
    "    \n",
    "    # (정답 데이터):(예측결과) 형식으로 타이틀 추가\n",
    "    title = f'{y_test.values[i]}:{y_pred_tf[i]}'\n",
    "    ax.set_title(title)\n",
    "    \n",
    "    # x, y눈금 숨김\n",
    "    ax.set_xticks([])\n",
    "    ax.set_yticks([])\n",
    "\n",
    "# 인접 이미지와 간격 설정\n",
    "plt.tight_layout()\n",
    "\n",
    "# 화면 출력\n",
    "plt.show()         "
   ]
  },
  {
   "cell_type": "code",
   "execution_count": null,
   "metadata": {},
   "outputs": [],
   "source": []
  }
 ],
 "metadata": {
  "accelerator": "GPU",
  "colab": {
   "collapsed_sections": [],
   "name": "ch05_03_nmist.ipynb",
   "provenance": []
  },
  "kernelspec": {
   "display_name": "Python 3",
   "language": "python",
   "name": "python3"
  },
  "language_info": {
   "codemirror_mode": {
    "name": "ipython",
    "version": 3
   },
   "file_extension": ".py",
   "mimetype": "text/x-python",
   "name": "python",
   "nbconvert_exporter": "python",
   "pygments_lexer": "ipython3",
   "version": "3.7.10"
  }
 },
 "nbformat": 4,
 "nbformat_minor": 1
}
