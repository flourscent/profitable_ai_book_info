{
 "cells": [
  {
   "cell_type": "markdown",
   "metadata": {
    "colab_type": "text",
    "id": "mO5GHcBosupZ"
   },
   "source": [
    "# 4.3 알고리즘 선택하기"
   ]
  },
  {
   "cell_type": "code",
   "execution_count": null,
   "metadata": {
    "colab": {},
    "colab_type": "code",
    "id": "2awHTZPdsupd"
   },
   "outputs": [],
   "source": [
    "# 공통 처리\n",
    "\n",
    "# 불필요한 경고 메시지 무시\n",
    "import warnings\n",
    "warnings.filterwarnings('ignore')\n",
    "\n",
    "# 라이브러리 임포트\n",
    "import pandas as pd\n",
    "import numpy as np\n",
    "import matplotlib.pyplot as plt\n",
    "\n",
    "# 한글 글꼴 설정\n",
    "import platform\n",
    "\n",
    "if platform.system() == 'Windows':\n",
    "    plt.rc('font', family='Malgun Gothic')\n",
    "elif platform.system() == 'Darwin':\n",
    "    plt.rc('font', family='Apple Gothic')    \n",
    "\n",
    "# 데이터프레임 출력용 함수\n",
    "from IPython.display import display\n",
    "\n",
    "# 숫자 출력 조정\n",
    "# 넘파이 부동소수점 출력 자리수 설정\n",
    "np.set_printoptions(suppress=True, precision=4)\n",
    "\n",
    "# 판다스 부동소수점 출력 자리수 설정\n",
    "pd.options.display.float_format = '{:.4f}'.format\n",
    "\n",
    "# 데이터프레임 모든 필드 출력\n",
    "pd.set_option(\"display.max_columns\",None)\n",
    "\n",
    "# 그래프 글꼴 크기 설정\n",
    "plt.rcParams[\"font.size\"] = 14\n",
    "\n",
    "# 난수 시드\n",
    "random_seed = 123"
   ]
  },
  {
   "cell_type": "markdown",
   "metadata": {
    "colab_type": "text",
    "id": "yYjQM4aPsuq4"
   },
   "source": [
    "### 4.3.2 예제 코드에서 사용할 데이터"
   ]
  },
  {
   "cell_type": "code",
   "execution_count": null,
   "metadata": {
    "colab": {},
    "colab_type": "code",
    "id": "rVwYIDVVsuq7"
   },
   "outputs": [],
   "source": [
    "# 예제 데이터 생성하기\n",
    "\n",
    "# 라이브러리 임포트\n",
    "from sklearn.datasets import make_moons\n",
    "from sklearn.datasets import make_circles\n",
    "from sklearn.datasets import make_classification\n",
    "\n",
    "# 선형 데이터\n",
    "X1, y1 = make_classification(n_features=2, n_redundant=0,\n",
    "    n_informative=2, random_state=random_seed,\n",
    "    n_clusters_per_class=1, n_samples=200, n_classes=2)\n",
    "\n",
    "# 초승달형 데이터 (선형 분리 불가능)\n",
    "X2, y2 = make_moons(noise = 0.05, random_state=random_seed,\n",
    "    n_samples=200)\n",
    "\n",
    "# 원형 데이터 (선형 분리 불가능)\n",
    "X3, y3 = make_circles(noise = 0.02, random_state=random_seed,\n",
    "    n_samples=200)\n",
    "\n",
    "# 세 가지 데이터를 DataList 변수에 저장\n",
    "DataList = [(X1, y1), (X2, y2), (X3, y3)]\n",
    "\n",
    "# N: 데이터의 가짓수\n",
    "N = len(DataList)"
   ]
  },
  {
   "cell_type": "code",
   "execution_count": null,
   "metadata": {
    "colab": {},
    "colab_type": "code",
    "id": "ZCZVCPJqsurE",
    "scrolled": true
   },
   "outputs": [],
   "source": [
    "# 산포도 그리기\n",
    "plt.figure(figsize=(15,4))\n",
    "\n",
    "# 컬러맵 정의\n",
    "from matplotlib.colors import ListedColormap\n",
    "cmap = ListedColormap(['#0000FF', '#000000'])\n",
    "\n",
    "for i, data in enumerate(DataList):\n",
    "    X, y = data\n",
    "    ax = plt.subplot(1, N, i+1)\n",
    "    ax.scatter(X[:,0], X[:,1], c=y, cmap=cmap)\n",
    "\n",
    "plt.show()"
   ]
  },
  {
   "cell_type": "code",
   "execution_count": null,
   "metadata": {
    "colab": {},
    "colab_type": "code",
    "id": "6tg0HurlsurQ"
   },
   "outputs": [],
   "source": [
    "from sklearn.model_selection import train_test_split\n",
    "\n",
    "# 결정 경계를 그리는 함수\n",
    "def plot_boundary(ax, x, y, algorithm):\n",
    "    x_train, x_test, y_train, y_test = train_test_split(x, y,\n",
    "            test_size=0.5, random_state=random_seed)\n",
    "    # 컬러맵 정의\n",
    "    from matplotlib.colors import ListedColormap\n",
    "    cmap1 = plt.cm.bwr\n",
    "    cmap2 = ListedColormap(['#0000FF', '#000000'])\n",
    "\n",
    "    h = 0.005\n",
    "    algorithm.fit(x_train, y_train)\n",
    "    score_test = algorithm.score(x_test, y_test)\n",
    "    score_train = algorithm.score(x_train, y_train)\n",
    "    f1_min = x[:, 0].min() - 0.5\n",
    "    f1_max = x[:, 0].max() + 0.5\n",
    "    f2_min = x[:, 1].min() - 0.5\n",
    "    f2_max = x[:, 1].max() + 0.5\n",
    "    f1, f2 = np.meshgrid(np.arange(f1_min, f1_max, h), \n",
    "                         np.arange(f2_min, f2_max, h))\n",
    "    if hasattr(algorithm, \"decision_function\"):\n",
    "        Z = algorithm.decision_function(np.c_[f1.ravel(), f2.ravel()])\n",
    "        Z = Z.reshape(f1.shape)\n",
    "        ax.contour(f1, f2, Z, levels=[0], linewidth=2)\n",
    "    else:\n",
    "        Z = algorithm.predict_proba(np.c_[f1.ravel(), f2.ravel()])[:, 1]\n",
    "        Z = Z.reshape(f1.shape)\n",
    "    ax.contourf(f1, f2, Z, cmap=cmap1, alpha=0.3)\n",
    "    ax.scatter(x_test[:,0], x_test[:,1], c=y_test, cmap=cmap2)\n",
    "    ax.scatter(x_train[:,0], x_train[:,1], c=y_train, cmap=cmap2, marker='x')\n",
    "    text = f'검증:{score_test:.2f}  학습: {score_train:.2f}'\n",
    "    ax.text(f1.max() - 0.3, f2.min() + 0.3, text, horizontalalignment='right',\n",
    "    fontsize=18) \n",
    "    "
   ]
  },
  {
   "cell_type": "code",
   "execution_count": null,
   "metadata": {
    "colab": {},
    "colab_type": "code",
    "id": "2GnEs-HIsurX"
   },
   "outputs": [],
   "source": [
    "# 산점도와 결정 경계를 그리는 함수\n",
    "\n",
    "def plot_boundaries(algorithm, DataList):\n",
    "    plt.figure(figsize=(15,4))\n",
    "    for i, data in enumerate(DataList):\n",
    "        X, y = data\n",
    "        ax = plt.subplot(1, N, i+1)\n",
    "        plot_boundary(ax, X, y, algorithm)\n",
    "    plt.show()"
   ]
  },
  {
   "cell_type": "markdown",
   "metadata": {
    "colab_type": "text",
    "id": "4QK7la8bsurc"
   },
   "source": [
    "### 4.3.3 로지스틱 회귀"
   ]
  },
  {
   "cell_type": "markdown",
   "metadata": {
    "colab_type": "text",
    "id": "4hjdypwfGxjT"
   },
   "source": [
    "#### 시그모이드 함수의 그래프"
   ]
  },
  {
   "cell_type": "code",
   "execution_count": null,
   "metadata": {
    "colab": {},
    "colab_type": "code",
    "id": "665hrivYsurd"
   },
   "outputs": [],
   "source": [
    "# 시그모이드 함수의 정의\n",
    "def sigmoid(x):\n",
    "    return 1/(1 + np.exp(-x))\n",
    "\n",
    "# x축 데이터 준비\n",
    "x = np.linspace(-5, 5, 101)\n",
    "\n",
    "# y축 데이터 준비\n",
    "y = sigmoid(x)\n",
    "\n",
    "# 그래프 작도\n",
    "plt.plot(x, y, label='시그모이드 함수', c='b', lw=2)\n",
    "\n",
    "# 범례 작도\n",
    "plt.legend()\n",
    "\n",
    "# 그리드 작도\n",
    "plt.grid()\n",
    "\n",
    "# 전체 그래프 출력\n",
    "plt.show()"
   ]
  },
  {
   "cell_type": "code",
   "execution_count": null,
   "metadata": {
    "colab": {},
    "colab_type": "code",
    "id": "6H__cQb6suri"
   },
   "outputs": [],
   "source": [
    "# 로지스틱 회귀 알고리즘을 이용한 분류 결과와 산점도\n",
    "\n",
    "# 알고리즘 정의\n",
    "from sklearn.linear_model import LogisticRegression\n",
    "algorithm = LogisticRegression(random_state=random_seed)\n",
    "\n",
    "# 알고리즘의 파라미터 출력\n",
    "print(algorithm)\n",
    "\n",
    "# 결과 표시 함수를 호출한다\n",
    "plot_boundaries(algorithm, DataList)"
   ]
  },
  {
   "cell_type": "markdown",
   "metadata": {
    "colab_type": "text",
    "id": "-lGjUfRvsur1"
   },
   "source": [
    "### 4.3.4 서포트 벡터 머신(커널)"
   ]
  },
  {
   "cell_type": "code",
   "execution_count": null,
   "metadata": {
    "colab": {},
    "colab_type": "code",
    "id": "zSpjxSbMsur2",
    "scrolled": true
   },
   "outputs": [],
   "source": [
    "# SVM(커널)을 이용한 분류 결과 및 산점도\n",
    "\n",
    "# 알고리즘 선택하기\n",
    "from sklearn.svm import SVC\n",
    "algorithm = SVC(kernel='rbf', random_state=random_seed)\n",
    "\n",
    "# 알고리즘에 설정된 파라미터 출력\n",
    "print(algorithm)\n",
    "\n",
    "# 결과 표시 함수를 호출\n",
    "plot_boundaries(algorithm, DataList)"
   ]
  },
  {
   "cell_type": "markdown",
   "metadata": {
    "colab_type": "text",
    "id": "ZtH_8tdKsusf"
   },
   "source": [
    "### 4.3.5 신경망 알고리즘"
   ]
  },
  {
   "cell_type": "code",
   "execution_count": null,
   "metadata": {
    "colab": {},
    "colab_type": "code",
    "id": "uZ4Kx1UBSATK"
   },
   "outputs": [],
   "source": [
    "# 신경망을 이용한 분류 결과와 산점도\n",
    "\n",
    "# 알고리즘 선택하기\n",
    "from sklearn.neural_network import MLPClassifier\n",
    "algorithm = MLPClassifier(random_state=random_seed)\n",
    "\n",
    "# 알고리즘에 설정된 파라미터 출력\n",
    "print(algorithm)\n",
    "\n",
    "# 결과 표시 함수를 호출\n",
    "plot_boundaries(algorithm, DataList)"
   ]
  },
  {
   "cell_type": "code",
   "execution_count": null,
   "metadata": {
    "colab": {},
    "colab_type": "code",
    "id": "29Nrq4XQsusg",
    "scrolled": false
   },
   "outputs": [],
   "source": [
    "# 신경망을 이용한 분류 결과와 산점도\n",
    "\n",
    "# 알고리즘 선택하기\n",
    "# 중간층 노드 수=(100,100)\n",
    "from sklearn.neural_network import MLPClassifier\n",
    "algorithm = MLPClassifier(hidden_layer_sizes=(100,100), random_state=random_seed)\n",
    "\n",
    "# 알고리즘에 설정된 파라미터 출력\n",
    "print(algorithm)\n",
    "\n",
    "# 결과 표시 함수를 호출\n",
    "plot_boundaries(algorithm, DataList)"
   ]
  },
  {
   "cell_type": "markdown",
   "metadata": {
    "colab_type": "text",
    "id": "CijPD0UZsur6"
   },
   "source": [
    "### 4.3.6 결정 트리"
   ]
  },
  {
   "cell_type": "code",
   "execution_count": null,
   "metadata": {
    "colab": {},
    "colab_type": "code",
    "id": "AdxLMsRNsur8"
   },
   "outputs": [],
   "source": [
    "# 추가 라이브러리 임포트\n",
    "import seaborn as sns\n",
    "\n",
    "# 예제 데이터 읽어 들이기\n",
    "df_iris = sns.load_dataset(\"iris\")\n",
    "\n",
    "# 데이터 범위를 2종으로 축소\n",
    "df2 = df_iris[50:150]\n",
    "\n",
    "# 데이터 분리\n",
    "X = df2.drop('species', axis=1)\n",
    "y = df2['species']"
   ]
  },
  {
   "cell_type": "code",
   "execution_count": null,
   "metadata": {
    "colab": {},
    "colab_type": "code",
    "id": "mz9ydocPsur_"
   },
   "outputs": [],
   "source": [
    "## 역주: 'GraphViz's executables not found' 오류 발생시에는\n",
    "## https://graphviz.org/download/ 에서 환경에 맞는 버전의 Graphviz를 설치하고\n",
    "## 아래 코드의 <설치경로>를 자신이 Graphviz를 설치한 경로로 수정한 후\n",
    "## 진행하기 바랍니다.\n",
    "\n",
    "import os\n",
    "os.environ[\"PATH\"] += os.pathsep + 'C:/Program Files/Graphviz/bin'\n",
    "#os.environ[\"PATH\"] += os.pathsep + '<설치경로>'\n",
    "\n",
    "# 학습 \n",
    "from sklearn.tree import DecisionTreeClassifier\n",
    "algorithm = DecisionTreeClassifier(random_state=random_seed)\n",
    "algorithm.fit(X, y)\n",
    "\n",
    "# 결정 트리를 그래프 구조로 출력\n",
    "from sklearn import tree\n",
    "with open('iris-dtree.dot', mode='w') as f:\n",
    "    tree.export_graphviz( algorithm, out_file=f,\n",
    "        feature_names=X.columns, filled=True, rounded=True,\n",
    "        special_characters=True, impurity=False, proportion=False\n",
    "    )\n",
    "import pydotplus\n",
    "from IPython.display import Image\n",
    "graph = pydotplus.graphviz.graph_from_dot_file('iris-dtree.dot')\n",
    "graph.write_png('iris-dtree.png')\n",
    "Image(graph.create_png())"
   ]
  },
  {
   "cell_type": "code",
   "execution_count": null,
   "metadata": {
    "colab": {},
    "colab_type": "code",
    "id": "4Unapg7GsusF"
   },
   "outputs": [],
   "source": [
    "# 결정 트리를 이용한 분류 결과와 산점도\n",
    "\n",
    "# 알고리즘 선택하기\n",
    "from sklearn.tree import DecisionTreeClassifier\n",
    "algorithm = DecisionTreeClassifier(random_state=random_seed)\n",
    "\n",
    "# 알고리즘에 설정된 파라미터 출력\n",
    "print(algorithm)\n",
    "\n",
    "# 결과 표시 함수를 호출\n",
    "plot_boundaries(algorithm, DataList)"
   ]
  },
  {
   "cell_type": "code",
   "execution_count": null,
   "metadata": {
    "colab": {},
    "colab_type": "code",
    "id": "lFwywes9susJ",
    "scrolled": false
   },
   "outputs": [],
   "source": [
    "# 결정 트리를 이용한 분류 결과와 산점도(max_depth=3으로 설정)\n",
    "\n",
    "# 알고리즘 선택하기\n",
    "from sklearn.tree import DecisionTreeClassifier\n",
    "algorithm = DecisionTreeClassifier(max_depth=3,\n",
    "    random_state=random_seed)\n",
    "\n",
    "# 알고리즘에 설정된 파라미터 출력\n",
    "print(algorithm)\n",
    "\n",
    "# 결과 표시 함수를 호출\n",
    "plot_boundaries(algorithm, DataList)"
   ]
  },
  {
   "cell_type": "markdown",
   "metadata": {
    "colab_type": "text",
    "id": "EalfyOpBsusN"
   },
   "source": [
    "### 4.3.7 랜덤 포레스트"
   ]
  },
  {
   "cell_type": "code",
   "execution_count": null,
   "metadata": {
    "colab": {},
    "colab_type": "code",
    "id": "4LDlgCivsusS"
   },
   "outputs": [],
   "source": [
    "# 랜덤 포레스트를 이용한 분류 결과와 산점도\n",
    "\n",
    "# 알고리즘 선택하기\n",
    "from sklearn.ensemble import RandomForestClassifier\n",
    "algorithm = RandomForestClassifier(random_state=random_seed)\n",
    "\n",
    "# 알고리즘에 설정된 파라미터 출력\n",
    "print(algorithm)\n",
    "\n",
    "# 결과 표시 함수를 호출\n",
    "plot_boundaries(algorithm, DataList)"
   ]
  },
  {
   "cell_type": "markdown",
   "metadata": {
    "colab_type": "text",
    "id": "MP8HIeqZsusW"
   },
   "source": [
    "### 4.3.8 XGBoost"
   ]
  },
  {
   "cell_type": "code",
   "execution_count": null,
   "metadata": {
    "colab": {},
    "colab_type": "code",
    "id": "rc__Yw46susX"
   },
   "outputs": [],
   "source": [
    "# XGBoost를 이용한 분류 결과와 산점도\n",
    "\n",
    "# 알고리즘 선택하기\n",
    "import xgboost\n",
    "algorithm = xgboost.XGBClassifier(random_state=random_seed)\n",
    "\n",
    "# 알고리즘에 설정된 파라미터 출력\n",
    "print(algorithm)\n",
    "\n",
    "# 결과 표시 함수를 호출\n",
    "plot_boundaries(algorithm, DataList)"
   ]
  },
  {
   "cell_type": "markdown",
   "metadata": {
    "colab_type": "text",
    "id": "Cor27JFxsusf"
   },
   "source": [
    "### 참고\n",
    "버전 확인용 코드"
   ]
  },
  {
   "cell_type": "code",
   "execution_count": null,
   "metadata": {
    "colab": {},
    "colab_type": "code",
    "id": "AxxTH6Dqsus4"
   },
   "outputs": [],
   "source": [
    "import sklearn\n",
    "print(sklearn.__version__)"
   ]
  }
 ],
 "metadata": {
  "colab": {
   "collapsed_sections": [],
   "name": "ch04_03_algorithm.ipynb",
   "provenance": []
  },
  "kernelspec": {
   "display_name": "Python 3",
   "language": "python",
   "name": "python3"
  },
  "language_info": {
   "codemirror_mode": {
    "name": "ipython",
    "version": 3
   },
   "file_extension": ".py",
   "mimetype": "text/x-python",
   "name": "python",
   "nbconvert_exporter": "python",
   "pygments_lexer": "ipython3",
   "version": "3.7.10"
  }
 },
 "nbformat": 4,
 "nbformat_minor": 1
}
