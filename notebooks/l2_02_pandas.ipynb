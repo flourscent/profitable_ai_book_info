{
 "cells": [
  {
   "cell_type": "markdown",
   "metadata": {
    "colab_type": "text",
    "id": "4gGRZm4npjrz"
   },
   "source": [
    "## 부록 2.2 판다스 입문"
   ]
  },
  {
   "cell_type": "markdown",
   "metadata": {
    "colab_type": "text",
    "id": "nHmayxj0pjr0"
   },
   "source": [
    "### 데이터프레임 정의하기"
   ]
  },
  {
   "cell_type": "markdown",
   "metadata": {
    "colab_type": "text",
    "id": "C_lVnAsOpjr0"
   },
   "source": [
    "#### 라이브러리 임포트"
   ]
  },
  {
   "cell_type": "code",
   "execution_count": null,
   "metadata": {
    "colab": {},
    "colab_type": "code",
    "id": "BCjiKeO2pjr1"
   },
   "outputs": [],
   "source": [
    "# 라이브러리 임포트\n",
    "\n",
    "# 넘파이 라이브러리\n",
    "import numpy as np\n",
    "\n",
    "# 판다스 라이브러리\n",
    "import pandas as pd\n",
    "\n",
    "# 데이터프레임 출력용 함수\n",
    "from IPython.display import display\n",
    "\n",
    "# 데이터프레임 수치 출력 정밀도 설정\n",
    "pd.options.display.float_format = '{:.4f}'.format\n",
    "\n",
    "# 데이터프레임의 모든 필드를 출력 대상으로\n",
    "pd.set_option(\"display.max_columns\",None)"
   ]
  },
  {
   "cell_type": "markdown",
   "metadata": {
    "colab_type": "text",
    "id": "RV7cWulfpjr4"
   },
   "source": [
    "#### 데이터프레임 정의하기"
   ]
  },
  {
   "cell_type": "code",
   "execution_count": null,
   "metadata": {
    "colab": {
     "base_uri": "https://localhost:8080/",
     "height": 105
    },
    "colab_type": "code",
    "id": "wa5sQtBFpjr4",
    "outputId": "2ae58aa7-76ad-457d-dfa9-e3e64994104b"
   },
   "outputs": [],
   "source": [
    "# 넘파이 2차원 배열 정의\n",
    "b = np.array([[1, 2, 1], [4, 5, 2], [7, 8, 2],\n",
    "    [10,np.nan, 1], [13, 10, 2]])\n",
    "\n",
    "# 결과 확인\n",
    "print(b)"
   ]
  },
  {
   "cell_type": "code",
   "execution_count": null,
   "metadata": {
    "colab": {
     "base_uri": "https://localhost:8080/",
     "height": 213
    },
    "colab_type": "code",
    "id": "7kLfGAL4pjr7",
    "outputId": "89fbd29a-27d6-4237-a45d-a9b601265f8e"
   },
   "outputs": [],
   "source": [
    "# 데이터프레임 정의\n",
    "df = pd.DataFrame(b, columns=['col_a', 'col_b', 'col_c'])\n",
    "\n",
    "# 타입 출력\n",
    "print(type(df))\n",
    "\n",
    "# display 함수로 내용 출력\n",
    "display(df)"
   ]
  },
  {
   "cell_type": "code",
   "execution_count": null,
   "metadata": {
    "colab": {
     "base_uri": "https://localhost:8080/",
     "height": 158
    },
    "colab_type": "code",
    "id": "O31fAJwFpjr9",
    "outputId": "7eddf1a4-9329-4e62-9fd4-cadf859ca721"
   },
   "outputs": [],
   "source": [
    "# 데이터프레임의 각 부분의 내용을 출력\n",
    "\n",
    "# 칼럼명\n",
    "print('칼럼명', df.columns)\n",
    "\n",
    "print('행번호', df.index)\n",
    "\n",
    "# 데이터 내용\n",
    "print('데이터 내용\\n', df.values)"
   ]
  },
  {
   "cell_type": "markdown",
   "metadata": {
    "colab_type": "text",
    "id": "_WkiLAW-pjsA"
   },
   "source": [
    "### 파일에서 데이터 읽어 들이기"
   ]
  },
  {
   "cell_type": "markdown",
   "metadata": {
    "colab_type": "text",
    "id": "CUqqUdBWpjsA"
   },
   "source": [
    "#### CSV 파일에서 데이터 읽어 들이기"
   ]
  },
  {
   "cell_type": "code",
   "execution_count": null,
   "metadata": {
    "colab": {
     "base_uri": "https://localhost:8080/",
     "height": 195
    },
    "colab_type": "code",
    "id": "ZVyNK5m_pjsA",
    "outputId": "696b8305-17d2-411c-c3cc-795ba8e73f8b"
   },
   "outputs": [],
   "source": [
    "# CSV 파일에서 데이터 읽어 들이기\n",
    "\n",
    "# 대상 파일의 URL\n",
    "csv_url = 'https://github.com/makaishi2/sample-data\\\n",
    "/raw/d2b5d7e7c3444d995a1fed5bdadf703709946c75/data/df-sample.csv'\n",
    "\n",
    "# 데이터 읽어 들이기\n",
    "df_csv = pd.read_csv(csv_url)\n",
    "\n",
    "# 결과 확인\n",
    "display(df_csv)"
   ]
  },
  {
   "cell_type": "code",
   "execution_count": null,
   "metadata": {
    "colab": {
     "base_uri": "https://localhost:8080/",
     "height": 195
    },
    "colab_type": "code",
    "id": "C5nwfcNtpjsD",
    "outputId": "5be25bc9-bb80-48da-efa8-fdaecdb0ae43"
   },
   "outputs": [],
   "source": [
    "# 파일을 읽어 들인 후 필드명 재정의\n",
    "columns = ['A칼럼', 'B칼럼', 'C칼럼']\n",
    "df_csv.columns = columns\n",
    "\n",
    "# 결과 확인\n",
    "display(df_csv)"
   ]
  },
  {
   "cell_type": "markdown",
   "metadata": {
    "colab_type": "text",
    "id": "QDaMz8DXpjsF"
   },
   "source": [
    "#### 엑셀 파일로부터 데이터 읽어 들이기"
   ]
  },
  {
   "cell_type": "code",
   "execution_count": null,
   "metadata": {
    "colab": {
     "base_uri": "https://localhost:8080/",
     "height": 195
    },
    "colab_type": "code",
    "id": "eOgg3IOopjsG",
    "outputId": "4eb511e4-86bd-4edd-db26-eb5ede817fb6"
   },
   "outputs": [],
   "source": [
    "# 엑셀 파일로부터 데이터 읽어 들이기\n",
    "\n",
    "# 대상 파일의 URL\n",
    "excel_url = 'https://github.com/makaishi2/sample-data\\\n",
    "/raw/d2b5d7e7c3444d995a1fed5bdadf703709946c75/data/df-sample.xlsx'\n",
    "\n",
    "# 데이터 읽어 들이기\n",
    "df_excel = pd.read_excel(excel_url)\n",
    "\n",
    "# 결과 확인\n",
    "display(df_excel)"
   ]
  },
  {
   "cell_type": "markdown",
   "metadata": {
    "colab_type": "text",
    "id": "tnI4IsGHpjsI"
   },
   "source": [
    "### 시리즈 정의하기"
   ]
  },
  {
   "cell_type": "code",
   "execution_count": null,
   "metadata": {
    "colab": {
     "base_uri": "https://localhost:8080/",
     "height": 34
    },
    "colab_type": "code",
    "id": "nyDX6ISlpjsI",
    "outputId": "dfcd7788-aed8-443d-9143-d9ba4f382622"
   },
   "outputs": [],
   "source": [
    "# 1차원 넘파이 배열 정의\n",
    "a = np.array(['male', 'male', 'female', 'male', 'female'])\n",
    "\n",
    "# 결과 확인\n",
    "print(a)"
   ]
  },
  {
   "cell_type": "code",
   "execution_count": null,
   "metadata": {
    "colab": {
     "base_uri": "https://localhost:8080/",
     "height": 140
    },
    "colab_type": "code",
    "id": "h3QNSutjpjsK",
    "outputId": "0397d015-e7e3-4101-b2db-dad984679727"
   },
   "outputs": [],
   "source": [
    "# 시리즈 정의하기\n",
    "ser = pd.Series(a, name='col_d')\n",
    "\n",
    "print(type(ser))\n",
    "\n",
    "print(ser)"
   ]
  },
  {
   "cell_type": "code",
   "execution_count": null,
   "metadata": {
    "colab": {
     "base_uri": "https://localhost:8080/",
     "height": 140
    },
    "colab_type": "code",
    "id": "flUQQ12XpjsO",
    "outputId": "9137a506-6dda-4501-aded-5fd9f26d9118"
   },
   "outputs": [],
   "source": [
    "# 데이터프레임으로부터 시리즈 생성하기\n",
    "ser2 = df['col_b']\n",
    "\n",
    "print(type(ser2))\n",
    "\n",
    "print(ser2)"
   ]
  },
  {
   "cell_type": "markdown",
   "metadata": {
    "colab_type": "text",
    "id": "9doo0P4HpjsQ"
   },
   "source": [
    "### 데이터프레임과 넘파이 배열의 관계"
   ]
  },
  {
   "cell_type": "code",
   "execution_count": null,
   "metadata": {
    "colab": {},
    "colab_type": "code",
    "id": "gAWFPi9xpjsQ"
   },
   "outputs": [],
   "source": [
    "# 데이터프레임과 넘파이 2차원 배열의 관계\n",
    "\n",
    "# 데이터프레임에서 2차원 넘파이 배열을 꺼내기\n",
    "ar = df.values\n",
    "\n",
    "# 2차원 넘파이 배열로 데이터프레임을 생성하기\n",
    "df0 = pd.DataFrame(ar)"
   ]
  },
  {
   "cell_type": "code",
   "execution_count": null,
   "metadata": {
    "colab": {
     "base_uri": "https://localhost:8080/",
     "height": 52
    },
    "colab_type": "code",
    "id": "3El54oZ2pjsS",
    "outputId": "dd5a7d92-bdb6-47be-8553-cf719f72fed7"
   },
   "outputs": [],
   "source": [
    "# 데이터프레임의 shape 속성과 len 함수\n",
    "# shape 속성과 len 함수는\n",
    "# 내부 넘파이 객체의 반환 값을 그대로 반환한다\n",
    "\n",
    "print(df.shape)\n",
    "print(len(df))"
   ]
  },
  {
   "cell_type": "markdown",
   "metadata": {
    "colab_type": "text",
    "id": "Z2I02NLHpjsU"
   },
   "source": [
    "### 데이터프레임의 부분참조"
   ]
  },
  {
   "cell_type": "code",
   "execution_count": null,
   "metadata": {
    "colab": {
     "base_uri": "https://localhost:8080/",
     "height": 195
    },
    "colab_type": "code",
    "id": "6kmPCl_OpjsV",
    "outputId": "42c325a2-415d-4220-96ea-487cfe02ac9e"
   },
   "outputs": [],
   "source": [
    "# 칼럼 리스트로 데이터의 일부를 추출\n",
    "\n",
    "cols = ['col_a', 'col_c']\n",
    "df2 = df[cols]\n",
    "\n",
    "display(df2)"
   ]
  },
  {
   "cell_type": "code",
   "execution_count": null,
   "metadata": {
    "colab": {
     "base_uri": "https://localhost:8080/",
     "height": 34
    },
    "colab_type": "code",
    "id": "BNHw9Zt3pjsX",
    "outputId": "612c5969-ee21-4ac7-91ba-59dfeeab4dab"
   },
   "outputs": [],
   "source": [
    "# 데이터프레임의 특정 칼럼을 넘파이 배열로 추출\n",
    "\n",
    "y = df['col_a'].values\n",
    "print(y)"
   ]
  },
  {
   "cell_type": "code",
   "execution_count": null,
   "metadata": {
    "colab": {
     "base_uri": "https://localhost:8080/",
     "height": 106
    },
    "colab_type": "code",
    "id": "jxBTDAW9pjsZ",
    "outputId": "3a32d6a4-f8e4-45ec-e0b1-3d8a4e67c6e7"
   },
   "outputs": [],
   "source": [
    "# head 함수로 행 단위 데이터 추출\n",
    "display(df.head(2))"
   ]
  },
  {
   "cell_type": "code",
   "execution_count": null,
   "metadata": {
    "colab": {
     "base_uri": "https://localhost:8080/",
     "height": 106
    },
    "colab_type": "code",
    "id": "IJXtg23ppjsa",
    "outputId": "45fdacc4-4afb-486c-9ecf-9396a1485dfd"
   },
   "outputs": [],
   "source": [
    "# 행의 범위를 숫자로 지정하기\n",
    "display(df[0:2])"
   ]
  },
  {
   "cell_type": "markdown",
   "metadata": {
    "colab_type": "text",
    "id": "doL6EuABpjsd"
   },
   "source": [
    "#### 인덱스 배열을 이용한 행 선택"
   ]
  },
  {
   "cell_type": "code",
   "execution_count": null,
   "metadata": {
    "colab": {
     "base_uri": "https://localhost:8080/",
     "height": 0
    },
    "colab_type": "code",
    "id": "Nsi0FrY0pjsd",
    "outputId": "f7678e8a-cac5-49b0-db01-ec4f64e0e01d"
   },
   "outputs": [],
   "source": [
    "# idx: col_a 칼럼값의 홀수 여부\n",
    "idx = (df['col_a'] % 2 == 1)\n",
    "print(idx)"
   ]
  },
  {
   "cell_type": "code",
   "execution_count": null,
   "metadata": {
    "colab": {
     "base_uri": "https://localhost:8080/",
     "height": 0
    },
    "colab_type": "code",
    "id": "ksLK66I_pjsf",
    "outputId": "055a7e40-0912-4991-97d3-4f09b007107a"
   },
   "outputs": [],
   "source": [
    "# idx를 이용해 행을 선택\n",
    "df3 = df[idx]\n",
    "display(df3)"
   ]
  },
  {
   "cell_type": "code",
   "execution_count": null,
   "metadata": {
    "colab": {
     "base_uri": "https://localhost:8080/",
     "height": 0
    },
    "colab_type": "code",
    "id": "B34XDo-ppjsh",
    "outputId": "7d9ae948-ac0b-4888-c141-3f1e7b82eb12"
   },
   "outputs": [],
   "source": [
    "# 위의 내용을 한줄로\n",
    "df4 = df[df['col_a'] % 2 == 1]\n",
    "display(df4)"
   ]
  },
  {
   "cell_type": "markdown",
   "metadata": {
    "colab_type": "text",
    "id": "hkK4n6FNpjsi"
   },
   "source": [
    "### 데이터프레임의 칼럼 추가 및 삭제"
   ]
  },
  {
   "cell_type": "code",
   "execution_count": null,
   "metadata": {
    "colab": {
     "base_uri": "https://localhost:8080/",
     "height": 195
    },
    "colab_type": "code",
    "id": "AkyQQOwJpjsj",
    "outputId": "fb91f9aa-ac68-45b5-8b33-d3bc2102c3f5"
   },
   "outputs": [],
   "source": [
    "# 칼럼 삭제\n",
    "df5 = df.drop('col_a', axis=1)\n",
    "display(df5)"
   ]
  },
  {
   "cell_type": "code",
   "execution_count": null,
   "metadata": {
    "colab": {
     "base_uri": "https://localhost:8080/",
     "height": 166
    },
    "colab_type": "code",
    "id": "Gu-H_m_ppjsk",
    "outputId": "83a32519-3ba3-4b36-e36e-3fae108ff950"
   },
   "outputs": [],
   "source": [
    "# 누락 값을 포함한 행을 삭제\n",
    "df6 = df.dropna(subset = ['col_b'])\n",
    "display(df6)"
   ]
  },
  {
   "cell_type": "code",
   "execution_count": null,
   "metadata": {
    "colab": {
     "base_uri": "https://localhost:8080/",
     "height": 195
    },
    "colab_type": "code",
    "id": "jD4SaDAXpjsm",
    "outputId": "dd3a1b9b-c125-412d-91fd-20eb1d01d9e9"
   },
   "outputs": [],
   "source": [
    "# 데이터프레임 연접하기 (열방향)\n",
    "df7 = pd.concat([df, ser], axis=1)\n",
    "display(df7)"
   ]
  },
  {
   "cell_type": "markdown",
   "metadata": {
    "colab_type": "text",
    "id": "pxA4rs3ppjso"
   },
   "source": [
    "### 데이터프레임 함수"
   ]
  },
  {
   "cell_type": "code",
   "execution_count": null,
   "metadata": {
    "colab": {
     "base_uri": "https://localhost:8080/",
     "height": 34
    },
    "colab_type": "code",
    "id": "O5IuS-4zpjso",
    "outputId": "5454900d-d476-423b-9ce5-c4292eea6deb"
   },
   "outputs": [],
   "source": [
    "# 특정 칼럼을 대상으로 통계 함수 호출\n",
    "a_mean = df['col_a'].mean()\n",
    "a_max = df['col_a'].max()\n",
    "a_min = df['col_a'].min()\n",
    "\n",
    "print(f'평균: {a_mean}  최대:{a_max}  최소:{a_min}')"
   ]
  },
  {
   "cell_type": "code",
   "execution_count": null,
   "metadata": {
    "colab": {
     "base_uri": "https://localhost:8080/",
     "height": 87
    },
    "colab_type": "code",
    "id": "hj0Pw3vDpjsq",
    "outputId": "c3fc7fe1-89f1-4fa2-a87b-3d722072deb5"
   },
   "outputs": [],
   "source": [
    "# 데이터프레임 전체를 대상으로 mean 함수를 호출\n",
    "print(df.mean())"
   ]
  },
  {
   "cell_type": "code",
   "execution_count": null,
   "metadata": {
    "colab": {
     "base_uri": "https://localhost:8080/",
     "height": 284
    },
    "colab_type": "code",
    "id": "pIOx75jgpjss",
    "outputId": "8118e35d-aae6-4cec-9c4f-b019579cecab"
   },
   "outputs": [],
   "source": [
    "# 필드 단위 통계 정보 구하기\n",
    "display(df.describe())"
   ]
  },
  {
   "cell_type": "code",
   "execution_count": null,
   "metadata": {
    "colab": {
     "base_uri": "https://localhost:8080/",
     "height": 70
    },
    "colab_type": "code",
    "id": "z_WqUo8ypjsu",
    "outputId": "9347da88-1d42-4d71-9282-789c2e6ad994"
   },
   "outputs": [],
   "source": [
    "# 필드 값의 개수 집계하기\n",
    "df7['col_d'].value_counts()"
   ]
  },
  {
   "cell_type": "code",
   "execution_count": null,
   "metadata": {
    "colab": {
     "base_uri": "https://localhost:8080/",
     "height": 195
    },
    "colab_type": "code",
    "id": "qIZCjCpdpjsv",
    "outputId": "e3db5314-619a-480a-d130-64f5f0e989c1"
   },
   "outputs": [],
   "source": [
    "# 누락 값 체크하기\n",
    "display(df.isnull())"
   ]
  },
  {
   "cell_type": "code",
   "execution_count": null,
   "metadata": {
    "colab": {
     "base_uri": "https://localhost:8080/",
     "height": 87
    },
    "colab_type": "code",
    "id": "g3MXLN-ppjsx",
    "outputId": "21b2f118-98d7-4dfd-ea1d-ab2bab46c0c1"
   },
   "outputs": [],
   "source": [
    "# 칼럼 단위로 누락 값 수를 집계\n",
    "print(df.isnull().sum())"
   ]
  },
  {
   "cell_type": "markdown",
   "metadata": {
    "colab_type": "text",
    "id": "N6rKT_H9pjsz"
   },
   "source": [
    "### groupby 함수"
   ]
  },
  {
   "cell_type": "code",
   "execution_count": null,
   "metadata": {
    "colab": {
     "base_uri": "https://localhost:8080/",
     "height": 136
    },
    "colab_type": "code",
    "id": "vRU_a1vrpjs0",
    "outputId": "3b1d4853-7687-4e00-ad69-5095698cf283"
   },
   "outputs": [],
   "source": [
    "# groupby 함수로 col_d의 값에 따른 통곗값을 계산\n",
    "df8 = df7.groupby('col_d').mean()\n",
    "display(df8)"
   ]
  },
  {
   "cell_type": "markdown",
   "metadata": {
    "colab_type": "text",
    "id": "k8oOfxKmpjs1"
   },
   "source": [
    "### map 함수"
   ]
  },
  {
   "cell_type": "code",
   "execution_count": null,
   "metadata": {
    "colab": {
     "base_uri": "https://localhost:8080/",
     "height": 195
    },
    "colab_type": "code",
    "id": "WDr7C0ZTpjs2",
    "outputId": "9993e6f7-a465-4e11-fee8-ae8b397df150"
   },
   "outputs": [],
   "source": [
    "# map 함수를 사용해 레이블값을 1/0으로 치환하기\n",
    "df9 = df7.copy()\n",
    "mf_map = {'male': 1, 'female': 0}\n",
    "df9['col_d'] = df9['col_d'].map(mf_map)\n",
    "display(df9)"
   ]
  }
 ],
 "metadata": {
  "colab": {
   "name": "a2_02_pandas.ipynb",
   "provenance": []
  },
  "kernelspec": {
   "display_name": "Python 3",
   "language": "python",
   "name": "python3"
  },
  "language_info": {
   "codemirror_mode": {
    "name": "ipython",
    "version": 3
   },
   "file_extension": ".py",
   "mimetype": "text/x-python",
   "name": "python",
   "nbconvert_exporter": "python",
   "pygments_lexer": "ipython3",
   "version": "3.7.10"
  }
 },
 "nbformat": 4,
 "nbformat_minor": 1
}
