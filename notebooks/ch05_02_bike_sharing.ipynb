{
 "cells": [
  {
   "cell_type": "markdown",
   "metadata": {
    "colab_type": "text",
    "id": "W7toKJ7wQX07"
   },
   "source": [
    "## 5.2 날씨를 이용한 매출 예측 (회귀)"
   ]
  },
  {
   "cell_type": "markdown",
   "metadata": {
    "colab_type": "text",
    "id": "tWA8zM_4QX08"
   },
   "source": [
    "### 공통 전처리"
   ]
  },
  {
   "cell_type": "code",
   "execution_count": null,
   "metadata": {
    "colab": {},
    "colab_type": "code",
    "id": "F3-ACoCCQX1A"
   },
   "outputs": [],
   "source": [
    "# 공통 처리\n",
    "\n",
    "# 불필요한 경고 메시지 무시\n",
    "import warnings\n",
    "warnings.filterwarnings('ignore')\n",
    "\n",
    "# 라이브러리 임포트\n",
    "import pandas as pd\n",
    "import numpy as np\n",
    "import matplotlib.pyplot as plt\n",
    "\n",
    "# 한글 글꼴 설정\n",
    "import platform\n",
    "\n",
    "if platform.system() == 'Windows':\n",
    "    plt.rc('font', family='Malgun Gothic')\n",
    "elif platform.system() == 'Darwin':\n",
    "    plt.rc('font', family='Apple Gothic')\n",
    "\n",
    "# 데이터프레임 출력용 함수\n",
    "from IPython.display import display\n",
    "\n",
    "# 숫자 출력 조정\n",
    "# 넘파이 부동소수점 출력 자리수 설정\n",
    "np.set_printoptions(suppress=True, precision=4)\n",
    "\n",
    "# 판다스 부동소수점 출력 자리수 설정\n",
    "pd.options.display.float_format = '{:.4f}'.format\n",
    "\n",
    "# 데이터프레임 모든 필드 출력\n",
    "pd.set_option(\"display.max_columns\",None)\n",
    "\n",
    "# 그래프 글꼴 크기 설정\n",
    "plt.rcParams[\"font.size\"] = 14\n",
    "\n",
    "# 난수 시드\n",
    "random_seed = 123"
   ]
  },
  {
   "cell_type": "markdown",
   "metadata": {
    "colab_type": "text",
    "id": "A0XDeacoQX1C"
   },
   "source": [
    "데이터 집합 배포 페이지 URL   \n",
    "https://archive.ics.uci.edu/ml/datasets/bike+sharing+dataset"
   ]
  },
  {
   "cell_type": "markdown",
   "metadata": {
    "colab_type": "text",
    "id": "OZRHKSIdQX1D"
   },
   "source": [
    "#### 데이터 필드 정보\n",
    "\n",
    "instant 인덱스 \n",
    "dteday 날짜(yy-mm-dd)  \n",
    "season 계절 (1: 겨울 2: 봄 3: 여름 4: 가을)  \n",
    "yr 연도 (0: 2011, 1:2012)  \n",
    "mnth 월  (1 - 12)  \n",
    "hr 시간  (0 - 23)  \n",
    "holiday 휴일  \n",
    "weekday 요일 (0 - 6)  \n",
    "workingday  근무일 (1: 근무일 0: 휴일)  \n",
    "weathersit 날씨 (1: 맑은뒤흐림 2: 안개 3: 약한비 4: 강한비)  \n",
    "temp 기온 (정규화됨)  \n",
    "atemp 체감기온 (정규화됨)  \n",
    "hum 습도 (정규화됨)  \n",
    "windspeed 풍속 (정규화됨)  \n",
    "casual 비가입유저 이용수  \n",
    "registered 가입유저 이용수  \n",
    "cnt 전체유저 이용수  "
   ]
  },
  {
   "cell_type": "markdown",
   "metadata": {
    "colab_type": "text",
    "id": "aZqGa_O1QX1D"
   },
   "source": [
    "### 5.2.4 데이터 읽어 들이기부터 데이터 확인까지"
   ]
  },
  {
   "cell_type": "markdown",
   "metadata": {
    "colab_type": "text",
    "id": "9Rhq446bQX1E"
   },
   "source": [
    "#### 데이터 읽어 들이기"
   ]
  },
  {
   "cell_type": "code",
   "execution_count": null,
   "metadata": {
    "colab": {},
    "colab_type": "code",
    "id": "Q2d-PkeYQX1E"
   },
   "outputs": [],
   "source": [
    "## 역자 주: wget, tail 명령에서 오류가 발생할 경우\n",
    "# 데이터 집합 URL에서 파일을 직접 내려받아\n",
    "# notebooks 디렉토리에 압축을 해제하고 진행하면 됩니다.\n",
    "\n",
    "# 데이터 집합 배포 페이지 URL\n",
    "url = 'https://archive.ics.uci.edu/ml/\\\n",
    "machine-learning-databases/00275/\\\n",
    "Bike-Sharing-Dataset.zip'\n",
    "\n",
    "# 데이터를 내려받아 압축해제\n",
    "!wget $url -O Bike-Sharing-Dataset.zip | tail -n 1\n",
    "!unzip -o Bike-Sharing-Dataset.zip | tail -n 1"
   ]
  },
  {
   "cell_type": "code",
   "execution_count": null,
   "metadata": {
    "colab": {},
    "colab_type": "code",
    "id": "hJrvgZSgQX1G"
   },
   "outputs": [],
   "source": [
    "# 데이터 상태 확인\n",
    "!head -5 day.csv"
   ]
  },
  {
   "cell_type": "code",
   "execution_count": null,
   "metadata": {
    "colab": {},
    "colab_type": "code",
    "id": "FuX-Q-BqQX1I"
   },
   "outputs": [],
   "source": [
    "# day.csv를 데이터프레임으로 변환\n",
    "# parse_dates에 날짜 칼럼을 지정한다\n",
    "df = pd.read_csv('day.csv', parse_dates=[1])\n",
    "\n",
    "# 데이터 속성 확인\n",
    "print(df.dtypes)"
   ]
  },
  {
   "cell_type": "code",
   "execution_count": null,
   "metadata": {
    "colab": {},
    "colab_type": "code",
    "id": "qy60y8Y0QX1L"
   },
   "outputs": [],
   "source": [
    "# instant 필드는 일련번호이므로 제거한다\n",
    "df = df.drop('instant', axis=1)\n",
    "\n",
    "# 우리말 필드명 정의\n",
    "\n",
    "columns = [\n",
    "    '날짜', '계절', '연도', '월', '휴일', '요일', '근무일', '날씨', \n",
    "    '온도', '체감온도', '습도', '풍속', \n",
    "    '비가입유저_이용수', '가입유저_이용수', '전체유저_이용수'\n",
    "]\n",
    "\n",
    "# 필드명을 우리말 필드명으로 변경\n",
    "df.columns = columns"
   ]
  },
  {
   "cell_type": "markdown",
   "metadata": {
    "colab_type": "text",
    "id": "zsTmo2rQQX1N"
   },
   "source": [
    "#### 데이터 확인"
   ]
  },
  {
   "cell_type": "code",
   "execution_count": null,
   "metadata": {
    "colab": {},
    "colab_type": "code",
    "id": "0LxwHpORQX1N"
   },
   "outputs": [],
   "source": [
    "# 처음 다섯 줄을 화면에 출력\n",
    "display(df.head())\n",
    "\n",
    "# 마지막 다섯 줄을 화면에 출력\n",
    "display(df.tail())"
   ]
  },
  {
   "cell_type": "code",
   "execution_count": null,
   "metadata": {
    "colab": {},
    "colab_type": "code",
    "id": "Xj1KcQLtQX1Q"
   },
   "outputs": [],
   "source": [
    "# 히스토그램 그리기\n",
    "\n",
    "# 그래프 크기 조정\n",
    "from pylab import rcParams\n",
    "rcParams['figure.figsize'] = (12, 12)\n",
    "\n",
    "# 데이터프레임 숫자 값 필드의 히스토그램 그리기\n",
    "df.hist(bins=20)\n",
    "plt.tight_layout()\n",
    "plt.show()"
   ]
  },
  {
   "cell_type": "code",
   "execution_count": null,
   "metadata": {
    "colab": {},
    "colab_type": "code",
    "id": "dN3hdcdNQX1S"
   },
   "outputs": [],
   "source": [
    "# 누락 값 확인하기\n",
    "df.isnull().sum()"
   ]
  },
  {
   "cell_type": "markdown",
   "metadata": {
    "colab_type": "text",
    "id": "if09vDCfQX1U"
   },
   "source": [
    "#### 시계열 데이터의 그래프 그리기"
   ]
  },
  {
   "cell_type": "code",
   "execution_count": null,
   "metadata": {
    "colab": {},
    "colab_type": "code",
    "id": "v9AduZkVQX1U"
   },
   "outputs": [],
   "source": [
    "# 시계열 데이터(가입유저 이용수) 그래프로 그리기\n",
    "plt.figure(figsize=(12,4))\n",
    "\n",
    "# 그래프 그리기\n",
    "plt.plot(df['날짜'],df['가입유저_이용수'],c='b')\n",
    "\n",
    "# 그리드 그리기\n",
    "plt.grid()\n",
    "plt.title('가입유저_이용수')\n",
    "\n",
    "# 그래프 출력\n",
    "plt.show()"
   ]
  },
  {
   "cell_type": "markdown",
   "metadata": {
    "colab_type": "text",
    "id": "mgKX4STvQX1X"
   },
   "source": [
    "### 5.2.5 데이터 전처리와 데이터 분할"
   ]
  },
  {
   "cell_type": "markdown",
   "metadata": {
    "colab_type": "text",
    "id": "p4VaqJ_vQX1X"
   },
   "source": [
    "#### 데이터 전처리\n",
    "(특별한 전처리 없음)"
   ]
  },
  {
   "cell_type": "markdown",
   "metadata": {
    "colab_type": "text",
    "id": "w9ZNTRl_QX1X"
   },
   "source": [
    "#### 데이터 분할\n",
    "\n",
    "방법\n",
    "* '가입유저_이용수'를 목적변수 y로 삼음\n",
    "* '전체유저_이용수', '비가입유저_이용수'는 대상에서 제외\n",
    "* 날짜 역시 입력변수로는 불필요하므로 제외\n",
    "* 시간축 범위는 2012-11-01 이전 분을 학습 데이터, 이후 분을 검증 데이터로 삼음"
   ]
  },
  {
   "cell_type": "code",
   "execution_count": null,
   "metadata": {
    "colab": {},
    "colab_type": "code",
    "id": "UsBb8b19QX1Y"
   },
   "outputs": [],
   "source": [
    "# x와 y로 데이터를 분할\n",
    "x = df.drop(['날짜', '비가입유저_이용수', '가입유저_이용수',\n",
    "    '전체유저_이용수'], axis=1)\n",
    "y = df['가입유저_이용수'].values"
   ]
  },
  {
   "cell_type": "code",
   "execution_count": null,
   "metadata": {
    "colab": {},
    "colab_type": "code",
    "id": "SDmM7ra3QX1a"
   },
   "outputs": [],
   "source": [
    "# 분할 기준 날짜 mday\n",
    "mday = pd.to_datetime('2012-11-1')\n",
    "\n",
    "# 학습용 데이터의 index와 검증용 데이터의 index를 생성\n",
    "train_index = df['날짜'] < mday\n",
    "test_index = df['날짜'] >= mday\n",
    "\n",
    "# 입력 데이터 분할\n",
    "x_train = x[train_index]\n",
    "x_test = x[test_index]\n",
    "\n",
    "# 정답 데이터 분할\n",
    "y_train = y[train_index]\n",
    "y_test = y[test_index]\n",
    "\n",
    "# 날짜 데이터 분할(그래프 출력용)\n",
    "dates_test = df['날짜'][test_index]"
   ]
  },
  {
   "cell_type": "code",
   "execution_count": null,
   "metadata": {
    "colab": {},
    "colab_type": "code",
    "id": "bu0aAIWjQX1c"
   },
   "outputs": [],
   "source": [
    "# 분할 결과 확인(모양 확인)\n",
    "print(x_train.shape)\n",
    "print(x_test.shape)\n",
    "\n",
    "# 분할 결과 확인(기준값을 중심으로)\n",
    "display(x_train.tail())\n",
    "display(x_test.head())"
   ]
  },
  {
   "cell_type": "code",
   "execution_count": null,
   "metadata": {
    "colab": {},
    "colab_type": "code",
    "id": "swSBXUKaQX1f"
   },
   "outputs": [],
   "source": [
    "# 목적변수 분할결과 확인\n",
    "print(y_train[:10])"
   ]
  },
  {
   "cell_type": "markdown",
   "metadata": {
    "colab_type": "text",
    "id": "Q2-s3VofQX1h"
   },
   "source": [
    "### 5.2.6 알고리즘 선택하기"
   ]
  },
  {
   "cell_type": "markdown",
   "metadata": {
    "colab_type": "text",
    "id": "mXWWTis8QX1h"
   },
   "source": [
    "#### 알고리즘 선택하기"
   ]
  },
  {
   "cell_type": "code",
   "execution_count": null,
   "metadata": {
    "colab": {},
    "colab_type": "code",
    "id": "LKwpKOCzQX1h"
   },
   "outputs": [],
   "source": [
    "# 알고리즘 선택하기 (XGBRegressor)\n",
    "from xgboost import XGBRegressor\n",
    "algorithm = XGBRegressor(objective ='reg:squarederror',\n",
    "    random_state=random_seed)"
   ]
  },
  {
   "cell_type": "markdown",
   "metadata": {
    "colab_type": "text",
    "id": "Fv2WOvE-QX1k"
   },
   "source": [
    "### 5.2.7 학습 및 예측"
   ]
  },
  {
   "cell_type": "code",
   "execution_count": null,
   "metadata": {
    "colab": {},
    "colab_type": "code",
    "id": "ljWoyusUQX1k"
   },
   "outputs": [],
   "source": [
    "# 가입유저_이용수 예측 모델의 학습 및 예측\n",
    "\n",
    "# 학습\n",
    "algorithm.fit(x_train, y_train)\n",
    "\n",
    "# 예측\n",
    "y_pred = algorithm.predict(x_test)\n",
    "\n",
    "# 예측 결과 확인\n",
    "print(y_pred[:5])"
   ]
  },
  {
   "cell_type": "markdown",
   "metadata": {
    "colab_type": "text",
    "id": "5C-CqH-OQX1m"
   },
   "source": [
    "### 5.2.8 평가"
   ]
  },
  {
   "cell_type": "code",
   "execution_count": null,
   "metadata": {
    "colab": {},
    "colab_type": "code",
    "id": "9u8JV-i0QX1m"
   },
   "outputs": [],
   "source": [
    "# 평가(가입유저_이용수)\n",
    "\n",
    "# score 함수를 호출\n",
    "score = algorithm.score(x_test, y_test)\n",
    "\n",
    "# R2값 계산\n",
    "from sklearn.metrics import r2_score\n",
    "r2_score = r2_score(y_test, y_pred)\n",
    "\n",
    "# 결과 확인\n",
    "print(f'score: {score:.4f}  r2_score: {r2_score:.4f}')"
   ]
  },
  {
   "cell_type": "code",
   "execution_count": null,
   "metadata": {
    "colab": {},
    "colab_type": "code",
    "id": "uyoX2BnRQX1o"
   },
   "outputs": [],
   "source": [
    "# 정답 데이터와 예측 결과의 산점도 그리기(가입유저_이용수)\n",
    "plt.figure(figsize=(6,6))\n",
    "y_max = y_test.max()\n",
    "plt.plot((0,y_max), (0, y_max), c='k')\n",
    "plt.scatter(y_test, y_pred, c='b')\n",
    "plt.title(f'정답 데이터와 예측 결과의 산점도(가입유저_이용수)\\\n",
    "  R2={score:.4f}')\n",
    "plt.grid()\n",
    "plt.show()"
   ]
  },
  {
   "cell_type": "code",
   "execution_count": null,
   "metadata": {
    "colab": {},
    "colab_type": "code",
    "id": "9V6qZUSQQX1q"
   },
   "outputs": [],
   "source": [
    "# 시계열 그래프 그리기(가입유저_이용수)\n",
    "import matplotlib.dates as mdates\n",
    "fig, ax = plt.subplots(figsize=(8, 4))\n",
    "\n",
    "# 그래프 그리기\n",
    "ax.plot(dates_test, y_test, label='정답 데이터', c='k')\n",
    "ax.plot(dates_test, y_pred, label='예측 결과', c='b')\n",
    "\n",
    "# 날짜 눈금 그리기\n",
    "# 목요일을 기준으로 날짜 표시\n",
    "weeks = mdates.WeekdayLocator(byweekday=mdates.TH)\n",
    "ax.xaxis.set_major_locator(weeks)\n",
    "\n",
    "# 날짜 표기를 세로로\n",
    "ax.tick_params(axis='x', rotation=90)\n",
    "\n",
    "# 그리드 그리기\n",
    "ax.grid()\n",
    "ax.legend()\n",
    "ax.set_title('가입 유저 이용 수 예측')\n",
    "\n",
    "# 그래프 출력\n",
    "plt.show() "
   ]
  },
  {
   "cell_type": "markdown",
   "metadata": {
    "colab_type": "text",
    "id": "3uIRS13CQX1r"
   },
   "source": [
    "### 5.2.9 튜닝"
   ]
  },
  {
   "cell_type": "code",
   "execution_count": null,
   "metadata": {
    "colab": {},
    "colab_type": "code",
    "id": "GqNiYqusQX1s",
    "scrolled": true
   },
   "outputs": [],
   "source": [
    "# 필드에 원-핫 인코딩을 적용하는 함수\n",
    "def enc(df, column):\n",
    "    df_dummy = pd.get_dummies(df[column], prefix=column)\n",
    "    df = pd.concat([df.drop([column],axis=1),df_dummy],axis=1)\n",
    "    return df\n",
    "\n",
    "# '월', '계절' 필드에 원-핫 인코딩을 적용한다\n",
    "\n",
    "x2 = x.copy()\n",
    "x2 = enc(x2, '월')\n",
    "x2 = enc(x2, '계절')\n",
    "\n",
    "# 결과 확인\n",
    "display(x2.head())"
   ]
  },
  {
   "cell_type": "code",
   "execution_count": null,
   "metadata": {
    "colab": {},
    "colab_type": "code",
    "id": "RLLpeCxtQX1t"
   },
   "outputs": [],
   "source": [
    "# 가입 유저 모델(튜닝 후)\n",
    "\n",
    "# mday를 기준으로 입력 데이터를 분할\n",
    "x2_train = x2[train_index]\n",
    "x2_test = x2[test_index]\n",
    "\n",
    "#　알고리즘 선택\n",
    "algorithm2 = XGBRegressor(objective ='reg:squarederror',\n",
    "    random_state=random_seed)\n",
    "\n",
    "# 학습\n",
    "algorithm2.fit(x2_train, y_train)\n",
    "\n",
    "# 예측\n",
    "y_pred2 = algorithm2.predict(x2_test)\n",
    "\n",
    "# 예측 결과 확인\n",
    "print(y_pred2[:5])"
   ]
  },
  {
   "cell_type": "code",
   "execution_count": null,
   "metadata": {
    "colab": {},
    "colab_type": "code",
    "id": "rOdYliVLQX1v"
   },
   "outputs": [],
   "source": [
    "# 평가(가입 유저) (튜닝 후)\n",
    "\n",
    "# score 함수를 호출\n",
    "score2 = algorithm2.score(x2_test, y_test)\n",
    "\n",
    "# 결과 확인\n",
    "print(f'score: {score2:.4f}')"
   ]
  },
  {
   "cell_type": "code",
   "execution_count": null,
   "metadata": {
    "colab": {},
    "colab_type": "code",
    "id": "1Bg0SozuQX1x"
   },
   "outputs": [],
   "source": [
    "# 정답 데이터와 예측 결과를 산점도 비교(가입 유저)\n",
    "plt.figure(figsize=(6,6))\n",
    "y_max = y_test.max()\n",
    "plt.plot((0,y_max), (0, y_max), c='k')\n",
    "plt.scatter(y_test, y_pred2, c='b')\n",
    "plt.title(f'정답 데이터와 예측 결과의 산점도(가입 유저 이용수) R2={score2:.4f}')\n",
    "plt.grid()\n",
    "plt.show()"
   ]
  },
  {
   "cell_type": "code",
   "execution_count": null,
   "metadata": {
    "colab": {},
    "colab_type": "code",
    "id": "G3Qw1jISQX1z"
   },
   "outputs": [],
   "source": [
    "# 시계열 그래프 그리기(튜닝 후, 가입 유저 이용수)\n",
    "import matplotlib.dates as mdates\n",
    "fig, ax = plt.subplots(figsize=(8, 4))\n",
    "\n",
    "# 그래프 그리기\n",
    "ax.plot(dates_test, y_test, label='정답 데이터', c='k')\n",
    "ax.plot(dates_test, y_pred, label='예측 결과 1', c='c')\n",
    "ax.plot(dates_test, y_pred2, label='예측 결과 2', c='b')\n",
    "\n",
    "# 날짜눈금 간격\n",
    "weeks = mdates.WeekdayLocator(byweekday=mdates.TH)\n",
    "ax.xaxis.set_major_locator(weeks)\n",
    "\n",
    "# 날짜 형식\n",
    "ax.tick_params(axis='x', rotation=90)\n",
    "\n",
    "# 그리드 설정\n",
    "ax.grid()\n",
    "ax.legend()\n",
    "ax.set_title('가입 유저 이용수 예측')\n",
    "\n",
    "# 화면에 출력\n",
    "plt.show()"
   ]
  },
  {
   "cell_type": "markdown",
   "metadata": {
    "colab_type": "text",
    "id": "-xw0CiQwQX11"
   },
   "source": [
    "### 5.2.10 중요도 분석"
   ]
  },
  {
   "cell_type": "code",
   "execution_count": null,
   "metadata": {
    "colab": {},
    "colab_type": "code",
    "id": "7sXNO5ayQX11"
   },
   "outputs": [],
   "source": [
    "# 가입유저_이용수 예측에 대한 중요도 분석\n",
    "import xgboost as xgb\n",
    "fig, ax = plt.subplots(figsize=(8, 4))\n",
    "xgb.plot_importance(algorithm, ax=ax, height=0.8,\n",
    "    importance_type='gain', show_values=False,\n",
    "    title='중요도 분석(가입유저_이용수)')\n",
    "plt.show()"
   ]
  },
  {
   "cell_type": "code",
   "execution_count": null,
   "metadata": {
    "colab": {},
    "colab_type": "code",
    "id": "s70iFjkzQX13"
   },
   "outputs": [],
   "source": []
  }
 ],
 "metadata": {
  "colab": {
   "collapsed_sections": [],
   "name": "ch05_02_bike_sharing.ipynb",
   "provenance": []
  },
  "kernelspec": {
   "display_name": "Python 3",
   "language": "python",
   "name": "python3"
  },
  "language_info": {
   "codemirror_mode": {
    "name": "ipython",
    "version": 3
   },
   "file_extension": ".py",
   "mimetype": "text/x-python",
   "name": "python",
   "nbconvert_exporter": "python",
   "pygments_lexer": "ipython3",
   "version": "3.7.10"
  }
 },
 "nbformat": 4,
 "nbformat_minor": 1
}
